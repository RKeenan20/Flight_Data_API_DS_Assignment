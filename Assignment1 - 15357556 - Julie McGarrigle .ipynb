{
 "cells": [
  {
   "cell_type": "markdown",
   "metadata": {},
   "source": [
    "# Assignment 1: Data Collection & Preparation \n"
   ]
  },
  {
   "cell_type": "markdown",
   "metadata": {},
   "source": [
    "### Name: Julie McGarrigle\n",
    "### Student Name: 15357556\n"
   ]
  },
  {
   "cell_type": "markdown",
   "metadata": {},
   "source": [
    "Before gathering the information, we have to import the relevant modules in order to access functions. Importing Pandas offers two data structures - Data frame and Series - to help in structuring the data in a clear and concise manner. \n",
    "matplotlib is a 2D plotting library that allows us to produce histograms, bar charts etc.\n",
    "Importing the function json_normalize from the module pandas.io.json library allows us to normalize a nested json file.\n",
    "We can also see we import the numpy module with a short name, np. This allows you to deal with large arrays and matrices.\n",
    "\n",
    "There are also two functions included - get_data and write_to_file. The function get_data extracts data using requests.get which allows you to send a HTTP request. Printing out the response, it returns the number 200 if the request succeeded and that the resource is returned. Otherwise, it prints an error message.\n",
    "    The write_to_file function writes the data gathered into a file."
   ]
  },
  {
   "cell_type": "code",
   "execution_count": 1,
   "metadata": {},
   "outputs": [],
   "source": [
    "import pandas as pd\n",
    "import json\n",
    "from pandas.io.json import json_normalize\n",
    "import requests\n",
    "import matplotlib\n",
    "import matplotlib.pyplot as plt\n",
    "import numpy as np \n",
    "%matplotlib inline\n",
    "\n",
    "# function to retrieve the data \n",
    "def get_data(link):\n",
    "    response = requests.get(link)\n",
    "    print(response.status_code)\n",
    "    return response.text\n",
    "    if response.status_code != 200:\n",
    "    # This means something went wrong.\n",
    "        print(\"Something went wrong\")\n",
    "        \n",
    "# function to write the data to a file\n",
    "def write_to_file(file_loc, data):\n",
    "    with open(file_loc, 'w') as outfile:  \n",
    "        json.dump(data, outfile)   "
   ]
  },
  {
   "cell_type": "markdown",
   "metadata": {},
   "source": [
    "# API Chosen: City Bikes"
   ]
  },
  {
   "cell_type": "markdown",
   "metadata": {},
   "source": [
    "I have chosen to focus my assignment on City Bikes. These are available bikes distributed through cities to enable easy access and optimal use. I have decided to use the data from the smart bikes to analyse how the usage of the bikes changes according to the hour of the day and the weather in the city."
   ]
  },
  {
   "cell_type": "markdown",
   "metadata": {},
   "source": [
    "The single API that was chosen for this assignment was provided by www.jcdecaux.com\n",
    "The information on the API was specifically obtained from: https://developer.jcdecaux.com/#/opendata/vls?page=getstarted\n",
    "\n",
    "The API key that works here is: 9dedcdaa55f1ed6ab52bf056c755610e9a5c6242"
   ]
  },
  {
   "cell_type": "markdown",
   "metadata": {},
   "source": [
    "### Step 1: Collecting data"
   ]
  },
  {
   "cell_type": "markdown",
   "metadata": {},
   "source": [
    "First thing to do is to gather the data using the function get_data\n",
    "\n",
    "Only one call of the API is needed at one time since all the information is provided in real-time and all the information is provided on one call."
   ]
  },
  {
   "cell_type": "code",
   "execution_count": 2,
   "metadata": {},
   "outputs": [
    {
     "name": "stdout",
     "output_type": "stream",
     "text": [
      "200\n"
     ]
    }
   ],
   "source": [
    "api_key = \"9dedcdaa55f1ed6ab52bf056c755610e9a5c6242\"\n",
    "link = \"https://api.jcdecaux.com/vls/v1/stations?apiKey=\"+api_key\n",
    "response = get_data(link)"
   ]
  },
  {
   "cell_type": "markdown",
   "metadata": {},
   "source": [
    "As we can see, the response is 200 which indicates a successful request and we can proceed with the preparation of the data."
   ]
  },
  {
   "cell_type": "markdown",
   "metadata": {},
   "source": [
    "Next, in order to be able to manipulate the data and convert the data into tables, we must parse the data. This converts a given string into a dictionary which allows you to access your JSON data easily within your code."
   ]
  },
  {
   "cell_type": "code",
   "execution_count": 3,
   "metadata": {},
   "outputs": [],
   "source": [
    "DataCollected = json.loads(response)"
   ]
  },
  {
   "cell_type": "markdown",
   "metadata": {},
   "source": [
    "### Step 2: Save the information to a json file "
   ]
  },
  {
   "cell_type": "markdown",
   "metadata": {},
   "source": [
    "Using the dump() method from the json library, we can write data to files. We can created a json file and using json.dump(), the data called DataCollected can be written to the file. This is done within the function write_to_file"
   ]
  },
  {
   "cell_type": "code",
   "execution_count": 4,
   "metadata": {},
   "outputs": [],
   "source": [
    "filename = '.json'   #insert name of file\n",
    "write_to_file(filename, DataCollected)"
   ]
  },
  {
   "cell_type": "markdown",
   "metadata": {},
   "source": [
    "### Step 3: Open a file that has information stored in it already "
   ]
  },
  {
   "cell_type": "markdown",
   "metadata": {},
   "source": [
    "If we want to load data that we have saved in a file into the notebook, we use the following commands:"
   ]
  },
  {
   "cell_type": "code",
   "execution_count": 5,
   "metadata": {
    "scrolled": false
   },
   "outputs": [],
   "source": [
    "with open(filename, 'r') as file:\n",
    "    Data = json.load(file)"
   ]
  },
  {
   "cell_type": "markdown",
   "metadata": {},
   "source": [
    "### Step 4: Producing the data as a dataframe "
   ]
  },
  {
   "cell_type": "markdown",
   "metadata": {},
   "source": [
    "In order to be able to analyse the data and view it in a clear and concise manner, we can convert the data into a dataframe. Firstly, we have to normalize the data into a flat table using json_normalize(). We then call on pd.DataFrame() which creates a 2 dimensional data structure with labeled axes."
   ]
  },
  {
   "cell_type": "code",
   "execution_count": 6,
   "metadata": {},
   "outputs": [],
   "source": [
    "Data = json_normalize(Data)\n",
    "Data2=pd.DataFrame(Data)"
   ]
  },
  {
   "cell_type": "markdown",
   "metadata": {},
   "source": [
    "Next, i am going to present some examples of how i analysed the data to see trends/patterns"
   ]
  },
  {
   "cell_type": "markdown",
   "metadata": {},
   "source": [
    "## Example 1: City Bikes - 01/03/2019 at 20:56 pm "
   ]
  },
  {
   "cell_type": "markdown",
   "metadata": {},
   "source": [
    "The first example is information taken from the city bikes on the Friday 1st March 2019 at 20:56 pm. This example focuses on filtering the dataframe to display only the information of interest. \n",
    "I analyse all the cities that have these bikes installed and identify the city that has the most bike stands/the least bike stands etc.\n",
    "\n",
    "I then filter the information to only contain information concerning Dublin. I analyse the areas of Dublin that have the most bike stands installed and how many bikes are available at this time in certain places."
   ]
  },
  {
   "cell_type": "markdown",
   "metadata": {},
   "source": [
    "### Example 1 Part 1: Analyse all the data"
   ]
  },
  {
   "cell_type": "markdown",
   "metadata": {},
   "source": [
    "Firstly, i have to import the information from a file saved on my computer. Since the information i gather is real-time data, i save the files to my computer as json files to be able to use them at any stage. Therefore, the code below imports the data from the file, in this case, the file is called 'BikeData010320192056'. The numbers in the file name relate to when the data was collected."
   ]
  },
  {
   "cell_type": "code",
   "execution_count": 7,
   "metadata": {},
   "outputs": [],
   "source": [
    "with open('BikeData010320192056.json', 'r') as file1:\n",
    "    Data01032019 = json.load(file1)"
   ]
  },
  {
   "cell_type": "markdown",
   "metadata": {},
   "source": [
    "As stated previously, the data is normalized into a flat table and then produced as a dataframe."
   ]
  },
  {
   "cell_type": "code",
   "execution_count": 8,
   "metadata": {},
   "outputs": [],
   "source": [
    "DataCollected01032019 = json_normalize(Data01032019)\n",
    "DataFrame01032019=pd.DataFrame(DataCollected01032019)"
   ]
  },
  {
   "cell_type": "markdown",
   "metadata": {},
   "source": [
    "From the data frame, i can see that i am only interested in the following columns: address, available_bike_stands, available_bikes, bike_stands and contract_name. Therefore, i am going to remove the other columns present."
   ]
  },
  {
   "cell_type": "code",
   "execution_count": 12,
   "metadata": {},
   "outputs": [],
   "source": [
    "CleanDataFrame01032019=DataFrame01032019.drop(DataFrame01032019.columns[[3,5,7,8,9,10,11,12]], axis=1)"
   ]
  },
  {
   "cell_type": "markdown",
   "metadata": {},
   "source": [
    "We check that there is no missing data"
   ]
  },
  {
   "cell_type": "code",
   "execution_count": 10,
   "metadata": {},
   "outputs": [
    {
     "data": {
      "text/plain": [
       "address                  0\n",
       "available_bike_stands    0\n",
       "available_bikes          0\n",
       "bike_stands              0\n",
       "contract_name            0\n",
       "dtype: int64"
      ]
     },
     "execution_count": 10,
     "metadata": {},
     "output_type": "execute_result"
    }
   ],
   "source": [
    "CleanDataFrame01032019.isnull().sum() # no missing values in the reduced dataset "
   ]
  },
  {
   "cell_type": "markdown",
   "metadata": {},
   "source": [
    "#### Description Of Information Provided in DataFrame\n",
    "\n",
    "address = street of the bike stand\n",
    "\n",
    "bike_stands = the number of operational bike stands at this station\n",
    "\n",
    "available_bike_stands = the number of available bike stands at this station \n",
    "\n",
    "available_bikes = the number of available and operational bikes at this station\n",
    "\n",
    "contract_name = city"
   ]
  },
  {
   "cell_type": "markdown",
   "metadata": {},
   "source": [
    "Grouping the data according to the contract name and finding the amount of times each contract name is mentioned allows us to capture how many bike stations there are in the different countries. Example: Brisbane has 151 bike stations altogether.\n",
    "We can see that Brussels has the most amount of bike stations, having a total of 349. Kazan and Lillestrom have the least amount of bike stations, having a total of only 6. Considering the population of Lillestrom is 14,000, we would expect this low number of stations. However, the population of Kazan is 1.169 million, yet there are only 6 bike stations. Comparing Kazan to Brussels which have similar populations, there is a major difference between the amount of bike stations in the cities. This could be due to the typical weather of the cities. Kazan would experience snow and cold temperatures (-7 degrees to -15 degrees) from November until March, making it very hard to be able to cycle around the city. While Brussels would experience slightly milder temperatures (2 degrees to 7 degrees). Alternatively, Brussels could be more suitable to cycling in terms of cycling tracks etc compared to Kazan.\n"
   ]
  },
  {
   "cell_type": "code",
   "execution_count": 13,
   "metadata": {},
   "outputs": [],
   "source": [
    "TotalNumberOfStations01032019 = CleanDataFrame01032019['contract_name'].value_counts()\n",
    "TotalNumberOfStations01032019 = pd.DataFrame(TotalNumberOfStations01032019)"
   ]
  },
  {
   "cell_type": "code",
   "execution_count": 14,
   "metadata": {},
   "outputs": [
    {
     "data": {
      "image/png": "[encoded data removed]",
      "text/plain": [
       "<Figure size 432x288 with 1 Axes>"
      ]
     },
     "metadata": {
      "needs_background": "light"
     },
     "output_type": "display_data"
    }
   ],
   "source": [
    "TotalBikesInformationDataFrame01032019=CleanDataFrame01032019.groupby('contract_name')\n",
    "TotalBikesDataFrame01032019=TotalBikesInformationDataFrame01032019.sum()\n",
    "TotalBikesDataFrame01032019=TotalBikesDataFrame01032019.sort_values('bike_stands', ascending = False)\n",
    "my_plot = TotalBikesDataFrame01032019.plot(kind='bar')"
   ]
  },
  {
   "cell_type": "markdown",
   "metadata": {},
   "source": [
    "Plotting the total number of bike stands, available bikes and available bike stands according to the contract name gives us a better view of places where the bike scheme is popular. Then again, we get an even clearer view when we plot them in descending order of number of bike stands. Since Brussels has the most amount of bike stations, we expect it to have the highest number of bike stands. Since this is true, we see Brussels plotted on the left of the graph. We see Lillestrom and Kazan plotted on the right of the graph with the least amount of bike stands. Out of the 26 cities shown in the graph, Dublin comes 6th place with the number of bike stands equalling approximately 3500. To see the exact number of bike stands in Dublin, see the code below. "
   ]
  },
  {
   "cell_type": "markdown",
   "metadata": {},
   "source": [
    "Calculating the exact number of bike stands in Dublin City "
   ]
  },
  {
   "cell_type": "code",
   "execution_count": 15,
   "metadata": {},
   "outputs": [],
   "source": [
    "DublinInformation=CleanDataFrame01032019[CleanDataFrame01032019[\"contract_name\"] == 'Dublin']\n",
    "TotalNumberOfBikeStandsInDublin= DublinInformation['bike_stands'].sum()"
   ]
  },
  {
   "cell_type": "markdown",
   "metadata": {},
   "source": [
    "If we look at Vilnius, we can see that there are a small amount of bike stations. However, there are no available bikes or bike stands at these stations. This would make us think that these stations are not in use. If we filter the data to display information on Vilnius only and see the status code, we can see if the bike system is still in use in the city. "
   ]
  },
  {
   "cell_type": "code",
   "execution_count": 16,
   "metadata": {},
   "outputs": [],
   "source": [
    "VilniusStationsDataFrame01032019 = DataFrame01032019[DataFrame01032019[\"contract_name\"] == 'Vilnius']"
   ]
  },
  {
   "cell_type": "markdown",
   "metadata": {},
   "source": [
    "All the bike stations for Vilnius show a status of 'CLOSED' implying that none of the bike stations are in use. This presents the idea that not all bike stands are in use for another cities too. Therefore, before we begin analysing how the data changes at different times of the day, we need to remove the data of bike stations that are not in use anymore aka remove bike stations with a status of 'CLOSED'. We can see this below in the code. "
   ]
  },
  {
   "cell_type": "code",
   "execution_count": 17,
   "metadata": {},
   "outputs": [],
   "source": [
    "OperatingStationsDataFrame01032019 = DataFrame01032019[DataFrame01032019[\"status\"] == 'OPEN']\n",
    "OperatingStationsDataFrame01032019=OperatingStationsDataFrame01032019.drop(OperatingStationsDataFrame01032019.columns[[3,5,7,8,9,10,11,12]], axis=1)"
   ]
  },
  {
   "cell_type": "code",
   "execution_count": 18,
   "metadata": {},
   "outputs": [
    {
     "data": {
      "image/png": "[encoded data removed]",
      "text/plain": [
       "<Figure size 432x288 with 1 Axes>"
      ]
     },
     "metadata": {
      "needs_background": "light"
     },
     "output_type": "display_data"
    }
   ],
   "source": [
    "TotalBikesInformationOperatingStationsDataFrame01032019=OperatingStationsDataFrame01032019.groupby('contract_name')\n",
    "TotalBikesOperatingStationsDataFrame01032019=TotalBikesInformationOperatingStationsDataFrame01032019.sum()\n",
    "TotalBikesOperatingStationsDataFrame01032019=TotalBikesOperatingStationsDataFrame01032019.sort_values('bike_stands', ascending = False)\n",
    "my_plot = TotalBikesOperatingStationsDataFrame01032019.plot(kind='bar')"
   ]
  },
  {
   "cell_type": "code",
   "execution_count": 19,
   "metadata": {},
   "outputs": [
    {
     "data": {
      "text/html": [
       "<div>\n",
       "<style scoped>\n",
       "    .dataframe tbody tr th:only-of-type {\n",
       "        vertical-align: middle;\n",
       "    }\n",
       "\n",
       "    .dataframe tbody tr th {\n",
       "        vertical-align: top;\n",
       "    }\n",
       "\n",
       "    .dataframe thead th {\n",
       "        text-align: right;\n",
       "    }\n",
       "</style>\n",
       "<table border=\"1\" class=\"dataframe\">\n",
       "  <thead>\n",
       "    <tr style=\"text-align: right;\">\n",
       "      <th></th>\n",
       "      <th>available_bike_stands</th>\n",
       "      <th>available_bikes</th>\n",
       "      <th>bike_stands</th>\n",
       "    </tr>\n",
       "  </thead>\n",
       "  <tbody>\n",
       "    <tr>\n",
       "      <th>count</th>\n",
       "      <td>2498.000000</td>\n",
       "      <td>2498.000000</td>\n",
       "      <td>2498.000000</td>\n",
       "    </tr>\n",
       "    <tr>\n",
       "      <th>mean</th>\n",
       "      <td>11.056045</td>\n",
       "      <td>9.469576</td>\n",
       "      <td>20.845877</td>\n",
       "    </tr>\n",
       "    <tr>\n",
       "      <th>std</th>\n",
       "      <td>7.682740</td>\n",
       "      <td>6.863046</td>\n",
       "      <td>6.716636</td>\n",
       "    </tr>\n",
       "    <tr>\n",
       "      <th>min</th>\n",
       "      <td>0.000000</td>\n",
       "      <td>0.000000</td>\n",
       "      <td>0.000000</td>\n",
       "    </tr>\n",
       "    <tr>\n",
       "      <th>25%</th>\n",
       "      <td>5.000000</td>\n",
       "      <td>4.000000</td>\n",
       "      <td>16.000000</td>\n",
       "    </tr>\n",
       "    <tr>\n",
       "      <th>50%</th>\n",
       "      <td>10.000000</td>\n",
       "      <td>9.000000</td>\n",
       "      <td>20.000000</td>\n",
       "    </tr>\n",
       "    <tr>\n",
       "      <th>75%</th>\n",
       "      <td>15.000000</td>\n",
       "      <td>14.000000</td>\n",
       "      <td>24.000000</td>\n",
       "    </tr>\n",
       "    <tr>\n",
       "      <th>max</th>\n",
       "      <td>49.000000</td>\n",
       "      <td>44.000000</td>\n",
       "      <td>69.000000</td>\n",
       "    </tr>\n",
       "  </tbody>\n",
       "</table>\n",
       "</div>"
      ],
      "text/plain": [
       "       available_bike_stands  available_bikes  bike_stands\n",
       "count            2498.000000      2498.000000  2498.000000\n",
       "mean               11.056045         9.469576    20.845877\n",
       "std                 7.682740         6.863046     6.716636\n",
       "min                 0.000000         0.000000     0.000000\n",
       "25%                 5.000000         4.000000    16.000000\n",
       "50%                10.000000         9.000000    20.000000\n",
       "75%                15.000000        14.000000    24.000000\n",
       "max                49.000000        44.000000    69.000000"
      ]
     },
     "execution_count": 19,
     "metadata": {},
     "output_type": "execute_result"
    }
   ],
   "source": [
    "OperatingStationsDataFrame01032019.describe()"
   ]
  },
  {
   "cell_type": "markdown",
   "metadata": {},
   "source": [
    "Using describe() provides a detailed summary of the information in the dataframe. \n",
    "\n",
    "We can see that count is 2498 for all columns. This is another way of checking that there are no missing fields. Since the count is the same for all variables, there are no missing fields.\n",
    "\n",
    "The mean and standard deviation are also provided. We can see that the average number of available bike stands is approx 11, the average number of available bikes is approx 9 and the average number of bike stands is approx 20. \n",
    "The standard deviation tells us how much the data is spread above or below the mean. In this case, the standard deviation is below the mean in all cases, meaning the data is close to the average.\n",
    "\n",
    "The minimum number of available bike stands, the minimum number of available bikes and the minimum number of bike stands are all is 0.\n",
    "\n",
    "The maximum number of available bike stands is 49.\n",
    "The maximum number of available bikes is 44\n",
    "The maximum number of bike stands is 69."
   ]
  },
  {
   "cell_type": "markdown",
   "metadata": {},
   "source": [
    "Next, i decided to examine the correlation between different columns in dataframe. I first focused on the correlation between the number of operational bike stands at a station (bike_stands) and the number of operational bikes at the station (available_bikes). I would have presumed the correlation would be high in this case since if the number of bike stands was high at a particular station, you would expect a higher chance of an available bike being there. To perform the correlation, we can use corr() which produces a table of the correlations of each of the factors."
   ]
  },
  {
   "cell_type": "code",
   "execution_count": 20,
   "metadata": {},
   "outputs": [
    {
     "data": {
      "text/html": [
       "<div>\n",
       "<style scoped>\n",
       "    .dataframe tbody tr th:only-of-type {\n",
       "        vertical-align: middle;\n",
       "    }\n",
       "\n",
       "    .dataframe tbody tr th {\n",
       "        vertical-align: top;\n",
       "    }\n",
       "\n",
       "    .dataframe thead th {\n",
       "        text-align: right;\n",
       "    }\n",
       "</style>\n",
       "<table border=\"1\" class=\"dataframe\">\n",
       "  <thead>\n",
       "    <tr style=\"text-align: right;\">\n",
       "      <th></th>\n",
       "      <th>bike_stands</th>\n",
       "      <th>available_bikes</th>\n",
       "    </tr>\n",
       "  </thead>\n",
       "  <tbody>\n",
       "    <tr>\n",
       "      <th>bike_stands</th>\n",
       "      <td>1.000000</td>\n",
       "      <td>0.355358</td>\n",
       "    </tr>\n",
       "    <tr>\n",
       "      <th>available_bikes</th>\n",
       "      <td>0.355358</td>\n",
       "      <td>1.000000</td>\n",
       "    </tr>\n",
       "  </tbody>\n",
       "</table>\n",
       "</div>"
      ],
      "text/plain": [
       "                 bike_stands  available_bikes\n",
       "bike_stands         1.000000         0.355358\n",
       "available_bikes     0.355358         1.000000"
      ]
     },
     "execution_count": 20,
     "metadata": {},
     "output_type": "execute_result"
    }
   ],
   "source": [
    "BikeStandsVSAvailableBikeStands01032019 = OperatingStationsDataFrame01032019[['bike_stands', 'available_bikes']]\n",
    "BikeStandsVSAvailableBikeStands01032019.shape\n",
    "BikeStandsVSAvailableBikeStands01032019.corr()"
   ]
  },
  {
   "cell_type": "markdown",
   "metadata": {},
   "source": [
    "As we can see from the table, the correlation between the number of bike stands and the number of available bikes at the station have a low correlation, which is not what was expected. This means that as the number of bike stands increases, the number of available bikes only increases slightly. In hingsight, it does make sense that there would be a low correlation between these two factors since there will be a large number of bikes placed at a station that is in high demand. Therefore, more people will use the available bikes at this station.\n",
    "We can get a clearer idea of the correlation by plotting the two factors in a scatter plot as seen below. When plotting, i decided to only consider the first 200 since the shape of the matrix of bike stands and available bikes is (2547, 2). Plotting 2547 bits of information on the scatter plot looked overcrowded. In the plot, it is obvious that there is no clear correlation between the two factors as the plot shows no definite linearity. However, we can see that it has a slight positive correlation as expected from our calculation. Also, we can notice an obvious outliner where (Number of Bike Stands, Number of Available Bikes)=(50, ~42)."
   ]
  },
  {
   "cell_type": "code",
   "execution_count": 21,
   "metadata": {
    "scrolled": true
   },
   "outputs": [
    {
     "data": {
      "image/png": "[encoded data removed]",
      "text/plain": [
       "<Figure size 432x288 with 1 Axes>"
      ]
     },
     "metadata": {
      "needs_background": "light"
     },
     "output_type": "display_data"
    }
   ],
   "source": [
    "X= OperatingStationsDataFrame01032019['bike_stands'].head(100)\n",
    "Y= OperatingStationsDataFrame01032019['available_bikes'].head(100)\n",
    "plot = matplotlib.pyplot.scatter(X, Y)\n",
    "plt.xlabel(\"Number of Bike Stands\")\n",
    "plt.ylabel(\"Number of Available Bikes\")\n",
    "plt.show()"
   ]
  },
  {
   "cell_type": "markdown",
   "metadata": {},
   "source": [
    "We can perform the correlation again but for two different factors this time - Number of Available Bikes versus Number of Available Bike Stands. We would expect a negative correlation in this case since if the number of available bikes is low at a station, it is obvious that the number of available bike stands would be high.\n",
    "In order to see better results, we can limit the values that we are interested in. If we focus the data on the number of the bike stands between 20 and 30, we can see a clear negative correlation."
   ]
  },
  {
   "cell_type": "code",
   "execution_count": 22,
   "metadata": {},
   "outputs": [
    {
     "data": {
      "text/html": [
       "<div>\n",
       "<style scoped>\n",
       "    .dataframe tbody tr th:only-of-type {\n",
       "        vertical-align: middle;\n",
       "    }\n",
       "\n",
       "    .dataframe tbody tr th {\n",
       "        vertical-align: top;\n",
       "    }\n",
       "\n",
       "    .dataframe thead th {\n",
       "        text-align: right;\n",
       "    }\n",
       "</style>\n",
       "<table border=\"1\" class=\"dataframe\">\n",
       "  <thead>\n",
       "    <tr style=\"text-align: right;\">\n",
       "      <th></th>\n",
       "      <th>available_bike_stands</th>\n",
       "      <th>available_bikes</th>\n",
       "    </tr>\n",
       "  </thead>\n",
       "  <tbody>\n",
       "    <tr>\n",
       "      <th>available_bike_stands</th>\n",
       "      <td>1.000000</td>\n",
       "      <td>-0.875094</td>\n",
       "    </tr>\n",
       "    <tr>\n",
       "      <th>available_bikes</th>\n",
       "      <td>-0.875094</td>\n",
       "      <td>1.000000</td>\n",
       "    </tr>\n",
       "  </tbody>\n",
       "</table>\n",
       "</div>"
      ],
      "text/plain": [
       "                       available_bike_stands  available_bikes\n",
       "available_bike_stands               1.000000        -0.875094\n",
       "available_bikes                    -0.875094         1.000000"
      ]
     },
     "execution_count": 22,
     "metadata": {},
     "output_type": "execute_result"
    }
   ],
   "source": [
    "LimitedDataFrame01032019 = OperatingStationsDataFrame01032019[(OperatingStationsDataFrame01032019['bike_stands'] >= 20) & (OperatingStationsDataFrame01032019['bike_stands'] <= 30)]\n",
    "AvailableBikesVSAvailableBikeStands01032019 = LimitedDataFrame01032019[['available_bike_stands', 'available_bikes']]\n",
    "AvailableBikesVSAvailableBikeStands01032019.shape\n",
    "AvailableBikesVSAvailableBikeStands01032019.corr()"
   ]
  },
  {
   "cell_type": "markdown",
   "metadata": {},
   "source": [
    "As predicted, we can see that the correlation between available bikes and available bike stands is negatively correlated with a value of approximately -0.875. The plot below illustrates that again - there is a clear decrease in the number of available bikes as the number of available bike stands increases."
   ]
  },
  {
   "cell_type": "code",
   "execution_count": 66,
   "metadata": {},
   "outputs": [
    {
     "data": {
      "image/png": "[encoded data removed]",
      "text/plain": [
       "<Figure size 432x288 with 1 Axes>"
      ]
     },
     "metadata": {
      "needs_background": "light"
     },
     "output_type": "display_data"
    }
   ],
   "source": [
    "#--------------------Plot------------------------------------\n",
    "X= LimitedDataFrame01032019['available_bike_stands'].head(75)\n",
    "Y= LimitedDataFrame01032019['available_bikes'].head(75)\n",
    "plot = matplotlib.pyplot.scatter(X, Y)\n",
    "plt.xlabel(\"Number of Available Bike Stands\")\n",
    "plt.ylabel(\"Number of Available Bikes\")\n",
    "plt.show()"
   ]
  },
  {
   "cell_type": "markdown",
   "metadata": {},
   "source": [
    "### Example 1 Part 2: Analysing the data concering Dublin"
   ]
  },
  {
   "cell_type": "markdown",
   "metadata": {},
   "source": [
    "Next, I gather all the bike data and filter it to only produce the data about Dublin. I then sort the data in terms of the number of bike stands at each station in ascending order. This gives an idea of where the most amount of bike stands are. My presumption is that tourists and working people use the bikes the most. Therefore, i would expect to see the highest amount of bike stands around IFSC and grand canal dock but also in places that are a bit further out from the city centre that are tourist attractions eg. Kilmainham Gaol. This gives tourists the ability to cycle to these tourist attractions from/to the centre of the city with ease. It also gives people the opportunity to use the bikes as part of their commute."
   ]
  },
  {
   "cell_type": "code",
   "execution_count": 24,
   "metadata": {},
   "outputs": [],
   "source": [
    "DublinDataFrame01032019 = OperatingStationsDataFrame01032019[OperatingStationsDataFrame01032019['contract_name'] == 'Dublin']\n",
    "DublinDataFrame01032019 = DublinDataFrame01032019.sort_values('bike_stands', ascending = False)"
   ]
  },
  {
   "cell_type": "markdown",
   "metadata": {},
   "source": [
    "We can see from the dataframe that the maximum number of bike stands that can be at any station is 40 while the minimum is 16.\n",
    "As predicted, some of the places that have the maximum number of the bike stands such as Kilmainham Gaol, The Point, Heuston Station are a bit further out from the city of the centre. Thus, having the bike stands in these positions allows people to access the centre of the city easily on the bikes. \n",
    "The two places with the least amount of bikes (bikes stands = 16) are Hardwicke Street and Dame Street. Dame Street is very central in Dublin and therefore, people would be more inclined to walk around the area. It can also be very busy with buses, cars and luas. Thus, there is less room for bike stands.\n",
    "Because Hardwicke Street is further out of the centre and there are not as many tourist sites etc in that direction, we can presume there is less demand."
   ]
  },
  {
   "cell_type": "code",
   "execution_count": 26,
   "metadata": {},
   "outputs": [
    {
     "data": {
      "text/html": [
       "<div>\n",
       "<style scoped>\n",
       "    .dataframe tbody tr th:only-of-type {\n",
       "        vertical-align: middle;\n",
       "    }\n",
       "\n",
       "    .dataframe tbody tr th {\n",
       "        vertical-align: top;\n",
       "    }\n",
       "\n",
       "    .dataframe thead th {\n",
       "        text-align: right;\n",
       "    }\n",
       "</style>\n",
       "<table border=\"1\" class=\"dataframe\">\n",
       "  <thead>\n",
       "    <tr style=\"text-align: right;\">\n",
       "      <th></th>\n",
       "      <th>available_bike_stands</th>\n",
       "      <th>available_bikes</th>\n",
       "      <th>bike_stands</th>\n",
       "    </tr>\n",
       "  </thead>\n",
       "  <tbody>\n",
       "    <tr>\n",
       "      <th>count</th>\n",
       "      <td>112.000000</td>\n",
       "      <td>112.000000</td>\n",
       "      <td>112.000000</td>\n",
       "    </tr>\n",
       "    <tr>\n",
       "      <th>mean</th>\n",
       "      <td>20.339286</td>\n",
       "      <td>11.464286</td>\n",
       "      <td>31.991071</td>\n",
       "    </tr>\n",
       "    <tr>\n",
       "      <th>std</th>\n",
       "      <td>11.805903</td>\n",
       "      <td>9.842845</td>\n",
       "      <td>7.561752</td>\n",
       "    </tr>\n",
       "    <tr>\n",
       "      <th>min</th>\n",
       "      <td>0.000000</td>\n",
       "      <td>0.000000</td>\n",
       "      <td>16.000000</td>\n",
       "    </tr>\n",
       "    <tr>\n",
       "      <th>25%</th>\n",
       "      <td>13.000000</td>\n",
       "      <td>3.000000</td>\n",
       "      <td>29.000000</td>\n",
       "    </tr>\n",
       "    <tr>\n",
       "      <th>50%</th>\n",
       "      <td>20.000000</td>\n",
       "      <td>10.000000</td>\n",
       "      <td>30.000000</td>\n",
       "    </tr>\n",
       "    <tr>\n",
       "      <th>75%</th>\n",
       "      <td>29.000000</td>\n",
       "      <td>18.000000</td>\n",
       "      <td>40.000000</td>\n",
       "    </tr>\n",
       "    <tr>\n",
       "      <th>max</th>\n",
       "      <td>40.000000</td>\n",
       "      <td>40.000000</td>\n",
       "      <td>40.000000</td>\n",
       "    </tr>\n",
       "  </tbody>\n",
       "</table>\n",
       "</div>"
      ],
      "text/plain": [
       "       available_bike_stands  available_bikes  bike_stands\n",
       "count             112.000000       112.000000   112.000000\n",
       "mean               20.339286        11.464286    31.991071\n",
       "std                11.805903         9.842845     7.561752\n",
       "min                 0.000000         0.000000    16.000000\n",
       "25%                13.000000         3.000000    29.000000\n",
       "50%                20.000000        10.000000    30.000000\n",
       "75%                29.000000        18.000000    40.000000\n",
       "max                40.000000        40.000000    40.000000"
      ]
     },
     "execution_count": 26,
     "metadata": {},
     "output_type": "execute_result"
    }
   ],
   "source": [
    "DublinDataFrame01032019.describe()"
   ]
  },
  {
   "cell_type": "markdown",
   "metadata": {},
   "source": [
    "Using the describe() function, we can gather the general information regarding the bike scheme in Dublin such as average available bike stands etc.\n",
    "\n",
    "On average, there is around 11 bikes available at a stand. \n",
    "\n",
    "On average, there are 20 bike stands free.\n",
    "\n",
    "The maximum number of available bike stands and available bikes is 40"
   ]
  },
  {
   "cell_type": "markdown",
   "metadata": {},
   "source": [
    "It is interesting to examine the stations that have the most bike stands and analyse their usage. Above we saw that the maximum number of bike stands at a station is 40. Therefore, if we filter the information to display only the stations that have 40 bike stands and analyse the usage from there. "
   ]
  },
  {
   "cell_type": "code",
   "execution_count": 27,
   "metadata": {},
   "outputs": [],
   "source": [
    "LimitedDublinDataFrame01032019 = DublinDataFrame01032019[(DublinDataFrame01032019['bike_stands'] == 40)]"
   ]
  },
  {
   "cell_type": "markdown",
   "metadata": {},
   "source": [
    "Considering the time of day this information was collected at - 20:56 pm on a Friday evening - we dont expect that many of the bikes would be used at this time. Therefore, we would expect that the number of available bikes would be around the same value as the number of bike stands. However, from analysing the data below, this is not the result we get. The average number of available bikes is approx 14 while the average number of bike stands is approx 32."
   ]
  },
  {
   "cell_type": "code",
   "execution_count": 29,
   "metadata": {},
   "outputs": [
    {
     "data": {
      "text/html": [
       "<div>\n",
       "<style scoped>\n",
       "    .dataframe tbody tr th:only-of-type {\n",
       "        vertical-align: middle;\n",
       "    }\n",
       "\n",
       "    .dataframe tbody tr th {\n",
       "        vertical-align: top;\n",
       "    }\n",
       "\n",
       "    .dataframe thead th {\n",
       "        text-align: right;\n",
       "    }\n",
       "</style>\n",
       "<table border=\"1\" class=\"dataframe\">\n",
       "  <thead>\n",
       "    <tr style=\"text-align: right;\">\n",
       "      <th></th>\n",
       "      <th>available_bikes</th>\n",
       "      <th>bike_stands</th>\n",
       "      <th>available_bike_stands</th>\n",
       "    </tr>\n",
       "  </thead>\n",
       "  <tbody>\n",
       "    <tr>\n",
       "      <th>count</th>\n",
       "      <td>20.000000</td>\n",
       "      <td>20.000000</td>\n",
       "      <td>20.000000</td>\n",
       "    </tr>\n",
       "    <tr>\n",
       "      <th>mean</th>\n",
       "      <td>14.350000</td>\n",
       "      <td>32.250000</td>\n",
       "      <td>17.900000</td>\n",
       "    </tr>\n",
       "    <tr>\n",
       "      <th>std</th>\n",
       "      <td>11.127373</td>\n",
       "      <td>6.927254</td>\n",
       "      <td>12.396519</td>\n",
       "    </tr>\n",
       "    <tr>\n",
       "      <th>min</th>\n",
       "      <td>0.000000</td>\n",
       "      <td>20.000000</td>\n",
       "      <td>0.000000</td>\n",
       "    </tr>\n",
       "    <tr>\n",
       "      <th>25%</th>\n",
       "      <td>3.500000</td>\n",
       "      <td>30.000000</td>\n",
       "      <td>7.500000</td>\n",
       "    </tr>\n",
       "    <tr>\n",
       "      <th>50%</th>\n",
       "      <td>13.000000</td>\n",
       "      <td>30.000000</td>\n",
       "      <td>18.500000</td>\n",
       "    </tr>\n",
       "    <tr>\n",
       "      <th>75%</th>\n",
       "      <td>25.750000</td>\n",
       "      <td>40.000000</td>\n",
       "      <td>26.500000</td>\n",
       "    </tr>\n",
       "    <tr>\n",
       "      <th>max</th>\n",
       "      <td>30.000000</td>\n",
       "      <td>40.000000</td>\n",
       "      <td>40.000000</td>\n",
       "    </tr>\n",
       "  </tbody>\n",
       "</table>\n",
       "</div>"
      ],
      "text/plain": [
       "       available_bikes  bike_stands  available_bike_stands\n",
       "count        20.000000    20.000000              20.000000\n",
       "mean         14.350000    32.250000              17.900000\n",
       "std          11.127373     6.927254              12.396519\n",
       "min           0.000000    20.000000               0.000000\n",
       "25%           3.500000    30.000000               7.500000\n",
       "50%          13.000000    30.000000              18.500000\n",
       "75%          25.750000    40.000000              26.500000\n",
       "max          30.000000    40.000000              40.000000"
      ]
     },
     "execution_count": 29,
     "metadata": {},
     "output_type": "execute_result"
    },
    {
     "data": {
      "image/png": "[encoded data removed]",
      "text/plain": [
       "<Figure size 432x288 with 1 Axes>"
      ]
     },
     "metadata": {
      "needs_background": "light"
     },
     "output_type": "display_data"
    }
   ],
   "source": [
    "DublinBikeData01032019=CleanDataFrame01032019[CleanDataFrame01032019[\"contract_name\"] == \"Dublin\"]\n",
    "DublinBikeData01032019=DublinBikeData01032019.iloc[0:20]\n",
    "DublinBikeDataClean01032019=DublinBikeData01032019[['available_bikes', 'bike_stands', 'available_bike_stands', 'address']]\n",
    "BikesGroupDublin01032019=DublinBikeDataClean01032019.groupby('address')\n",
    "TotalBikes01032019=BikesGroupDublin01032019.sum()\n",
    "\n",
    "my_plot1 = TotalBikes01032019.plot(kind='bar')\n",
    "TotalBikes01032019.describe()"
   ]
  },
  {
   "cell_type": "markdown",
   "metadata": {},
   "source": [
    "In many places such as Fownes Street Upper, Portobello Road and Custom House, the number of available bikes is similar to the number of bike stands, implying that at this time, this stations are not in high demand. However, its not the case for every place. Clonmel Street and Avondale Street do not have many available bikes so this implies that they are stations of high demand. Frederick Street South and Hanover Quay have no available bikes at all. Therefore, this implies that these stations are either very popular at this time or they are popular places to get a bike from early in the day but not as popular of stations to leave the bike back."
   ]
  },
  {
   "cell_type": "markdown",
   "metadata": {},
   "source": [
    "### Example 1 Part 2: 11th March 2019 at 9:00am - 12:00pm - 15:00pm - 18:00pm\n"
   ]
  },
  {
   "cell_type": "markdown",
   "metadata": {},
   "source": [
    "The next part is based on analysing how the usage of bikes changes throughout the day. This will allow us to indentify the popular stations in the city. I collected data on the 11th March 2019 at the following times: 9:00 am, 12:00 pm, 15:00 pm, 18:00 pm. Both 9:00am and 18:00 pm are in the peak rush hour time while 12:00 pm and 15:00 pm wouldnt be as busy. We would expect that the usage of bikes at 9:00am and 18:00pm would be busy compared to 12:00 pm and 15:00pm. "
   ]
  },
  {
   "cell_type": "markdown",
   "metadata": {},
   "source": [
    "###### Importing the data for 11th March 2019 at 9:00am "
   ]
  },
  {
   "cell_type": "code",
   "execution_count": 30,
   "metadata": {},
   "outputs": [],
   "source": [
    "with open('BikeData110320190900.json', 'r') as file:\n",
    "    Data = json.load(file)\n",
    "    \n",
    "DataCollected110320190900 = json_normalize(Data)\n",
    "DataFrame110320190900=pd.DataFrame(DataCollected110320190900)"
   ]
  },
  {
   "cell_type": "markdown",
   "metadata": {},
   "source": [
    "Filter the information to only display information concerning Dublin and information from columns of interest with all stations of status closed removed from the data"
   ]
  },
  {
   "cell_type": "code",
   "execution_count": 32,
   "metadata": {},
   "outputs": [
    {
     "data": {
      "text/html": [
       "<div>\n",
       "<style scoped>\n",
       "    .dataframe tbody tr th:only-of-type {\n",
       "        vertical-align: middle;\n",
       "    }\n",
       "\n",
       "    .dataframe tbody tr th {\n",
       "        vertical-align: top;\n",
       "    }\n",
       "\n",
       "    .dataframe thead th {\n",
       "        text-align: right;\n",
       "    }\n",
       "</style>\n",
       "<table border=\"1\" class=\"dataframe\">\n",
       "  <thead>\n",
       "    <tr style=\"text-align: right;\">\n",
       "      <th></th>\n",
       "      <th>available_bikes</th>\n",
       "      <th>bike_stands</th>\n",
       "      <th>available_bike_stands</th>\n",
       "    </tr>\n",
       "  </thead>\n",
       "  <tbody>\n",
       "    <tr>\n",
       "      <th>count</th>\n",
       "      <td>20.000000</td>\n",
       "      <td>20.000000</td>\n",
       "      <td>20.000000</td>\n",
       "    </tr>\n",
       "    <tr>\n",
       "      <th>mean</th>\n",
       "      <td>8.950000</td>\n",
       "      <td>32.250000</td>\n",
       "      <td>23.150000</td>\n",
       "    </tr>\n",
       "    <tr>\n",
       "      <th>std</th>\n",
       "      <td>12.630269</td>\n",
       "      <td>6.927254</td>\n",
       "      <td>11.913173</td>\n",
       "    </tr>\n",
       "    <tr>\n",
       "      <th>min</th>\n",
       "      <td>0.000000</td>\n",
       "      <td>20.000000</td>\n",
       "      <td>0.000000</td>\n",
       "    </tr>\n",
       "    <tr>\n",
       "      <th>25%</th>\n",
       "      <td>0.000000</td>\n",
       "      <td>30.000000</td>\n",
       "      <td>14.500000</td>\n",
       "    </tr>\n",
       "    <tr>\n",
       "      <th>50%</th>\n",
       "      <td>3.000000</td>\n",
       "      <td>30.000000</td>\n",
       "      <td>26.000000</td>\n",
       "    </tr>\n",
       "    <tr>\n",
       "      <th>75%</th>\n",
       "      <td>13.000000</td>\n",
       "      <td>40.000000</td>\n",
       "      <td>30.000000</td>\n",
       "    </tr>\n",
       "    <tr>\n",
       "      <th>max</th>\n",
       "      <td>40.000000</td>\n",
       "      <td>40.000000</td>\n",
       "      <td>40.000000</td>\n",
       "    </tr>\n",
       "  </tbody>\n",
       "</table>\n",
       "</div>"
      ],
      "text/plain": [
       "       available_bikes  bike_stands  available_bike_stands\n",
       "count        20.000000    20.000000              20.000000\n",
       "mean          8.950000    32.250000              23.150000\n",
       "std          12.630269     6.927254              11.913173\n",
       "min           0.000000    20.000000               0.000000\n",
       "25%           0.000000    30.000000              14.500000\n",
       "50%           3.000000    30.000000              26.000000\n",
       "75%          13.000000    40.000000              30.000000\n",
       "max          40.000000    40.000000              40.000000"
      ]
     },
     "execution_count": 32,
     "metadata": {},
     "output_type": "execute_result"
    },
    {
     "data": {
      "image/png": "[encoded data removed]",
      "text/plain": [
       "<Figure size 432x288 with 1 Axes>"
      ]
     },
     "metadata": {
      "needs_background": "light"
     },
     "output_type": "display_data"
    }
   ],
   "source": [
    "OperatingStationsDataFrame110320190900 = DataFrame110320190900[DataFrame110320190900[\"status\"] == 'OPEN'] #limiting the stations to only stations that are open\n",
    "CleanDataFrame110320190900=OperatingStationsDataFrame110320190900.drop(OperatingStationsDataFrame110320190900.columns[[3,5,7,8,9,10,11,12]], axis=1) #removing any columns that are not needed\n",
    "DublinBikeData110320190900=CleanDataFrame110320190900[CleanDataFrame110320190900[\"contract_name\"] == \"Dublin\"] #limiting the information to only concern Dublin\n",
    "DublinBikeData110320190900=DublinBikeData110320190900.iloc[0:20] #limiting data to the first 20 rows\n",
    "DublinBikeData110320190900=DublinBikeData110320190900[['available_bikes', 'bike_stands', 'available_bike_stands', 'address']]\n",
    "BikesGroupDublin110320190900=DublinBikeData110320190900.groupby('address')\n",
    "TotalBikes110320190900=BikesGroupDublin110320190900.sum()\n",
    "\n",
    "my_plot1 = TotalBikes110320190900.plot(kind='bar')\n",
    "TotalBikes110320190900.describe()\n"
   ]
  },
  {
   "cell_type": "markdown",
   "metadata": {},
   "source": [
    "At 9:00 am on the 11th March, we can see that there were no available bikes at the following stations: Avondale Road, Christchurch Place, North Circular Road, Portobello Road, Rathdown Road, Smithfield North and St.James Hospital (Central). These stations are most popular at 09:00 am in the morning. The stations with the least demand at 09:00 am in the morning are Hanover Quay, Excise Walk and York Street East. It is useful for commuters who use the bikes to know which stations have high demand in the morning so that this doesnt affect their commute in the morning.\n",
    "\n",
    "The average number of available bike stands was approx 23. The average number of available bikes was approx 9. If we even compare this value to Friday 1st March at 20:56 pm (Example 1 Part 1), the average number of available bikes on Friday was approximately 14. The average number of available bikes has decreased by 5 which is expected since 9am on a Monday would be a busier time than Friday evening."
   ]
  },
  {
   "cell_type": "markdown",
   "metadata": {},
   "source": [
    "###### Importing the data from 11th March 2019 at 12:00 pm "
   ]
  },
  {
   "cell_type": "code",
   "execution_count": 33,
   "metadata": {},
   "outputs": [],
   "source": [
    "with open('BikeData110320191200.json', 'r') as file:\n",
    "    Data = json.load(file)\n",
    "    \n",
    "DataCollected110320191200 = json_normalize(Data)\n",
    "DataFrame110320191200=pd.DataFrame(DataCollected110320191200)"
   ]
  },
  {
   "cell_type": "code",
   "execution_count": 34,
   "metadata": {},
   "outputs": [
    {
     "data": {
      "text/html": [
       "<div>\n",
       "<style scoped>\n",
       "    .dataframe tbody tr th:only-of-type {\n",
       "        vertical-align: middle;\n",
       "    }\n",
       "\n",
       "    .dataframe tbody tr th {\n",
       "        vertical-align: top;\n",
       "    }\n",
       "\n",
       "    .dataframe thead th {\n",
       "        text-align: right;\n",
       "    }\n",
       "</style>\n",
       "<table border=\"1\" class=\"dataframe\">\n",
       "  <thead>\n",
       "    <tr style=\"text-align: right;\">\n",
       "      <th></th>\n",
       "      <th>available_bikes</th>\n",
       "      <th>bike_stands</th>\n",
       "      <th>available_bike_stands</th>\n",
       "    </tr>\n",
       "  </thead>\n",
       "  <tbody>\n",
       "    <tr>\n",
       "      <th>count</th>\n",
       "      <td>20.000000</td>\n",
       "      <td>20.000000</td>\n",
       "      <td>20.000000</td>\n",
       "    </tr>\n",
       "    <tr>\n",
       "      <th>mean</th>\n",
       "      <td>11.550000</td>\n",
       "      <td>32.250000</td>\n",
       "      <td>20.550000</td>\n",
       "    </tr>\n",
       "    <tr>\n",
       "      <th>std</th>\n",
       "      <td>12.975584</td>\n",
       "      <td>6.927254</td>\n",
       "      <td>11.940532</td>\n",
       "    </tr>\n",
       "    <tr>\n",
       "      <th>min</th>\n",
       "      <td>0.000000</td>\n",
       "      <td>20.000000</td>\n",
       "      <td>0.000000</td>\n",
       "    </tr>\n",
       "    <tr>\n",
       "      <th>25%</th>\n",
       "      <td>1.000000</td>\n",
       "      <td>30.000000</td>\n",
       "      <td>12.250000</td>\n",
       "    </tr>\n",
       "    <tr>\n",
       "      <th>50%</th>\n",
       "      <td>6.000000</td>\n",
       "      <td>30.000000</td>\n",
       "      <td>20.500000</td>\n",
       "    </tr>\n",
       "    <tr>\n",
       "      <th>75%</th>\n",
       "      <td>18.000000</td>\n",
       "      <td>40.000000</td>\n",
       "      <td>27.500000</td>\n",
       "    </tr>\n",
       "    <tr>\n",
       "      <th>max</th>\n",
       "      <td>40.000000</td>\n",
       "      <td>40.000000</td>\n",
       "      <td>40.000000</td>\n",
       "    </tr>\n",
       "  </tbody>\n",
       "</table>\n",
       "</div>"
      ],
      "text/plain": [
       "       available_bikes  bike_stands  available_bike_stands\n",
       "count        20.000000    20.000000              20.000000\n",
       "mean         11.550000    32.250000              20.550000\n",
       "std          12.975584     6.927254              11.940532\n",
       "min           0.000000    20.000000               0.000000\n",
       "25%           1.000000    30.000000              12.250000\n",
       "50%           6.000000    30.000000              20.500000\n",
       "75%          18.000000    40.000000              27.500000\n",
       "max          40.000000    40.000000              40.000000"
      ]
     },
     "execution_count": 34,
     "metadata": {},
     "output_type": "execute_result"
    },
    {
     "data": {
      "image/png": "[encoded data removed]",
      "text/plain": [
       "<Figure size 432x288 with 1 Axes>"
      ]
     },
     "metadata": {
      "needs_background": "light"
     },
     "output_type": "display_data"
    }
   ],
   "source": [
    "OperatingStationsDataFrame110320191200 = DataFrame110320191200[DataFrame110320191200[\"status\"] == 'OPEN']\n",
    "CleanDataFrame110320191200=OperatingStationsDataFrame110320191200.drop(OperatingStationsDataFrame110320191200.columns[[3,5,7,8,9,10,11,12]], axis=1)\n",
    "DublinBikeData110320191200=CleanDataFrame110320191200[CleanDataFrame110320191200[\"contract_name\"] == \"Dublin\"]\n",
    "DublinBikeData110320191200=DublinBikeData110320191200.iloc[0:20]\n",
    "DublinBikeDataClean110320191200=DublinBikeData110320191200[['available_bikes', 'bike_stands', 'available_bike_stands', 'address']]\n",
    "BikesGroupDublin110320191200=DublinBikeDataClean110320191200.groupby('address')\n",
    "TotalBikes110320191200=BikesGroupDublin110320191200.sum()\n",
    "\n",
    "plot2 = TotalBikes110320191200.plot(kind='bar')\n",
    "TotalBikes110320191200.describe()"
   ]
  },
  {
   "cell_type": "markdown",
   "metadata": {},
   "source": [
    "After collecting the data from the 09:00 am and 12:00pm files,we can analyse the results before continuing on with the next times. For ease, we will focus our attention on how the number of available bikes changes between the two different times."
   ]
  },
  {
   "cell_type": "code",
   "execution_count": 35,
   "metadata": {},
   "outputs": [],
   "source": [
    "Addresses11032019=DublinBikeData110320190900['address']"
   ]
  },
  {
   "cell_type": "code",
   "execution_count": 37,
   "metadata": {},
   "outputs": [
    {
     "data": {
      "image/png": "[encoded data removed]",
      "text/plain": [
       "<Figure size 432x288 with 1 Axes>"
      ]
     },
     "metadata": {
      "needs_background": "light"
     },
     "output_type": "display_data"
    }
   ],
   "source": [
    "AvailableBikes110320190900=DublinBikeData110320190900['available_bikes']\n",
    "AvailableBikes110320191200=DublinBikeDataClean110320191200['available_bikes']\n",
    "Addresses11032019=DublinBikeData110320190900['address']\n",
    "\n",
    "AvailableBikesDataFrame09001200 = pd.DataFrame(\n",
    "    {'Available Bikes - 09:00': AvailableBikes110320190900,\n",
    "     'Available Bikes - 12:00':AvailableBikes110320191200 ,\n",
    "      'Addresses':Addresses11032019\n",
    "     \n",
    "    })\n",
    "\n",
    "GroupedAvailableBikesDataFrame09001200=AvailableBikesDataFrame09001200.groupby('Addresses')\n",
    "TotalGroupedAvailableBikesDataFrame09001200=GroupedAvailableBikesDataFrame09001200.sum()\n",
    "\n",
    "plot3 = TotalGroupedAvailableBikesDataFrame09001200.plot(kind='bar')"
   ]
  },
  {
   "cell_type": "markdown",
   "metadata": {},
   "source": [
    "Comparing the availability of bikes at 09:00 am and 12:00pm, we can see that in many places, the number of bikes available was greater at 12:00pm than 09:00am. This is what we would expect since at 09:00am we expect more people to be using the bikes aka the number of available bikes at the stations would be lower because people would be using them for the commute to work. Therefore, by 12:00pm the availability of bikes would have increased.\n",
    "It is also interesting to look at where the availability of bikes increased the most. If we focus on the fact that people use the bikes to commute to work, then we should see the number of available bikes at 12:00pm increase greatly in places where there are a lot of offices aka grand canal, mount street lower and convention centre because this is where people would finish their commute and drop off their bike. \n",
    "For example, Mount street lower, Smithfield North and Pearse Street are places where there are a lot of offices and so, they are places of peoples work locations. At 09:00am, we would expect the availability of bikes to be lower than 12:00pm. In fact, at 09:00 am Mount Street Lower had 25 bikes available, Smithfield North had no bikes available and Pearse Street had 4 bikes available. At 12:00pm, Mount Street Lower had 30 bikes available, Smithfield North had 1 bike available and Pearse Street had 16 bikes available. These results are as we expected.\n",
    "\n",
    "The amount of available bikes at Hanover Quay and Excise Walk do not change from 09:00 am to 12:00 om which tells us that these stations are not very popular stations.\n",
    "\n"
   ]
  },
  {
   "cell_type": "markdown",
   "metadata": {},
   "source": [
    "##### Importing data from 11th March 2019 at 15:00 pm and 18:00 pm "
   ]
  },
  {
   "cell_type": "markdown",
   "metadata": {},
   "source": [
    "I import the information and filter it to contain only information concerning Dublin the same way as i did before. Thus, i will no go into detail about this procedure."
   ]
  },
  {
   "cell_type": "code",
   "execution_count": 39,
   "metadata": {},
   "outputs": [],
   "source": [
    "with open('BikeData110320191456.json', 'r') as file: #importing the data\n",
    "    Data = json.load(file)\n",
    "    \n",
    "DataCollected110320191456 = json_normalize(Data)\n",
    "DataFrame110320191456=pd.DataFrame(DataCollected110320191456)"
   ]
  },
  {
   "cell_type": "code",
   "execution_count": 40,
   "metadata": {},
   "outputs": [
    {
     "data": {
      "text/html": [
       "<div>\n",
       "<style scoped>\n",
       "    .dataframe tbody tr th:only-of-type {\n",
       "        vertical-align: middle;\n",
       "    }\n",
       "\n",
       "    .dataframe tbody tr th {\n",
       "        vertical-align: top;\n",
       "    }\n",
       "\n",
       "    .dataframe thead th {\n",
       "        text-align: right;\n",
       "    }\n",
       "</style>\n",
       "<table border=\"1\" class=\"dataframe\">\n",
       "  <thead>\n",
       "    <tr style=\"text-align: right;\">\n",
       "      <th></th>\n",
       "      <th>available_bikes</th>\n",
       "      <th>bike_stands</th>\n",
       "      <th>available_bike_stands</th>\n",
       "    </tr>\n",
       "  </thead>\n",
       "  <tbody>\n",
       "    <tr>\n",
       "      <th>count</th>\n",
       "      <td>20.000000</td>\n",
       "      <td>20.000000</td>\n",
       "      <td>20.000000</td>\n",
       "    </tr>\n",
       "    <tr>\n",
       "      <th>mean</th>\n",
       "      <td>10.850000</td>\n",
       "      <td>32.250000</td>\n",
       "      <td>21.400000</td>\n",
       "    </tr>\n",
       "    <tr>\n",
       "      <th>std</th>\n",
       "      <td>13.160047</td>\n",
       "      <td>6.927254</td>\n",
       "      <td>12.483252</td>\n",
       "    </tr>\n",
       "    <tr>\n",
       "      <th>min</th>\n",
       "      <td>0.000000</td>\n",
       "      <td>20.000000</td>\n",
       "      <td>1.000000</td>\n",
       "    </tr>\n",
       "    <tr>\n",
       "      <th>25%</th>\n",
       "      <td>1.000000</td>\n",
       "      <td>30.000000</td>\n",
       "      <td>14.250000</td>\n",
       "    </tr>\n",
       "    <tr>\n",
       "      <th>50%</th>\n",
       "      <td>4.000000</td>\n",
       "      <td>30.000000</td>\n",
       "      <td>21.000000</td>\n",
       "    </tr>\n",
       "    <tr>\n",
       "      <th>75%</th>\n",
       "      <td>16.750000</td>\n",
       "      <td>40.000000</td>\n",
       "      <td>30.000000</td>\n",
       "    </tr>\n",
       "    <tr>\n",
       "      <th>max</th>\n",
       "      <td>39.000000</td>\n",
       "      <td>40.000000</td>\n",
       "      <td>40.000000</td>\n",
       "    </tr>\n",
       "  </tbody>\n",
       "</table>\n",
       "</div>"
      ],
      "text/plain": [
       "       available_bikes  bike_stands  available_bike_stands\n",
       "count        20.000000    20.000000              20.000000\n",
       "mean         10.850000    32.250000              21.400000\n",
       "std          13.160047     6.927254              12.483252\n",
       "min           0.000000    20.000000               1.000000\n",
       "25%           1.000000    30.000000              14.250000\n",
       "50%           4.000000    30.000000              21.000000\n",
       "75%          16.750000    40.000000              30.000000\n",
       "max          39.000000    40.000000              40.000000"
      ]
     },
     "execution_count": 40,
     "metadata": {},
     "output_type": "execute_result"
    },
    {
     "data": {
      "image/png": "[encoded data removed]",
      "text/plain": [
       "<Figure size 432x288 with 1 Axes>"
      ]
     },
     "metadata": {
      "needs_background": "light"
     },
     "output_type": "display_data"
    }
   ],
   "source": [
    "OperatingStationsDataFrame110320191456 = DataFrame110320191456[DataFrame110320191456[\"status\"] == 'OPEN'] #limiting the data to only stations that are open\n",
    "CleanDataFrame110320191456=OperatingStationsDataFrame110320191456.drop(OperatingStationsDataFrame110320191456.columns[[3,5,7,8,9,10,11,12]], axis=1) # removing columns that are not needed\n",
    "DublinBikeData110320191456=CleanDataFrame110320191456[CleanDataFrame110320191456[\"contract_name\"] == \"Dublin\"] # restricting the data to only concern Dublin\n",
    "DublinBikeData110320191456=DublinBikeData110320191456.iloc[0:20] # displaying on the first 20 rows\n",
    "DublinBikeDataClean110320191456=DublinBikeData110320191456[['available_bikes', 'bike_stands', 'available_bike_stands', 'address']]\n",
    "BikesGroupDublin110320191456=DublinBikeDataClean110320191456.groupby('address')\n",
    "TotalBikes110320191456=BikesGroupDublin110320191456.sum()\n",
    "\n",
    "plot2 = TotalBikes110320191456.plot(kind='bar')\n",
    "TotalBikes110320191456.describe()"
   ]
  },
  {
   "cell_type": "code",
   "execution_count": 41,
   "metadata": {},
   "outputs": [],
   "source": [
    "with open('BikeData110320191800.json', 'r') as file:\n",
    "    Data = json.load(file)\n",
    "    \n",
    "DataCollected110320191800 = json_normalize(Data)\n",
    "DataFrame110320191800=pd.DataFrame(DataCollected110320191800)"
   ]
  },
  {
   "cell_type": "code",
   "execution_count": 44,
   "metadata": {},
   "outputs": [
    {
     "data": {
      "text/html": [
       "<div>\n",
       "<style scoped>\n",
       "    .dataframe tbody tr th:only-of-type {\n",
       "        vertical-align: middle;\n",
       "    }\n",
       "\n",
       "    .dataframe tbody tr th {\n",
       "        vertical-align: top;\n",
       "    }\n",
       "\n",
       "    .dataframe thead th {\n",
       "        text-align: right;\n",
       "    }\n",
       "</style>\n",
       "<table border=\"1\" class=\"dataframe\">\n",
       "  <thead>\n",
       "    <tr style=\"text-align: right;\">\n",
       "      <th></th>\n",
       "      <th>available_bikes</th>\n",
       "      <th>bike_stands</th>\n",
       "      <th>available_bike_stands</th>\n",
       "    </tr>\n",
       "  </thead>\n",
       "  <tbody>\n",
       "    <tr>\n",
       "      <th>count</th>\n",
       "      <td>20.000000</td>\n",
       "      <td>20.000000</td>\n",
       "      <td>20.000000</td>\n",
       "    </tr>\n",
       "    <tr>\n",
       "      <th>mean</th>\n",
       "      <td>9.700000</td>\n",
       "      <td>32.250000</td>\n",
       "      <td>22.500000</td>\n",
       "    </tr>\n",
       "    <tr>\n",
       "      <th>std</th>\n",
       "      <td>11.420665</td>\n",
       "      <td>6.927254</td>\n",
       "      <td>14.670055</td>\n",
       "    </tr>\n",
       "    <tr>\n",
       "      <th>min</th>\n",
       "      <td>0.000000</td>\n",
       "      <td>20.000000</td>\n",
       "      <td>0.000000</td>\n",
       "    </tr>\n",
       "    <tr>\n",
       "      <th>25%</th>\n",
       "      <td>0.750000</td>\n",
       "      <td>30.000000</td>\n",
       "      <td>11.500000</td>\n",
       "    </tr>\n",
       "    <tr>\n",
       "      <th>50%</th>\n",
       "      <td>3.000000</td>\n",
       "      <td>30.000000</td>\n",
       "      <td>22.000000</td>\n",
       "    </tr>\n",
       "    <tr>\n",
       "      <th>75%</th>\n",
       "      <td>18.250000</td>\n",
       "      <td>40.000000</td>\n",
       "      <td>38.250000</td>\n",
       "    </tr>\n",
       "    <tr>\n",
       "      <th>max</th>\n",
       "      <td>30.000000</td>\n",
       "      <td>40.000000</td>\n",
       "      <td>40.000000</td>\n",
       "    </tr>\n",
       "  </tbody>\n",
       "</table>\n",
       "</div>"
      ],
      "text/plain": [
       "       available_bikes  bike_stands  available_bike_stands\n",
       "count        20.000000    20.000000              20.000000\n",
       "mean          9.700000    32.250000              22.500000\n",
       "std          11.420665     6.927254              14.670055\n",
       "min           0.000000    20.000000               0.000000\n",
       "25%           0.750000    30.000000              11.500000\n",
       "50%           3.000000    30.000000              22.000000\n",
       "75%          18.250000    40.000000              38.250000\n",
       "max          30.000000    40.000000              40.000000"
      ]
     },
     "execution_count": 44,
     "metadata": {},
     "output_type": "execute_result"
    }
   ],
   "source": [
    "OperatingStationsDataFrame110320191800 = DataFrame110320191800[DataFrame110320191800[\"status\"] == 'OPEN']\n",
    "CleanDataFrame110320191800=OperatingStationsDataFrame110320191800.drop(OperatingStationsDataFrame110320191800.columns[[3,5,7,8,9,10,11,12]], axis=1)\n",
    "DublinBikeData110320191800=CleanDataFrame110320191800[CleanDataFrame110320191800[\"contract_name\"] == \"Dublin\"]\n",
    "DublinBikeData110320191800=DublinBikeData110320191800.iloc[0:20]\n",
    "DublinBikeDataClean110320191800=DublinBikeData110320191800[['available_bikes', 'bike_stands', 'available_bike_stands', 'address']]\n",
    "BikesGroupDublin110320191800=DublinBikeDataClean110320191800.groupby('address')\n",
    "TotalBikes110320191800=BikesGroupDublin110320191800.sum()\n",
    "TotalBikes110320191800.describe()"
   ]
  },
  {
   "cell_type": "markdown",
   "metadata": {},
   "source": [
    "Next, i am going to produce the same graph as above but include the four times - 09:00am, 12:00pm, 15:00pm and 18:00pm - and analyse how the data changes."
   ]
  },
  {
   "cell_type": "code",
   "execution_count": 43,
   "metadata": {},
   "outputs": [
    {
     "data": {
      "image/png": "[encoded data removed]",
      "text/plain": [
       "<Figure size 432x288 with 1 Axes>"
      ]
     },
     "metadata": {
      "needs_background": "light"
     },
     "output_type": "display_data"
    }
   ],
   "source": [
    "# gathering the information for each time to put in a dataframe\n",
    "AvailableBikes110320190900=DublinBikeData110320190900['available_bikes']\n",
    "AvailableBikes110320191200=DublinBikeDataClean110320191200['available_bikes']\n",
    "AvailableBikes110320191456=DublinBikeData110320191456['available_bikes']\n",
    "AvailableBikes110320191800=DublinBikeDataClean110320191800['available_bikes']\n",
    "Addresses11032019=DublinBikeData110320190900['address']\n",
    "\n",
    "#creating a dataframe containing the information for the four times \n",
    "AvailableBikesDataFrame09001200 = pd.DataFrame(\n",
    "    {'Available Bikes - 09:00': AvailableBikes110320190900,\n",
    "     'Available Bikes - 12:00':AvailableBikes110320191200 ,\n",
    "     'Available Bikes - 15:00':AvailableBikes110320191456,\n",
    "     'Available Bikes - 18:00':AvailableBikes110320191800,\n",
    "      'Addresses':Addresses11032019\n",
    "     \n",
    "    })\n",
    "\n",
    "GroupedAvailableBikesDataFrame09001200=AvailableBikesDataFrame09001200.groupby('Addresses') # grouping the information by the address of the station\n",
    "TotalGroupedAvailableBikesDataFrame09001200=GroupedAvailableBikesDataFrame09001200.sum()\n",
    "\n",
    "plot3 = TotalGroupedAvailableBikesDataFrame09001200.plot(kind='bar')"
   ]
  },
  {
   "cell_type": "markdown",
   "metadata": {},
   "source": [
    "The key information that we can take from the graph above is: \n",
    "\n",
    "The least activity stations are Clomnel Street, Grantham Street and Hanover Quay since the available of bikes doesnt deviate much at the different times.\n",
    "\n",
    "\n",
    "In general, 09:00 am is when the number of bikes available is the lowest.\n",
    "\n",
    "Overall, 12:00pm is the least activity time for the bikes. It is when, on average, the number of available bikes is greatest."
   ]
  },
  {
   "cell_type": "markdown",
   "metadata": {},
   "source": [
    "## Including a second API - Weather"
   ]
  },
  {
   "cell_type": "markdown",
   "metadata": {},
   "source": [
    "The single API that was chosen for this assignment was provided by www.openweathermap.com\n",
    "The information on the API was specifically obtained from: https://api.openweathermap.org\n",
    "\n",
    "The API key that works here is: 3959e0b7ba3dcf2d9f244a4ed96f0a69"
   ]
  },
  {
   "cell_type": "markdown",
   "metadata": {},
   "source": [
    "### Example 1 Part 3: Comparing bike usage in Gothenburg vs Seville"
   ]
  },
  {
   "cell_type": "markdown",
   "metadata": {},
   "source": [
    "I have decided to include a second API to provide information on the weather in particular cities at certain times. With this information, i can analyse how the usage of the bikes changes depending on the weather."
   ]
  },
  {
   "cell_type": "markdown",
   "metadata": {},
   "source": [
    "As seen before with the first API, the first thing is to extract data using requests.get which allows you to send a HTTP request. Printing out the response, it returns the number 200 informing us that the request succeeded and that the resource is returned.\n",
    "I have included the coordinates of the city of choice as well as the preferred choice of units of temperature which is degrees celsius. "
   ]
  },
  {
   "cell_type": "code",
   "execution_count": 45,
   "metadata": {},
   "outputs": [
    {
     "name": "stdout",
     "output_type": "stream",
     "text": [
      "200\n"
     ]
    }
   ],
   "source": [
    "parameters = {'lat':53.35, 'lon':-6.25 }  #Coordinates for Dublin \n",
    "api_key = '3959e0b7ba3dcf2d9f244a4ed96f0a69'\n",
    "weatherresponse = requests.get('https://api.openweathermap.org/data/2.5/forecast?&units=metric&appid='+api_key, params=parameters);\n",
    "print(weatherresponse.status_code)"
   ]
  },
  {
   "cell_type": "markdown",
   "metadata": {},
   "source": [
    "Next, we parse ..... This converts a given string into a dictionary which allows you to access your JSON data easily within your code."
   ]
  },
  {
   "cell_type": "code",
   "execution_count": 46,
   "metadata": {},
   "outputs": [],
   "source": [
    "WeatherCollected = json.loads(weatherresponse.text)"
   ]
  },
  {
   "cell_type": "markdown",
   "metadata": {},
   "source": [
    "Next, we save the information to file to be able to access it whenever we want."
   ]
  },
  {
   "cell_type": "code",
   "execution_count": 47,
   "metadata": {},
   "outputs": [],
   "source": [
    "filename = 'hi.json'\n",
    "write_to_file(filename, WeatherCollected)"
   ]
  },
  {
   "cell_type": "markdown",
   "metadata": {},
   "source": [
    "In order to gather data that is already in a file, we compile the following code:"
   ]
  },
  {
   "cell_type": "code",
   "execution_count": 48,
   "metadata": {},
   "outputs": [],
   "source": [
    "with open('WeatherInformationSeville13032019to18032019.json', 'r') as file:\n",
    "    DataSeville = json.load(file)\n",
    "    #print(Data)\n"
   ]
  },
  {
   "cell_type": "markdown",
   "metadata": {},
   "source": [
    "Looking at the information quickly, we can see that we have a nested json file. Before we begin analysing the information, we have to firsly use the nested file to create a flattened panda dataframe. i then flatten the next array.\n",
    "In order to be able to view all the information in one dataframe, i add the columns of the nested array on to the original dataframe"
   ]
  },
  {
   "cell_type": "code",
   "execution_count": 49,
   "metadata": {},
   "outputs": [],
   "source": [
    "DataSeville13032019to18032019=DataSeville['list']\n",
    "DataSeville13032019to18032019 = json_normalize(DataSeville13032019to18032019)\n",
    "DataSeville13032019to18032019=pd.DataFrame(DataSeville13032019to18032019)\n",
    "\n",
    "#----Dealing with the nested array-----------------------------------------\n",
    "WeatherDataSeville13032019to18032019=json_normalize(data=DataSeville['list'], record_path='weather')\n",
    "\n",
    "#----Defining the columns of weather to add it to the main dataframe-------\n",
    "WeatherDataDescriptionSeville13032019to18032019=WeatherDataSeville13032019to18032019.description\n",
    "WeatherDataIconSeville13032019to18032019=WeatherDataSeville13032019to18032019.icon\n",
    "WeatherDataMainSeville13032019to18032019=WeatherDataSeville13032019to18032019.main\n",
    "WeatherDataIdSeville13032019to18032019=WeatherDataSeville13032019to18032019.id\n",
    "\n",
    "DataSeville13032019to18032019['Weather Description']=WeatherDataDescriptionSeville13032019to18032019\n",
    "DataSeville13032019to18032019['Weather Main']=WeatherDataMainSeville13032019to18032019\n",
    "DataSeville13032019to18032019['Icon']=WeatherDataIconSeville13032019to18032019\n",
    "DataSeville13032019to18032019\n",
    "DataSeville13032019to18032019['Id']=WeatherDataIdSeville13032019to18032019"
   ]
  },
  {
   "cell_type": "markdown",
   "metadata": {},
   "source": [
    "It is important to mention now, the meaning of the parameters as well as the units of all the parameters: \n",
    "\n",
    "    main.grnd_level = Atmospheric pressure on the ground evel measured in hPa\n",
    "    main.humidity = Humidity measured in %\n",
    "    main.pressure = Atmospheric pressure on the sea level measured in hPa\n",
    "    main.sea_level = Atmospheric pressure on the sea level, measured in hPa\n",
    "    main.temp = Temperature, measured in celsius\n",
    "    main.temp_kf = internal parameter\n",
    "    main.temp_max = maximum temperature at the moment of calculation, measured in celsius\n",
    "    main.temp_min = minimum temperature at the moment of calculation, measured in celsius\n",
    "    rain.3h = rain volume for last 3 hours, measured in mm \n",
    "    wind.deg = wind direction measured in degrees\n",
    "    wind.speed = wind speed, measured in meter/sec\n",
    "    clouds.all = cloudiness measured in %\n",
    "    \n",
    "In order to simplify the data, i have dropped some of the unneccessary columns such as 'sys.pod','Id'. I have also dropped 'weather' since its information is now contained in separate columns. I am also going to drop 'dt' except dt_txt to keep note of the date and time of the information.\n",
    "It is important to note that one of the columns of the array 'weather' is called icon. It refers to the icon that describes the weather. In order to see what the number in the icon column represents, you can use the following url, remembering to include the icon number - http://openweathermap.org/img/w/10d.png. However, the icon number does not have much meaning for the data analyse done here so i will also drop this column. \n",
    "I am also going to drop the columns that are related to the sea level and pressure as i only want to focus on the type of weather and the temperature etc."
   ]
  },
  {
   "cell_type": "code",
   "execution_count": 50,
   "metadata": {},
   "outputs": [],
   "source": [
    "DataSeville13032019to18032019=DataSeville13032019to18032019.drop(DataSeville13032019to18032019.columns[[1,3,5,6,8,12,13,18,19]], axis=1)"
   ]
  },
  {
   "cell_type": "markdown",
   "metadata": {},
   "source": [
    "#### Importing weather information for Gothenburg"
   ]
  },
  {
   "cell_type": "markdown",
   "metadata": {},
   "source": [
    "We follow the same procedure as above to import the weather for Gothenburg."
   ]
  },
  {
   "cell_type": "code",
   "execution_count": 51,
   "metadata": {},
   "outputs": [],
   "source": [
    "with open('WeatherInformationGothenburg13032019to18032019.json', 'r') as file:\n",
    "    DataGothenburg = json.load(file)\n",
    "    #print(Data)"
   ]
  },
  {
   "cell_type": "code",
   "execution_count": 52,
   "metadata": {},
   "outputs": [],
   "source": [
    "DataGothenburg13032019to18032019=DataGothenburg['list']\n",
    "DataGothenburg13032019to18032019 = json_normalize(DataGothenburg13032019to18032019)\n",
    "DataGothenburg13032019to18032019=pd.DataFrame(DataGothenburg13032019to18032019)\n",
    "\n",
    "#----Dealing with the nested array-----------------------------------------\n",
    "WeatherDataGothenburg13032019to18032019=json_normalize(data=DataGothenburg['list'], record_path='weather')\n",
    "\n",
    "#----Defining the columns of weather to add it to the main dataframe-------\n",
    "WeatherDataDescriptionGothenburg13032019to18032019=WeatherDataGothenburg13032019to18032019.description\n",
    "WeatherDataIconGothenburg13032019to18032019=WeatherDataGothenburg13032019to18032019.icon\n",
    "WeatherDataMainGothenburg13032019to18032019=WeatherDataGothenburg13032019to18032019.main\n",
    "WeatherDataIdGothenburg13032019to18032019=WeatherDataGothenburg13032019to18032019.id\n",
    "\n",
    "DataGothenburg13032019to18032019['Weather Description']=WeatherDataDescriptionGothenburg13032019to18032019\n",
    "DataGothenburg13032019to18032019['Weather Main']=WeatherDataMainGothenburg13032019to18032019\n",
    "DataGothenburg13032019to18032019['Icon']=WeatherDataIconGothenburg13032019to18032019\n",
    "DataGothenburg13032019to18032019\n",
    "DataGothenburg13032019to18032019['Id']=WeatherDataIdGothenburg13032019to18032019"
   ]
  },
  {
   "cell_type": "markdown",
   "metadata": {},
   "source": [
    "As we can see from the printed table for the weather information of both cities, it contains information for multiple days and multiple hours. However, the bike data information that we are going to import is for one time on one day only - 14th March at 15:00 pm. Thus, i am going to filter the weather data for both cities to the 14th March at 15:00pm. I could filter this information out by looking at the table and see what index it is associated with. However, it is more efficient to search for the row in a column that contains the relevant date and time.\n"
   ]
  },
  {
   "cell_type": "code",
   "execution_count": 53,
   "metadata": {},
   "outputs": [],
   "source": [
    "WeatherDataSeville140320191500= DataSeville13032019to18032019[DataSeville13032019to18032019[\"dt_txt\"]=='2019-03-14 15:00:00']\n",
    "WeatherDataGothenburg140320191500= DataGothenburg13032019to18032019[DataGothenburg13032019to18032019[\"dt_txt\"]=='2019-03-14 15:00:00']"
   ]
  },
  {
   "cell_type": "code",
   "execution_count": 54,
   "metadata": {},
   "outputs": [
    {
     "data": {
      "text/html": [
       "<div>\n",
       "<style scoped>\n",
       "    .dataframe tbody tr th:only-of-type {\n",
       "        vertical-align: middle;\n",
       "    }\n",
       "\n",
       "    .dataframe tbody tr th {\n",
       "        vertical-align: top;\n",
       "    }\n",
       "\n",
       "    .dataframe thead th {\n",
       "        text-align: right;\n",
       "    }\n",
       "</style>\n",
       "<table border=\"1\" class=\"dataframe\">\n",
       "  <thead>\n",
       "    <tr style=\"text-align: right;\">\n",
       "      <th></th>\n",
       "      <th>clouds.all</th>\n",
       "      <th>dt_txt</th>\n",
       "      <th>main.humidity</th>\n",
       "      <th>main.temp</th>\n",
       "      <th>main.temp_max</th>\n",
       "      <th>main.temp_min</th>\n",
       "      <th>rain.3h</th>\n",
       "      <th>wind.deg</th>\n",
       "      <th>wind.speed</th>\n",
       "      <th>Weather Description</th>\n",
       "      <th>Weather Main</th>\n",
       "    </tr>\n",
       "  </thead>\n",
       "  <tbody>\n",
       "    <tr>\n",
       "      <th>8</th>\n",
       "      <td>0</td>\n",
       "      <td>2019-03-14 15:00:00</td>\n",
       "      <td>47</td>\n",
       "      <td>21.61</td>\n",
       "      <td>21.61</td>\n",
       "      <td>21.61</td>\n",
       "      <td>NaN</td>\n",
       "      <td>44.0075</td>\n",
       "      <td>4.46</td>\n",
       "      <td>clear sky</td>\n",
       "      <td>Clear</td>\n",
       "    </tr>\n",
       "  </tbody>\n",
       "</table>\n",
       "</div>"
      ],
      "text/plain": [
       "   clouds.all               dt_txt  main.humidity  main.temp  main.temp_max  \\\n",
       "8           0  2019-03-14 15:00:00             47      21.61          21.61   \n",
       "\n",
       "   main.temp_min  rain.3h  wind.deg  wind.speed Weather Description  \\\n",
       "8          21.61      NaN   44.0075        4.46           clear sky   \n",
       "\n",
       "  Weather Main  \n",
       "8        Clear  "
      ]
     },
     "execution_count": 54,
     "metadata": {},
     "output_type": "execute_result"
    }
   ],
   "source": [
    "WeatherDataSeville140320191500"
   ]
  },
  {
   "cell_type": "markdown",
   "metadata": {},
   "source": [
    "##### Importing bike information for Seville and Gothenburg - 14th March 2019 at 15:00 pm "
   ]
  },
  {
   "cell_type": "markdown",
   "metadata": {},
   "source": [
    "Having filtered the weather information concerning Seville, we can import the bike information for the same particular day and analyse the usage. In this case, we are going to look at 14th March 2019 at 15:00 pm. "
   ]
  },
  {
   "cell_type": "markdown",
   "metadata": {},
   "source": [
    "##### Filtering to focus on information concerning Seville"
   ]
  },
  {
   "cell_type": "code",
   "execution_count": 55,
   "metadata": {},
   "outputs": [],
   "source": [
    "with open('BikeData140320191500.json', 'r') as file:\n",
    "    Data = json.load(file)\n",
    "    \n",
    "DataCollected140320191500 = json_normalize(Data)\n",
    "DataFrame140320191500=pd.DataFrame(DataCollected140320191500)\n"
   ]
  },
  {
   "cell_type": "code",
   "execution_count": 56,
   "metadata": {},
   "outputs": [],
   "source": [
    "OperatingStationsDataFrame140320191500 = DataFrame140320191500[DataFrame140320191500[\"status\"] == 'OPEN']\n",
    "CleanDataFrame140320191500=OperatingStationsDataFrame140320191500.drop(OperatingStationsDataFrame140320191500.columns[[3,5,7,8,9,10,11,12]], axis=1)\n",
    "SevilleBikeData140320191500=CleanDataFrame140320191500[CleanDataFrame140320191500[\"contract_name\"] == \"Seville\"]\n",
    "SevilleBikeData140320191500=SevilleBikeData140320191500.iloc[0:50]\n",
    "SevilleBikeData140320191500= SevilleBikeData140320191500[SevilleBikeData140320191500[\"bike_stands\"] == 20]"
   ]
  },
  {
   "cell_type": "markdown",
   "metadata": {},
   "source": [
    "##### Filtering to focus on information concerning Gothenburg"
   ]
  },
  {
   "cell_type": "code",
   "execution_count": 57,
   "metadata": {},
   "outputs": [],
   "source": [
    "GothenburgBikeData140320191500=CleanDataFrame140320191500[CleanDataFrame140320191500[\"contract_name\"] == \"Goteborg\"]\n",
    "GothenburgBikeData140320191500=GothenburgBikeData140320191500.iloc[0:50]\n",
    "GothenburgBikeData140320191500= GothenburgBikeData140320191500[GothenburgBikeData140320191500[\"bike_stands\"] == 20]"
   ]
  },
  {
   "cell_type": "markdown",
   "metadata": {},
   "source": [
    "In order to analyse the information and the usage of the bikes fairly, i filtered the information to only focus on the stations in Seville and Gothenburg that have 20 bike stands. Thus when comparing how many available bikes there are at the stations, the maximum number of bike stands at the stations is the same for both cities.\n",
    "\n",
    "Firstly, we can compare the statistical data. "
   ]
  },
  {
   "cell_type": "code",
   "execution_count": 58,
   "metadata": {},
   "outputs": [
    {
     "data": {
      "text/html": [
       "<div>\n",
       "<style scoped>\n",
       "    .dataframe tbody tr th:only-of-type {\n",
       "        vertical-align: middle;\n",
       "    }\n",
       "\n",
       "    .dataframe tbody tr th {\n",
       "        vertical-align: top;\n",
       "    }\n",
       "\n",
       "    .dataframe thead th {\n",
       "        text-align: right;\n",
       "    }\n",
       "</style>\n",
       "<table border=\"1\" class=\"dataframe\">\n",
       "  <thead>\n",
       "    <tr style=\"text-align: right;\">\n",
       "      <th></th>\n",
       "      <th>available_bike_stands</th>\n",
       "      <th>available_bikes</th>\n",
       "      <th>bike_stands</th>\n",
       "    </tr>\n",
       "  </thead>\n",
       "  <tbody>\n",
       "    <tr>\n",
       "      <th>count</th>\n",
       "      <td>22.000000</td>\n",
       "      <td>22.000000</td>\n",
       "      <td>22.0</td>\n",
       "    </tr>\n",
       "    <tr>\n",
       "      <th>mean</th>\n",
       "      <td>9.090909</td>\n",
       "      <td>10.636364</td>\n",
       "      <td>20.0</td>\n",
       "    </tr>\n",
       "    <tr>\n",
       "      <th>std</th>\n",
       "      <td>3.753209</td>\n",
       "      <td>3.773914</td>\n",
       "      <td>0.0</td>\n",
       "    </tr>\n",
       "    <tr>\n",
       "      <th>min</th>\n",
       "      <td>3.000000</td>\n",
       "      <td>3.000000</td>\n",
       "      <td>20.0</td>\n",
       "    </tr>\n",
       "    <tr>\n",
       "      <th>25%</th>\n",
       "      <td>6.000000</td>\n",
       "      <td>8.000000</td>\n",
       "      <td>20.0</td>\n",
       "    </tr>\n",
       "    <tr>\n",
       "      <th>50%</th>\n",
       "      <td>9.000000</td>\n",
       "      <td>10.500000</td>\n",
       "      <td>20.0</td>\n",
       "    </tr>\n",
       "    <tr>\n",
       "      <th>75%</th>\n",
       "      <td>11.750000</td>\n",
       "      <td>14.000000</td>\n",
       "      <td>20.0</td>\n",
       "    </tr>\n",
       "    <tr>\n",
       "      <th>max</th>\n",
       "      <td>17.000000</td>\n",
       "      <td>16.000000</td>\n",
       "      <td>20.0</td>\n",
       "    </tr>\n",
       "  </tbody>\n",
       "</table>\n",
       "</div>"
      ],
      "text/plain": [
       "       available_bike_stands  available_bikes  bike_stands\n",
       "count              22.000000        22.000000         22.0\n",
       "mean                9.090909        10.636364         20.0\n",
       "std                 3.753209         3.773914          0.0\n",
       "min                 3.000000         3.000000         20.0\n",
       "25%                 6.000000         8.000000         20.0\n",
       "50%                 9.000000        10.500000         20.0\n",
       "75%                11.750000        14.000000         20.0\n",
       "max                17.000000        16.000000         20.0"
      ]
     },
     "execution_count": 58,
     "metadata": {},
     "output_type": "execute_result"
    }
   ],
   "source": [
    "DescriptionSevilleBikeData140320191500=SevilleBikeData140320191500.describe()\n",
    "DescriptionSevilleBikeData140320191500"
   ]
  },
  {
   "cell_type": "code",
   "execution_count": 59,
   "metadata": {},
   "outputs": [
    {
     "data": {
      "text/html": [
       "<div>\n",
       "<style scoped>\n",
       "    .dataframe tbody tr th:only-of-type {\n",
       "        vertical-align: middle;\n",
       "    }\n",
       "\n",
       "    .dataframe tbody tr th {\n",
       "        vertical-align: top;\n",
       "    }\n",
       "\n",
       "    .dataframe thead th {\n",
       "        text-align: right;\n",
       "    }\n",
       "</style>\n",
       "<table border=\"1\" class=\"dataframe\">\n",
       "  <thead>\n",
       "    <tr style=\"text-align: right;\">\n",
       "      <th></th>\n",
       "      <th>available_bike_stands</th>\n",
       "      <th>available_bikes</th>\n",
       "      <th>bike_stands</th>\n",
       "    </tr>\n",
       "  </thead>\n",
       "  <tbody>\n",
       "    <tr>\n",
       "      <th>count</th>\n",
       "      <td>20.00000</td>\n",
       "      <td>20.000000</td>\n",
       "      <td>20.0</td>\n",
       "    </tr>\n",
       "    <tr>\n",
       "      <th>mean</th>\n",
       "      <td>9.75000</td>\n",
       "      <td>10.200000</td>\n",
       "      <td>20.0</td>\n",
       "    </tr>\n",
       "    <tr>\n",
       "      <th>std</th>\n",
       "      <td>6.19741</td>\n",
       "      <td>6.118135</td>\n",
       "      <td>0.0</td>\n",
       "    </tr>\n",
       "    <tr>\n",
       "      <th>min</th>\n",
       "      <td>0.00000</td>\n",
       "      <td>0.000000</td>\n",
       "      <td>20.0</td>\n",
       "    </tr>\n",
       "    <tr>\n",
       "      <th>25%</th>\n",
       "      <td>5.75000</td>\n",
       "      <td>5.500000</td>\n",
       "      <td>20.0</td>\n",
       "    </tr>\n",
       "    <tr>\n",
       "      <th>50%</th>\n",
       "      <td>9.50000</td>\n",
       "      <td>10.500000</td>\n",
       "      <td>20.0</td>\n",
       "    </tr>\n",
       "    <tr>\n",
       "      <th>75%</th>\n",
       "      <td>14.50000</td>\n",
       "      <td>14.250000</td>\n",
       "      <td>20.0</td>\n",
       "    </tr>\n",
       "    <tr>\n",
       "      <th>max</th>\n",
       "      <td>20.00000</td>\n",
       "      <td>20.000000</td>\n",
       "      <td>20.0</td>\n",
       "    </tr>\n",
       "  </tbody>\n",
       "</table>\n",
       "</div>"
      ],
      "text/plain": [
       "       available_bike_stands  available_bikes  bike_stands\n",
       "count               20.00000        20.000000         20.0\n",
       "mean                 9.75000        10.200000         20.0\n",
       "std                  6.19741         6.118135          0.0\n",
       "min                  0.00000         0.000000         20.0\n",
       "25%                  5.75000         5.500000         20.0\n",
       "50%                  9.50000        10.500000         20.0\n",
       "75%                 14.50000        14.250000         20.0\n",
       "max                 20.00000        20.000000         20.0"
      ]
     },
     "execution_count": 59,
     "metadata": {},
     "output_type": "execute_result"
    }
   ],
   "source": [
    "DescriptionGothenburgBikeData140320191500=GothenburgBikeData140320191500.describe()\n",
    "DescriptionGothenburgBikeData140320191500"
   ]
  },
  {
   "cell_type": "code",
   "execution_count": 60,
   "metadata": {},
   "outputs": [
    {
     "data": {
      "text/plain": [
       "Text(0, 0.5, 'Values of Temp and Average Available Bikes')"
      ]
     },
     "execution_count": 60,
     "metadata": {},
     "output_type": "execute_result"
    },
    {
     "data": {
      "image/png": "[encoded data removed]",
      "text/plain": [
       "<Figure size 432x288 with 1 Axes>"
      ]
     },
     "metadata": {
      "needs_background": "light"
     },
     "output_type": "display_data"
    }
   ],
   "source": [
    "MeanSevilleBikeData140320191500=DescriptionSevilleBikeData140320191500.loc['mean']\n",
    "MeanSevilleBikeData140320191500\n",
    "MeanGothenburgBikeData140320191500=DescriptionGothenburgBikeData140320191500.loc['mean']\n",
    "MeanGothenburgBikeData140320191500\n",
    "AvailableBikesMeanSevilleBikeData140320191500=MeanSevilleBikeData140320191500['available_bikes']\n",
    "AvailableBikesMeanGothenburgBikeData140320191500=MeanGothenburgBikeData140320191500['available_bikes']\n",
    "MainTempWeatherDataSeville140320191500= WeatherDataSeville140320191500['main.temp']\n",
    "MainTempWeatherDataGothenburg140320191500= WeatherDataGothenburg140320191500['main.temp']\n",
    "\n",
    "\n",
    "AvailableBikesDataFrame09001200 = pd.DataFrame(\n",
    "    {'Average Available Bikes - Seville': AvailableBikesMeanSevilleBikeData140320191500,\n",
    "     'Average Available Bikes - Gothenburg': AvailableBikesMeanGothenburgBikeData140320191500,\n",
    "     'Main Temperature - Seville':MainTempWeatherDataSeville140320191500,\n",
    "     'Main Temperature - Gothenburg':MainTempWeatherDataGothenburg140320191500\n",
    "      \n",
    "     \n",
    "    })\n",
    "\n",
    "\n",
    "plot3 = AvailableBikesDataFrame09001200.plot(kind='bar')\n",
    "plt.ylabel('Values of Temp and Average Available Bikes', fontsize=10)"
   ]
  },
  {
   "cell_type": "markdown",
   "metadata": {},
   "source": [
    "Interestingly, the statistical data for the two cities is similar. The average number of available bike stands is approx 9 for Seville and approx 9.75 for Gothenburg. The average number of available bikes is approx 10.6 for Seville and 10.2 for Gothenburg. Both the standard deviations for each column of each city is low, Seville being approx 4 and Gothenburg being approx 6, meaning the data doesnt deviate much from the average.\n",
    "\n",
    "The weather in Seville and Gothenburg are considerably different at this time and date. Seville saw temperatures as high as 21 degrees celsius while Gothenburg saw lower temperatures of around 4 degrees celsius. Also, Gothenburg experienced light rain compared to Seville which had clear skies. \n",
    "\n",
    "Therefore, we would have expected the average availability of bikes in Gothenburg to be higher considering there was rain and low temperatures so people would be less willing to cycle around. We would also have expected the opposite in Seville. Considering it experienced high temperatures and clear skies, you would expect more people to be eager to use the bikes and therefore, the average availability of bikes to be lower. However, this is not the case from the analyses done. The statistical information for both of the cities was very similar as discussed."
   ]
  },
  {
   "cell_type": "markdown",
   "metadata": {},
   "source": [
    "### Example 1 Part 4: Analysing the usage of bikes in Dublin with different weather conditions"
   ]
  },
  {
   "cell_type": "markdown",
   "metadata": {},
   "source": [
    "We are going to compare the usage of bikes on the 10th March 2019 at around 15:00 pm, on the 14th March 2019 at approx 15:00pm and on the 15th March 2019 at around the same time. Analysing the data, we would expect to see the usage of bikes decrease when the weather is bad and as a result, more bikes would be available at the stations."
   ]
  },
  {
   "cell_type": "markdown",
   "metadata": {},
   "source": [
    "Firstly, ive loaded in the weather data and bike data gathered for each of the days mentioned. I clean it and present it as a informative dataframe."
   ]
  },
  {
   "cell_type": "markdown",
   "metadata": {},
   "source": [
    "##### Importing weather information for 10th March 2019 at approx 15:00 pm "
   ]
  },
  {
   "cell_type": "code",
   "execution_count": 61,
   "metadata": {},
   "outputs": [],
   "source": [
    "with open('WeatherInformationDublin10032019to15032019.json', 'r') as file:\n",
    "    Data = json.load(file)"
   ]
  },
  {
   "cell_type": "code",
   "execution_count": 63,
   "metadata": {},
   "outputs": [
    {
     "data": {
      "text/html": [
       "<div>\n",
       "<style scoped>\n",
       "    .dataframe tbody tr th:only-of-type {\n",
       "        vertical-align: middle;\n",
       "    }\n",
       "\n",
       "    .dataframe tbody tr th {\n",
       "        vertical-align: top;\n",
       "    }\n",
       "\n",
       "    .dataframe thead th {\n",
       "        text-align: right;\n",
       "    }\n",
       "</style>\n",
       "<table border=\"1\" class=\"dataframe\">\n",
       "  <thead>\n",
       "    <tr style=\"text-align: right;\">\n",
       "      <th></th>\n",
       "      <th>dt_txt</th>\n",
       "      <th>main.humidity</th>\n",
       "      <th>main.temp</th>\n",
       "      <th>main.temp_max</th>\n",
       "      <th>main.temp_min</th>\n",
       "      <th>rain.3h</th>\n",
       "      <th>description</th>\n",
       "      <th>main</th>\n",
       "    </tr>\n",
       "  </thead>\n",
       "  <tbody>\n",
       "    <tr>\n",
       "      <th>0</th>\n",
       "      <td>2019-03-10 15:00:00</td>\n",
       "      <td>86</td>\n",
       "      <td>276.58</td>\n",
       "      <td>277.04</td>\n",
       "      <td>276.15</td>\n",
       "      <td>0.64</td>\n",
       "      <td>shower rain</td>\n",
       "      <td>Rain</td>\n",
       "    </tr>\n",
       "  </tbody>\n",
       "</table>\n",
       "</div>"
      ],
      "text/plain": [
       "                dt_txt  main.humidity  main.temp  main.temp_max  \\\n",
       "0  2019-03-10 15:00:00             86     276.58         277.04   \n",
       "\n",
       "   main.temp_min  rain.3h  description  main  \n",
       "0         276.15     0.64  shower rain  Rain  "
      ]
     },
     "execution_count": 63,
     "metadata": {},
     "output_type": "execute_result"
    }
   ],
   "source": [
    "DataCollectedd140320191500 = json_normalize(Data)\n",
    "DataFrameDublin140320191500=pd.DataFrame(DataCollectedd140320191500)\n",
    "MainDataFrameDublin140320191500=Data['main']\n",
    "MainDataFrameDublin140320191500=json_normalize(MainDataFrameDublin140320191500)\n",
    "WeatherDataFrameDublin140320191500=Data['weather']\n",
    "WeatherDataFrameDublin140320191500=json_normalize(WeatherDataFrameDublin140320191500)\n",
    "RainDataFrameDublin140320191500=Data['rain']\n",
    "RainDataFrameDublin140320191500=json_normalize(RainDataFrameDublin140320191500)\n",
    "#combining the information together\n",
    "DublinWeather100320191500 =pd.concat([RainDataFrameDublin140320191500,MainDataFrameDublin140320191500, WeatherDataFrameDublin140320191500], axis=1)\n",
    "DublinWeather100320191500=DublinWeather100320191500.drop(DublinWeather100320191500.columns[[2,7,8]],axis=1)\n",
    "\n",
    "# changing the names of columns so that it is easier to combine all the information later\n",
    "DublinWeather100320191500['dt_txt'] = '2019-03-10 15:00:00'\n",
    "DublinWeather100320191500['main.humidity']=DublinWeather100320191500['humidity']\n",
    "DublinWeather100320191500['main.temp']=DublinWeather100320191500['temp']\n",
    "DublinWeather100320191500['main.temp_max']=DublinWeather100320191500['temp_max']\n",
    "DublinWeather100320191500['main.temp_min']=DublinWeather100320191500['temp_min']\n",
    "DublinWeather100320191500['rain.3h']=DublinWeather100320191500['1h']\n",
    "\n",
    "# limiting the columns that are shown\n",
    "DublinWeather100320191500 = DublinWeather100320191500[['dt_txt','main.humidity','main.temp','main.temp_max','main.temp_min','rain.3h','description','main']]\n",
    "DublinWeather100320191500"
   ]
  },
  {
   "cell_type": "markdown",
   "metadata": {},
   "source": [
    "##### Importing weather information for 15th March 2019 at approx 15:00 pm"
   ]
  },
  {
   "cell_type": "code",
   "execution_count": 64,
   "metadata": {},
   "outputs": [
    {
     "data": {
      "text/html": [
       "<div>\n",
       "<style scoped>\n",
       "    .dataframe tbody tr th:only-of-type {\n",
       "        vertical-align: middle;\n",
       "    }\n",
       "\n",
       "    .dataframe tbody tr th {\n",
       "        vertical-align: top;\n",
       "    }\n",
       "\n",
       "    .dataframe thead th {\n",
       "        text-align: right;\n",
       "    }\n",
       "</style>\n",
       "<table border=\"1\" class=\"dataframe\">\n",
       "  <thead>\n",
       "    <tr style=\"text-align: right;\">\n",
       "      <th></th>\n",
       "      <th>dt_txt</th>\n",
       "      <th>main.humidity</th>\n",
       "      <th>main.temp</th>\n",
       "      <th>main.temp_max</th>\n",
       "      <th>main.temp_min</th>\n",
       "      <th>rain.3h</th>\n",
       "      <th>description</th>\n",
       "      <th>main</th>\n",
       "    </tr>\n",
       "  </thead>\n",
       "  <tbody>\n",
       "    <tr>\n",
       "      <th>16</th>\n",
       "      <td>2019-03-15 15:00:00</td>\n",
       "      <td>87</td>\n",
       "      <td>10.0</td>\n",
       "      <td>10.0</td>\n",
       "      <td>10.0</td>\n",
       "      <td>NaN</td>\n",
       "      <td>broken clouds</td>\n",
       "      <td>Clouds</td>\n",
       "    </tr>\n",
       "  </tbody>\n",
       "</table>\n",
       "</div>"
      ],
      "text/plain": [
       "                 dt_txt  main.humidity  main.temp  main.temp_max  \\\n",
       "16  2019-03-15 15:00:00             87       10.0           10.0   \n",
       "\n",
       "    main.temp_min  rain.3h    description    main  \n",
       "16           10.0      NaN  broken clouds  Clouds  "
      ]
     },
     "execution_count": 64,
     "metadata": {},
     "output_type": "execute_result"
    }
   ],
   "source": [
    "with open('WeatherInformationDublin13032019to18032019.json', 'r') as file:\n",
    "    Data = json.load(file)   \n",
    "DataCollected150320191500 = json_normalize(Data)\n",
    "DataFrame150320191500=pd.DataFrame(DataCollected150320191500)\n",
    "\n",
    "DataFrame150320191500=Data['list']\n",
    "DataFrame150320191500= json_normalize(DataFrame150320191500)\n",
    "DataFrame150320191500=pd.DataFrame(DataFrame150320191500)\n",
    "\n",
    "#----Dealing with the nested array-----------------------------------------\n",
    "WeatherData150320191500=json_normalize(data=Data['list'], record_path='weather')\n",
    "\n",
    "#----Defining the columns of weather to add it to the main dataframe-------\n",
    "WeatherDataDescription150320191500=WeatherData150320191500.description\n",
    "WeatherDataIcon150320191500=WeatherData150320191500.icon\n",
    "WeatherDataMain150320191500=WeatherData150320191500.main\n",
    "WeatherDataId150320191500=WeatherData150320191500.id\n",
    "\n",
    "\n",
    "DataFrame150320191500['description']=WeatherDataDescription150320191500\n",
    "DataFrame150320191500['main']=WeatherDataMain150320191500\n",
    "\n",
    "DataFrame150320191500['Icon']=WeatherDataIcon150320191500\n",
    "\n",
    "DataFrame150320191500['Id']=WeatherDataId150320191500\n",
    "#adding a date and time column\n",
    "DublinWeather150320191500=DataFrame150320191500[DataFrame150320191500[\"dt_txt\"] == \"2019-03-15 15:00:00\"]\n",
    "DublinWeather150320191500\n",
    "DublinWeather150320191500=DublinWeather150320191500.drop(DublinWeather150320191500.columns[[0,1,3,5,6,8,12,13,14,15,18,19]], axis=1)\n",
    "DublinWeather150320191500"
   ]
  },
  {
   "cell_type": "markdown",
   "metadata": {},
   "source": [
    "##### Importing weather information for 14th March 2019 at 15:00 pm"
   ]
  },
  {
   "cell_type": "code",
   "execution_count": 65,
   "metadata": {},
   "outputs": [
    {
     "data": {
      "text/html": [
       "<div>\n",
       "<style scoped>\n",
       "    .dataframe tbody tr th:only-of-type {\n",
       "        vertical-align: middle;\n",
       "    }\n",
       "\n",
       "    .dataframe tbody tr th {\n",
       "        vertical-align: top;\n",
       "    }\n",
       "\n",
       "    .dataframe thead th {\n",
       "        text-align: right;\n",
       "    }\n",
       "</style>\n",
       "<table border=\"1\" class=\"dataframe\">\n",
       "  <thead>\n",
       "    <tr style=\"text-align: right;\">\n",
       "      <th></th>\n",
       "      <th>dt_txt</th>\n",
       "      <th>main.humidity</th>\n",
       "      <th>main.temp</th>\n",
       "      <th>main.temp_max</th>\n",
       "      <th>main.temp_min</th>\n",
       "      <th>rain.3h</th>\n",
       "      <th>description</th>\n",
       "      <th>main</th>\n",
       "    </tr>\n",
       "  </thead>\n",
       "  <tbody>\n",
       "    <tr>\n",
       "      <th>8</th>\n",
       "      <td>2019-03-14 15:00:00</td>\n",
       "      <td>88</td>\n",
       "      <td>9.78</td>\n",
       "      <td>9.78</td>\n",
       "      <td>9.78</td>\n",
       "      <td>NaN</td>\n",
       "      <td>few clouds</td>\n",
       "      <td>Clouds</td>\n",
       "    </tr>\n",
       "  </tbody>\n",
       "</table>\n",
       "</div>"
      ],
      "text/plain": [
       "                dt_txt  main.humidity  main.temp  main.temp_max  \\\n",
       "8  2019-03-14 15:00:00             88       9.78           9.78   \n",
       "\n",
       "   main.temp_min  rain.3h description    main  \n",
       "8           9.78      NaN  few clouds  Clouds  "
      ]
     },
     "execution_count": 65,
     "metadata": {},
     "output_type": "execute_result"
    }
   ],
   "source": [
    "with open('WeatherInformationDublin13032019to18032019.json', 'r') as file:\n",
    "    Data = json.load(file)   \n",
    "DataCollected140320191500 = json_normalize(Data)\n",
    "DataFrame140320191500=pd.DataFrame(DataCollected140320191500)\n",
    "\n",
    "DataFrame140320191500=Data['list']\n",
    "DataFrame140320191500= json_normalize(DataFrame140320191500)\n",
    "DataFrame140320191500=pd.DataFrame(DataFrame140320191500)\n",
    "\n",
    "#----Dealing with the nested array-----------------------------------------\n",
    "WeatherData140320191500=json_normalize(data=Data['list'], record_path='weather')\n",
    "\n",
    "#----Defining the columns of weather to add it to the main dataframe-------\n",
    "WeatherDataDescription140320191500=WeatherData140320191500.description\n",
    "WeatherDataIcon140320191500=WeatherData140320191500.icon\n",
    "WeatherDataMain140320191500=WeatherData140320191500.main\n",
    "WeatherDataId140320191500=WeatherData140320191500.id\n",
    "\n",
    "DataFrame140320191500['description']=WeatherDataDescription140320191500\n",
    "DataFrame140320191500['main']=WeatherDataMain140320191500\n",
    "DataFrame140320191500['Icon']=WeatherDataIcon140320191500\n",
    "\n",
    "DataFrame140320191500['Id']=WeatherDataId140320191500\n",
    "\n",
    "DublinWeather140320191500=DataFrame140320191500[DataFrame140320191500[\"dt_txt\"] == \"2019-03-14 15:00:00\"]\n",
    "DublinWeather140320191500\n",
    "DublinWeather140320191500=DublinWeather140320191500.drop(DublinWeather140320191500.columns[[0,1,3,5,6,8,12,13,14,15,18,19]], axis=1)\n",
    "DublinWeather140320191500"
   ]
  },
  {
   "cell_type": "markdown",
   "metadata": {},
   "source": [
    "##### Importing bike information for 10th March 2019 at approx 15:30 pm"
   ]
  },
  {
   "cell_type": "code",
   "execution_count": 66,
   "metadata": {},
   "outputs": [],
   "source": [
    "with open('BikeData100320191500.json', 'r') as file:\n",
    "    Data = json.load(file)\n",
    "    \n",
    "DataCollected100320191500 = json_normalize(Data)\n",
    "DataFrame100320191500=pd.DataFrame(DataCollected100320191500)\n",
    "DataFrame100320191500=DataFrame100320191500[DataFrame100320191500[\"contract_name\"] == \"Dublin\"]"
   ]
  },
  {
   "cell_type": "markdown",
   "metadata": {},
   "source": [
    "##### Importing bike information for 15th March 2019 at approx 15:00 pm"
   ]
  },
  {
   "cell_type": "code",
   "execution_count": 67,
   "metadata": {},
   "outputs": [],
   "source": [
    "with open('BikeData150320191500.json', 'r') as file:\n",
    "    Data = json.load(file)\n",
    "    \n",
    "DataCollected150320191500 = json_normalize(Data)\n",
    "DataFrame150320191500=pd.DataFrame(DataCollected150320191500)\n",
    "DataFrame150320191500=DataFrame150320191500[DataFrame150320191500[\"contract_name\"] == \"Dublin\"]"
   ]
  },
  {
   "cell_type": "markdown",
   "metadata": {},
   "source": [
    "##### Importing bike information for 14th March 2019 at 15:00 pm"
   ]
  },
  {
   "cell_type": "code",
   "execution_count": 68,
   "metadata": {},
   "outputs": [],
   "source": [
    "with open('BikeData140320191500.json', 'r') as file:\n",
    "    Data = json.load(file)\n",
    "    \n",
    "DataCollected140320191500 = json_normalize(Data)\n",
    "DataFrame140320191500=pd.DataFrame(DataCollected140320191500)\n",
    "DataFrame140320191500=DataFrame140320191500[DataFrame140320191500[\"contract_name\"] == \"Dublin\"]"
   ]
  },
  {
   "cell_type": "code",
   "execution_count": 69,
   "metadata": {},
   "outputs": [],
   "source": [
    "DescribeDataFrame100320191500=DataFrame100320191500.describe()"
   ]
  },
  {
   "cell_type": "code",
   "execution_count": 70,
   "metadata": {},
   "outputs": [],
   "source": [
    "DescribeDataFrame150320191500=DataFrame150320191500.describe()"
   ]
  },
  {
   "cell_type": "code",
   "execution_count": 71,
   "metadata": {},
   "outputs": [],
   "source": [
    "DescribeDataFrame140320191500=DataFrame140320191500.describe()"
   ]
  },
  {
   "cell_type": "code",
   "execution_count": 72,
   "metadata": {},
   "outputs": [
    {
     "data": {
      "text/html": [
       "<div>\n",
       "<style scoped>\n",
       "    .dataframe tbody tr th:only-of-type {\n",
       "        vertical-align: middle;\n",
       "    }\n",
       "\n",
       "    .dataframe tbody tr th {\n",
       "        vertical-align: top;\n",
       "    }\n",
       "\n",
       "    .dataframe thead th {\n",
       "        text-align: right;\n",
       "    }\n",
       "</style>\n",
       "<table border=\"1\" class=\"dataframe\">\n",
       "  <thead>\n",
       "    <tr style=\"text-align: right;\">\n",
       "      <th></th>\n",
       "      <th>dt_txt</th>\n",
       "      <th>main.humidity</th>\n",
       "      <th>main.temp</th>\n",
       "      <th>main.temp_max</th>\n",
       "      <th>main.temp_min</th>\n",
       "      <th>rain.3h</th>\n",
       "      <th>description</th>\n",
       "      <th>main</th>\n",
       "      <th>Average available bikes</th>\n",
       "    </tr>\n",
       "  </thead>\n",
       "  <tbody>\n",
       "    <tr>\n",
       "      <th>0</th>\n",
       "      <td>2019-03-10 15:00:00</td>\n",
       "      <td>86</td>\n",
       "      <td>276.58</td>\n",
       "      <td>277.04</td>\n",
       "      <td>276.15</td>\n",
       "      <td>0.64</td>\n",
       "      <td>shower rain</td>\n",
       "      <td>Rain</td>\n",
       "      <td>11.008850</td>\n",
       "    </tr>\n",
       "    <tr>\n",
       "      <th>1</th>\n",
       "      <td>2019-03-14 15:00:00</td>\n",
       "      <td>88</td>\n",
       "      <td>9.78</td>\n",
       "      <td>9.78</td>\n",
       "      <td>9.78</td>\n",
       "      <td>0.00</td>\n",
       "      <td>few clouds</td>\n",
       "      <td>Clouds</td>\n",
       "      <td>10.522124</td>\n",
       "    </tr>\n",
       "    <tr>\n",
       "      <th>2</th>\n",
       "      <td>2019-03-15 15:00:00</td>\n",
       "      <td>87</td>\n",
       "      <td>10.00</td>\n",
       "      <td>10.00</td>\n",
       "      <td>10.00</td>\n",
       "      <td>0.00</td>\n",
       "      <td>broken clouds</td>\n",
       "      <td>Clouds</td>\n",
       "      <td>10.495575</td>\n",
       "    </tr>\n",
       "  </tbody>\n",
       "</table>\n",
       "</div>"
      ],
      "text/plain": [
       "                dt_txt  main.humidity  main.temp  main.temp_max  \\\n",
       "0  2019-03-10 15:00:00             86     276.58         277.04   \n",
       "1  2019-03-14 15:00:00             88       9.78           9.78   \n",
       "2  2019-03-15 15:00:00             87      10.00          10.00   \n",
       "\n",
       "   main.temp_min  rain.3h    description    main  Average available bikes  \n",
       "0         276.15     0.64    shower rain    Rain                11.008850  \n",
       "1           9.78     0.00     few clouds  Clouds                10.522124  \n",
       "2          10.00     0.00  broken clouds  Clouds                10.495575  "
      ]
     },
     "execution_count": 72,
     "metadata": {},
     "output_type": "execute_result"
    }
   ],
   "source": [
    "# creating a dataframe to contain all the information - weather and average available bikes\n",
    "AvailableBikesDescribeDataFrame100320191500=DescribeDataFrame100320191500.loc['mean','available_bikes']\n",
    "AvailableBikesDescribeDataFrame140320191500=DescribeDataFrame140320191500.loc['mean','available_bikes']\n",
    "AvailableBikesDescribeDataFrame150320191500=DescribeDataFrame150320191500.loc['mean','available_bikes']\n",
    "DublinWeather100320191500['Average available bikes'] = AvailableBikesDescribeDataFrame100320191500\n",
    "DublinWeather140320191500['Average available bikes'] = AvailableBikesDescribeDataFrame140320191500\n",
    "DublinWeather150320191500['Average available bikes'] = AvailableBikesDescribeDataFrame150320191500\n",
    "\n",
    "# Pass the row elements as key value pairs to append() function \n",
    "PartDataFrame = DublinWeather100320191500.append( DublinWeather140320191500, ignore_index=True)\n",
    "FullDataFrame=PartDataFrame.append(DublinWeather150320191500, ignore_index=True)\n",
    "\n",
    "CompleteFullDataFrame =FullDataFrame.fillna(0)\n",
    "CompleteFullDataFrame"
   ]
  },
  {
   "cell_type": "markdown",
   "metadata": {},
   "source": [
    "We can see from the dataframe that the results are as expected. The average available bikes at the station is greater when the weather is worse. On the 10th March 2019, it was raining and so the average availability of bikes was approx 11 while the average availabilty of bikes on the 14th March and 15th March was less, at approximately 10.5. Less people are willing to cycle when the weather is bad."
   ]
  },
  {
   "cell_type": "code",
   "execution_count": 73,
   "metadata": {},
   "outputs": [
    {
     "data": {
      "text/html": [
       "<div>\n",
       "<style scoped>\n",
       "    .dataframe tbody tr th:only-of-type {\n",
       "        vertical-align: middle;\n",
       "    }\n",
       "\n",
       "    .dataframe tbody tr th {\n",
       "        vertical-align: top;\n",
       "    }\n",
       "\n",
       "    .dataframe thead th {\n",
       "        text-align: right;\n",
       "    }\n",
       "</style>\n",
       "<table border=\"1\" class=\"dataframe\">\n",
       "  <thead>\n",
       "    <tr style=\"text-align: right;\">\n",
       "      <th></th>\n",
       "      <th>rain.3h</th>\n",
       "      <th>Average available bikes</th>\n",
       "    </tr>\n",
       "  </thead>\n",
       "  <tbody>\n",
       "    <tr>\n",
       "      <th>rain.3h</th>\n",
       "      <td>1.000000</td>\n",
       "      <td>0.998944</td>\n",
       "    </tr>\n",
       "    <tr>\n",
       "      <th>Average available bikes</th>\n",
       "      <td>0.998944</td>\n",
       "      <td>1.000000</td>\n",
       "    </tr>\n",
       "  </tbody>\n",
       "</table>\n",
       "</div>"
      ],
      "text/plain": [
       "                          rain.3h  Average available bikes\n",
       "rain.3h                  1.000000                 0.998944\n",
       "Average available bikes  0.998944                 1.000000"
      ]
     },
     "execution_count": 73,
     "metadata": {},
     "output_type": "execute_result"
    }
   ],
   "source": [
    "CorrDataFrame = CompleteFullDataFrame[['rain.3h', 'Average available bikes']]\n",
    "\n",
    "CorrDataFrame.corr()"
   ]
  },
  {
   "cell_type": "markdown",
   "metadata": {},
   "source": [
    "Although we only have 3 values for each variable, we can look at the correlation between rain and average availbility of bikes. Above we can see that the correlation is extremely high at 0.9989 informing us that as the rain increases so does the average availabilty of bikes. However, as mentioned before, the amount of samples used for this correlation are very small so the value is not as accurate as it should be."
   ]
  },
  {
   "cell_type": "markdown",
   "metadata": {},
   "source": [
    "### Conclusion "
   ]
  },
  {
   "cell_type": "markdown",
   "metadata": {},
   "source": [
    "To conclude, we can see that the bike scheme is popular in many cities. In Dublin, the bike scheme is especially popular as a commuting tool. We also saw that bad weather has an impact of the usage of the bikes in Dublin. During bad weather, the average availability of bikes decreases compared to dry weather. However, cold weather doesnt affect the usage of the bikes as we saw when we compared Seville and Gothenburg."
   ]
  }
 ],
 "metadata": {
  "kernelspec": {
   "display_name": "Python 3",
   "language": "python",
   "name": "python3"
  },
  "language_info": {
   "codemirror_mode": {
    "name": "ipython",
    "version": 3
   },
   "file_extension": ".py",
   "mimetype": "text/x-python",
   "name": "python",
   "nbconvert_exporter": "python",
   "pygments_lexer": "ipython3",
   "version": "3.7.4"
  }
 },
 "nbformat": 4,
 "nbformat_minor": 2
}
