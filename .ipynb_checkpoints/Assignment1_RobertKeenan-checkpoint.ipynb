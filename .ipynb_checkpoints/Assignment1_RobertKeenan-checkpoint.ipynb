{
 "cells": [
  {
   "cell_type": "markdown",
   "metadata": {},
   "source": [
    "# COMP41680 API Assignment 1\n",
    "## Robert Keenan 15333066\n",
    "### An Aviation API and Weather API"
   ]
  },
  {
   "cell_type": "markdown",
   "metadata": {},
   "source": [
    "## Step 1: APIs\n",
    "For the first API, I have chosen to use the Aviationstack API which is one of the largest and most utilised APIs for real time and historical flight data. I will use this in unison with a weather API which will be used to determine the correlation/relationship between the weather and flight's statuses at different airports. I will then further investigate whether the weather affects different airlines, routes or airplane models differently such as between a small regional jet and a large, long range jet such as the Boeing 777.\n",
    "- The Aviationstack API can be found here: https://aviationstack.com\n",
    "- The weather API can be found here at: TODO/FIXME\n",
    "\n",
    "I received an API key for my Aviationstack account which is given as b4a871dbf85b4f670dafbdc9615a68e9.\n",
    "\n",
    "I will firstly import any libraries or packages needed and then make a start on the data collection stage of the assignment. \n",
    "\n",
    "Each API has thorough documentation on their websites detailing all of the endpoints available to a user, how to make an API request and how to tailor these requests for the information you need for your purpose.\n",
    "In terms of the Aviationstack API, a number of pieces of information can be gathered such as real-time or historical data, different routes, airports, planes, aircraft types and countries. All of these endpoints or pieces of information can be used to infer something from the data.\n",
    "The Aviationstack API allows 500 free API requests a month and I chose this one over FlightAware as FlightAware charges for each request.\n",
    "\n",
    "Finally, you are only entitled to 100 items of data per API call given by the 'limit' in pagination seen in a response. As a result, if there is 800 pieces of data that I need, the API needs to be called 8 times to obtain all o this data. This is simply a necessary evil with the free account from aviationstack and they are offering a lot of information for free from one API call, so it is expected. Each JSON file of data will need to be cleaned and combined with each other to create a general file for one purpose. \n",
    "\n",
    "FIXME TALK ABOUT THE WEATHER API\n",
    "\n"
   ]
  },
  {
   "cell_type": "code",
   "execution_count": 95,
   "metadata": {},
   "outputs": [],
   "source": [
    "import os\n",
    "import urllib.request\n",
    "import csv\n",
    "import json\n",
    "import pandas as pd \n",
    "from datetime import datetime\n",
    "\n",
    "import requests\n",
    "\n",
    "params_departure_active = {\n",
    "    'access_key': 'b4a871dbf85b4f670dafbdc9615a68e9',\n",
    "    'dep_iata': 'LHR',\n",
    "    'flight_status': 'active',\n",
    "    'airline_iata': 'BA',\n",
    "}\n",
    "\n",
    "params_departure_active_delayed = {\n",
    "    'access_key': 'b4a871dbf85b4f670dafbdc9615a68e9',\n",
    "    'dep_iata': 'LHR',\n",
    "    'flight_status': 'active',\n",
    "    'min_delay_dep': '1',\n",
    "    'airline_iata': 'BA',\n",
    "}\n",
    "\n",
    "params_departure_landed = {\n",
    "    'access_key': 'b4a871dbf85b4f670dafbdc9615a68e9',\n",
    "    'dep_iata': 'LHR',\n",
    "    'flight_status': 'landed',\n",
    "    'airline_iata': 'BA',\n",
    "}\n",
    "\n",
    "params_departure_landed_delayed = {\n",
    "    'access_key': 'b4a871dbf85b4f670dafbdc9615a68e9',\n",
    "    'dep_iata': 'LHR',\n",
    "    'flight_status': 'landed', \n",
    "    'min_delay_dep': '1',\n",
    "    'airline_iata': 'BA',\n",
    "}\n",
    "\n",
    "params_arrival_landed = {\n",
    "    'access_key': 'b4a871dbf85b4f670dafbdc9615a68e9',\n",
    "    'arr_iata': 'LHR',\n",
    "    'flight_status': 'landed',\n",
    "    'airline_iata': 'BA',\n",
    "}\n",
    "\n",
    "params_arrival_landed_delayed = {\n",
    "    'access_key': 'b4a871dbf85b4f670dafbdc9615a68e9',\n",
    "    'arr_iata': 'LHR',\n",
    "    'flight_status': 'landed',\n",
    "    'min_delay_arr': '1',\n",
    "    'airline_iata': 'BA',\n",
    "}\n",
    "\n",
    "params_Dublin_Airport = {\n",
    "    'access_key': 'b4a871dbf85b4f670dafbdc9615a68e9',\n",
    "    'arr_iata': 'DUB',\n",
    "    'flight_status': 'landed',\n",
    "    'offset': '800'\n",
    "}\n",
    "\n",
    "#dept_active = requests.get('http://api.aviationstack.com/v1/flights', params_departure_active)\n",
    "#dept_active_delay = requests.get('http://api.aviationstack.com/v1/flights', params_departure_active_delayed)\n",
    "#dept_landed = requests.get('http://api.aviationstack.com/v1/flights', params_departure_landed)\n",
    "#dept_landed_delayed = requests.get('http://api.aviationstack.com/v1/flights', params_departure_landed_delayed)\n",
    "#arr_landed = requests.get('http://api.aviationstack.com/v1/flights', params_arrival_landed)\n",
    "#arr_landed_delayed = requests.get('http://api.aviationstack.com/v1/flights', params_arrival_landed_delayed)\n",
    "Dublin_Airport = requests.get('http://api.aviationstack.com/v1/flights', params_Dublin_Airport)"
   ]
  },
  {
   "cell_type": "markdown",
   "metadata": {},
   "source": [
    "In this section, I will define the utility functions which will take the JSON data, parse into a file and then save these files in date specific formats."
   ]
  },
  {
   "cell_type": "code",
   "execution_count": 96,
   "metadata": {},
   "outputs": [],
   "source": [
    "def create_write_to_files(data_name, name_of_file):\n",
    "    now = datetime.now()\n",
    "    dt_string = now.strftime(\"%d-%m_%H_%M\")\n",
    "    data_json = data_name.json()\n",
    "    THIS_FOLDER = os.path.abspath(os.getcwd())\n",
    "    new_file_name = os.path.join(THIS_FOLDER, str(name_of_file)+'_'+ str(dt_string) +'.json')\n",
    "    with open(new_file_name, 'w+', encoding='utf-8') as new_json_file:\n",
    "        json.dump(data_json, new_json_file, ensure_ascii=False, indent=4)\n",
    "\n"
   ]
  },
  {
   "cell_type": "code",
   "execution_count": 97,
   "metadata": {},
   "outputs": [],
   "source": [
    "#create_write_to_files(dept_active, 'LHR_BA_dept_active')\n",
    "#create_write_to_files(dept_active_delay, 'LHR_BA_dept_active_delay')\n",
    "#create_write_to_files(dept_landed, 'LHR_BA_dept_landed')\n",
    "#create_write_to_files(dept_landed_delayed, 'LHR_BA_dept_landed_delayed')\n",
    "#create_write_to_files(arr_landed, 'LHR_BA_arr_landed')\n",
    "#create_write_to_files(arr_landed_delayed, 'LHR_BA_arr_landed_delayed')\n",
    "create_write_to_files(Dublin_Airport, 'Dublin_Airport_arrivals_800')"
   ]
  },
  {
   "cell_type": "markdown",
   "metadata": {},
   "source": [
    "From here, I need to do the weather API and also be able to parse the data to see if I can see the relationships. In terms of data that is delayed and not delayed in terms of the files, I can check to see if the files are common and just take the delayed ones out that are currently in the file, if not add them"
   ]
  },
  {
   "cell_type": "code",
   "execution_count": null,
   "metadata": {},
   "outputs": [],
   "source": []
  }
 ],
 "metadata": {
  "kernelspec": {
   "display_name": "Python 3",
   "language": "python",
   "name": "python3"
  },
  "language_info": {
   "codemirror_mode": {
    "name": "ipython",
    "version": 3
   },
   "file_extension": ".py",
   "mimetype": "text/x-python",
   "name": "python",
   "nbconvert_exporter": "python",
   "pygments_lexer": "ipython3",
   "version": "3.7.4"
  }
 },
 "nbformat": 4,
 "nbformat_minor": 2
}
