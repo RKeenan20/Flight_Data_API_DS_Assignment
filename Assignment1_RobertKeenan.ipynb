{
 "cells": [
  {
   "cell_type": "markdown",
   "metadata": {},
   "source": [
    "# COMP41680 API Assignment 1\n",
    "## Robert Keenan 15333066\n",
    "### An Aviation API and Weather API"
   ]
  },
  {
   "cell_type": "markdown",
   "metadata": {},
   "source": [
    "## Step 1: APIs\n",
    "For the first API, I have chosen to use the Aviationstack API which is one of the largest and most utilised APIs for real time and historical flight data. I will use this in unison with a weather API which will be used to determine the correlation/relationship between the weather and flight's statuses at different airports. I will then further investigate whether the weather affects different airlines, routes or airplane models differently such as between a small regional jet and a large, long range jet such as the Boeing 777.\n",
    "- The Aviationstack API can be found here: https://aviationstack.com\n",
    "- The weather API can be found here at: TODO/FIXME\n",
    "\n",
    "I will firstly import any libraries or packages needed and then make a start on the data collection stage of the assignment. \n",
    "\n",
    "Each API has thorough documentation on their websites detailing all of the endpoints available to a user, how to make an API request and how to tailor these requests for the information you need for your purpose.\n",
    "\n",
    "### API 1: Aviationstack API \n",
    "I received an API key for my Aviationstack account which is given as b4a871dbf85b4f670dafbdc9615a68e9.\n",
    "In terms of the Aviationstack API, a number of pieces of information can be gathered such as real-time or historical data, different routes, airports, planes, aircraft types and countries. All of these endpoints or pieces of information can be used to infer something from the data.\n",
    "The Aviationstack API allows 500 free API requests a month and I chose this one over FlightAware as FlightAware charges for each request.\n",
    "\n",
    "With the aviationstack API, each API call returns 100 flights using the \"flights\" endpoint which is determined by the \"limit\" of 100. Unfortunately the limit is 100 for the free and basic paid plans. I have the Free plan which allows you the 500 API calls a month, but I emailed the Customer Support team who were happy to give me a free upgrade to the Basic Plan for 2 weeks to complete the project which allows 10,000 calls a month as well as access to Historical flight data which would make my analysis a little easier. If I wanted to gather 300 items from the same endpoint, I would need to use the \"offset\" variable to move the starting point by 100 each time. This would mean I had 3 files.\n",
    "\n",
    "These 3 JSON files will need to be cleaned and combined with each other to create one file. \n",
    "\n",
    "\n",
    "### API 2: World Weather Online API\n",
    "\n",
    "FIXME TALK ABOUT THE WEATHER API\n",
    "\n"
   ]
  },
  {
   "cell_type": "code",
   "execution_count": 2,
   "metadata": {},
   "outputs": [],
   "source": [
    "import os\n",
    "import urllib.request\n",
    "import fnmatch\n",
    "import csv\n",
    "import json\n",
    "import pandas as pd \n",
    "from pandas.io.json import json_normalize\n",
    "from datetime import datetime\n",
    "import matplotlib\n",
    "import matplotlib.pyplot as plt\n",
    "import numpy as np \n",
    "import requests\n",
    "from gmplot import *\n",
    "%matplotlib inline"
   ]
  },
  {
   "cell_type": "code",
   "execution_count": 3,
   "metadata": {},
   "outputs": [],
   "source": [
    "params_departure_active = {\n",
    "    'access_key': 'b4a871dbf85b4f670dafbdc9615a68e9',\n",
    "    'dep_iata': 'LHR',\n",
    "    'flight_status': 'active',\n",
    "    'airline_iata': 'BA',\n",
    "}\n",
    "\n",
    "params_departure_active_delayed = {\n",
    "    'access_key': 'b4a871dbf85b4f670dafbdc9615a68e9',\n",
    "    'dep_iata': 'LHR',\n",
    "    'flight_status': 'active',\n",
    "    'min_delay_dep': '1',\n",
    "    'airline_iata': 'BA',\n",
    "}\n",
    "\n",
    "params_departure_landed = {\n",
    "    'access_key': 'b4a871dbf85b4f670dafbdc9615a68e9',\n",
    "    'dep_iata': 'LHR',\n",
    "    'flight_status': 'landed',\n",
    "    'airline_iata': 'BA',\n",
    "}\n",
    "\n",
    "params_departure_landed_delayed = {\n",
    "    'access_key': 'b4a871dbf85b4f670dafbdc9615a68e9',\n",
    "    'dep_iata': 'LHR',\n",
    "    'flight_status': 'landed', \n",
    "    'min_delay_dep': '1',\n",
    "    'airline_iata': 'BA',\n",
    "}\n",
    "\n",
    "params_arrival_landed = {\n",
    "    'access_key': 'b4a871dbf85b4f670dafbdc9615a68e9',\n",
    "    'arr_iata': 'LHR',\n",
    "    'flight_status': 'landed',\n",
    "    'airline_iata': 'BA',\n",
    "}\n",
    "\n",
    "params_arrival_landed_delayed = {\n",
    "    'access_key': 'b4a871dbf85b4f670dafbdc9615a68e9',\n",
    "    'arr_iata': 'LHR',\n",
    "    'flight_status': 'landed',\n",
    "    'min_delay_arr': '1',\n",
    "    'airline_iata': 'BA',\n",
    "}\n",
    "\n",
    "params_Dublin_Airport = {\n",
    "    'access_key': 'b4a871dbf85b4f670dafbdc9615a68e9',\n",
    "    'dep_iata': 'DUB',\n",
    "    'flight_status': 'scheduled',\n",
    "    'offset': '0',\n",
    "    'flight_date': '2020-03-05'\n",
    "}\n",
    "\n",
    "params_NY_LA = {\n",
    "    'access_key': 'b4a871dbf85b4f670dafbdc9615a68e9',\n",
    "    'arr_iata': 'LAX',\n",
    "    'dep_iata': 'JFK',\n",
    "    'flight_status': 'landed',\n",
    "    'offset': '0',\n",
    "    'flight_date': '2020-03-05'\n",
    "}\n",
    "\n",
    "\n",
    "\n",
    "\n",
    "#dept_active = requests.get('http://api.aviationstack.com/v1/flights', params_departure_active)\n",
    "#dept_active_delay = requests.get('http://api.aviationstack.com/v1/flights', params_departure_active_delayed)\n",
    "#dept_landed = requests.get('http://api.aviationstack.com/v1/flights', params_departure_landed)\n",
    "#dept_landed_delayed = requests.get('http://api.aviationstack.com/v1/flights', params_departure_landed_delayed)\n",
    "#arr_landed = requests.get('http://api.aviationstack.com/v1/flights', params_arrival_landed)\n",
    "#arr_landed_delayed = requests.get('http://api.aviationstack.com/v1/flights', params_arrival_landed_delayed)\n",
    "#Dublin_Airport = requests.get('http://api.aviationstack.com/v1/flights', params_Dublin_Airport)\n",
    "#NY_to_LA = requests.get('http://api.aviationstack.com/v1/flights', params_NY_LA)"
   ]
  },
  {
   "cell_type": "markdown",
   "metadata": {},
   "source": [
    "In this section, I will define the utility functions which will take the JSON data, parse into a file and then save these files in date specific formats."
   ]
  },
  {
   "cell_type": "code",
   "execution_count": 4,
   "metadata": {},
   "outputs": [],
   "source": [
    "#From here create a get data file which we will pass in the data to\n",
    "\n",
    "#if response.status_code != 200:\n",
    "    # This means something went wrong.\n",
    " #       print(\"Something went wrong\")\n",
    "\n",
    "\n",
    "\n",
    "def API_request_write_to_file(name_of_file, endpoint, params):\n",
    "    if endpoint == 'flights':\n",
    "        data = requests.get('http://api.aviationstack.com/v1/flights', params)\n",
    "    elif endpoint == 'airports':\n",
    "        data = requests.get('http://api.aviationstack.com/v1/airports', params)\n",
    "    else:\n",
    "        data = requests.get('http://api.aviationstack.com/v1/flights', params)\n",
    "    now = datetime.now()\n",
    "    dt_string = now.strftime(\"%d-%m_%H_%M\")\n",
    "    data_json = data.json()\n",
    "    THIS_FOLDER = os.path.abspath(os.getcwd())\n",
    "    new_file_name = os.path.join(THIS_FOLDER, str(name_of_file)+'_'+ str(dt_string) +'.json')\n",
    "    with open(new_file_name, 'w+', encoding='utf-8') as new_json_file:\n",
    "        json.dump(data_json, new_json_file, ensure_ascii=False, indent=4)\n",
    "\n"
   ]
  },
  {
   "cell_type": "code",
   "execution_count": 5,
   "metadata": {},
   "outputs": [],
   "source": [
    "#create_write_to_files(dept_active, 'LHR_BA_dept_active')\n",
    "#create_write_to_files(dept_active_delay, 'LHR_BA_dept_active_delay')\n",
    "#create_write_to_files(dept_landed, 'LHR_BA_dept_landed')\n",
    "#create_write_to_files(dept_landed_delayed, 'LHR_BA_dept_landed_delayed')\n",
    "#create_write_to_files(arr_landed, 'LHR_BA_arr_landed')\n",
    "#create_write_to_files(arr_landed_delayed, 'LHR_BA_arr_landed_delayed')\n",
    "#create_write_to_files(Dublin_Airport, 'Dublin_Airport_arrivals_800')\n",
    "#create_write_to_files(NY_to_LA, 'JFK_to_LA_landed_5March')\n",
    "\n",
    "\n",
    "#API_request_write_to_file('ORD_test', 'flights', params_Dublin_Airport)\n",
    "#API_request_write_to_file('Dublin_biggest_departures_0', 'flights', params_Dublin_Airport)"
   ]
  },
  {
   "cell_type": "markdown",
   "metadata": {},
   "source": [
    "From here, I need to do the weather API and also be able to parse the data to see if I can see the relationships. In terms of data that is delayed and not delayed in terms of the files, I can check to see if the files are common and just take the delayed ones out that are currently in the file, if not add them"
   ]
  },
  {
   "cell_type": "markdown",
   "metadata": {},
   "source": [
    "## Case 1: Dublin Airport's Routes\n",
    "In this case, I decided to use the aviationstack API to find out the most popular routes and airlines into and out of Dublin Airport on the 5th of March 2020. In this case, the real time flights endpoint will provide with all of the flights in a day. I used the parameters of \"flight_status\": \"landed\", \"dep_iata\": \"DUB\" and obviously, I needed \"offset\" to iterate through the results as I am limited to 100 results per API call. DUB is the IATA code of Dublin Airport. I could have used the ICAO code of EIDW either. In this case, I have obtained over 800 flights for departures which will need to be combined together before I can use the for analysis. "
   ]
  },
  {
   "cell_type": "markdown",
   "metadata": {},
   "source": [
    "### Step 1: Loading and cleaning API data\n",
    "In terms of the aviationstack API data which is now stored in JSON file format. I will need to load it, normalize it into an appropriate data structure so that I can analyse the data. Each flight or item in an API request has a number of fields such as \"departure\", \"arrival\", \"airline\", \"aircraft\" and many more. Inside each of these fields is a lot more information such as IATA/ICAO codes, airport information and aircraft registrations. \n",
    "\n",
    "However, the majority of this information is available to me in an API request but sometimes some of this information is returned as \"null\" such as the aircraft model type and its registration which is more than likely the most common. One of the fields, \"live\", is relegated for information about a live flight still in the air but I have preferred to use flights that have a status of \"landed\". As a result, it is up to me to load the data and clean it appropriately so that I can interpret the data properly without the effect of these redundant variables.\n",
    "\n",
    "In other case that I need to consider is that codeshares between airlines can make the data awkward to deal with. In the case of a flight from Dublin to London Heathrow, the airline reported by the API request could be Qatar Airways which is a member of OneWorld Alliance with British Airways who actually operated the flight. As a result, I need to delete these codeshared flights if the original flight is also present in the API request. "
   ]
  },
  {
   "cell_type": "code",
   "execution_count": 6,
   "metadata": {},
   "outputs": [],
   "source": [
    "def combine_data_frames(start_filename):\n",
    "    #This will count the number of files which use this preamble\n",
    "    num_files = 0\n",
    "    #Initialise list to store names\n",
    "    file_matches = []\n",
    "    for name in os.listdir('.'):\n",
    "        if start_filename in name:\n",
    "              file_matches.append(name)\n",
    "            \n",
    "    for index,file in enumerate(file_matches):\n",
    "        with open(file, 'r') as file_to_join:\n",
    "            data = json.load(file_to_join)\n",
    "        #Normalizing the data\n",
    "        normalized_data = json_normalize(data['data'])\n",
    "        #If first iteration, create the data frame \n",
    "        if index == 0:\n",
    "            data_frame = pd.DataFrame(normalized_data)\n",
    "        else:\n",
    "            data_frame_add = pd.DataFrame(normalized_data)\n",
    "            data_frame = pd.concat([data_frame, data_frame_add], ignore_index=True, sort = True)\n",
    "    return data_frame\n",
    "    \n",
    "    \n",
    "# This codeshare function will check if the flight number is common in multiple places.\n",
    "# If it is present in the codeshare section and the codeshare of the original flight number is present, \n",
    "# delete the other flight\n",
    "def codeshare_flight_deletion(data_frame):\n",
    "    #Takes in the data frame and looks at each of the flight_numbers and the\n",
    "    flight_times = data_frame['departure.scheduled']\n",
    "    flight_numbers = data_frame['flight.iata']\n",
    "    codeshared_flight = data_frame['flight.codeshared.flight_iata']\n",
    "    for index,num in enumerate(codeshared_flight):\n",
    "        #Need to continually update the flight numbers\n",
    "        #flight_numbers = data_frame['flight.iata']\n",
    "        if num != 'nan' or num != None or num != 'NaN':\n",
    "            for index_2, flight_num in enumerate(flight_numbers):\n",
    "                if num == flight_num.lower() and flight_times[index] == flight_times[index_2]:\n",
    "                    data_frame.drop([index], axis = 0, inplace = True)\n",
    "                    print(\"Codeshare Flight \"+num+\" has been deleted\")\n",
    "                    break\n",
    "                else:\n",
    "                    continue\n",
    "        #There is a NaN for the codeshare so go through\n",
    "        else:\n",
    "            continue\n",
    "    data_frame.reset_index(drop = True, inplace = True)\n",
    "    return data_frame\n",
    "\n",
    "#This function will be used to take the most popular items as stated in a data frame\n",
    "def most_popular(data_frame, limit):\n",
    "    print(data_frame.columns)\n",
    "    \n",
    "def desired_date(desired_date, data_frame):\n",
    "    for index,date in enumerate(data_frame['flight_date']):\n",
    "        if desired_date not in date:\n",
    "            data_frame.drop([index], axis = 0, inplace = True)\n",
    "        else:\n",
    "            continue\n",
    "    data_frame.reset_index(drop = True, inplace = True)        \n",
    "    return data_frame\n",
    "            \n",
    "    \n",
    "    \n",
    "    \n",
    "#FIXME build a function that can open a number of files that have the same initial extension\n",
    "    \n",
    "\n",
    "    \n"
   ]
  },
  {
   "cell_type": "code",
   "execution_count": 7,
   "metadata": {},
   "outputs": [],
   "source": [
    "DUB_data_1 = combine_data_frames('Dublin_biggest_departures_')"
   ]
  },
  {
   "cell_type": "markdown",
   "metadata": {},
   "source": [
    "From here, I can normalize the JSON data to create a flat table and then use Pandas to convert to a 2D data structure. "
   ]
  },
  {
   "cell_type": "code",
   "execution_count": 8,
   "metadata": {},
   "outputs": [
    {
     "name": "stdout",
     "output_type": "stream",
     "text": [
      "Index(['aircraft', 'aircraft.iata', 'aircraft.icao', 'aircraft.icao24',\n",
      "       'aircraft.registration', 'airline.iata', 'airline.icao', 'airline.name',\n",
      "       'arrival.actual', 'arrival.actual_runway', 'arrival.airport',\n",
      "       'arrival.baggage', 'arrival.delay', 'arrival.estimated',\n",
      "       'arrival.estimated_runway', 'arrival.gate', 'arrival.iata',\n",
      "       'arrival.icao', 'arrival.scheduled', 'arrival.terminal',\n",
      "       'arrival.timezone', 'departure.actual', 'departure.actual_runway',\n",
      "       'departure.airport', 'departure.delay', 'departure.estimated',\n",
      "       'departure.estimated_runway', 'departure.gate', 'departure.iata',\n",
      "       'departure.icao', 'departure.scheduled', 'departure.terminal',\n",
      "       'departure.timezone', 'flight.codeshared',\n",
      "       'flight.codeshared.airline_iata', 'flight.codeshared.airline_icao',\n",
      "       'flight.codeshared.airline_name', 'flight.codeshared.flight_iata',\n",
      "       'flight.codeshared.flight_icao', 'flight.codeshared.flight_number',\n",
      "       'flight.iata', 'flight.icao', 'flight.number', 'flight_date',\n",
      "       'flight_status', 'live'],\n",
      "      dtype='object')\n"
     ]
    }
   ],
   "source": [
    "#I access the 'data' field as the other information is the pagination offsets and limits which are not needed\n",
    "\n",
    "# There are a number of columns in the Data Frame and I need to see what these are and they are\n",
    "# related to the pagination information about offsets. I need to remove these and then access the info inside\n",
    "print(DUB_data_1.columns)\n",
    "\n"
   ]
  },
  {
   "cell_type": "markdown",
   "metadata": {},
   "source": [
    "I need to take account for the codeshared flights which are not valid in this case. After this, I can delete the data columns which are not needed. "
   ]
  },
  {
   "cell_type": "code",
   "execution_count": 9,
   "metadata": {},
   "outputs": [
    {
     "name": "stdout",
     "output_type": "stream",
     "text": [
      "Number of flights in data structure: 534\n"
     ]
    }
   ],
   "source": [
    "print(\"Number of flights in data structure: \"+ str(DUB_data_1.shape[0]))"
   ]
  },
  {
   "cell_type": "code",
   "execution_count": 10,
   "metadata": {},
   "outputs": [
    {
     "name": "stdout",
     "output_type": "stream",
     "text": [
      "Codeshare Flight cj4461 has been deleted\n",
      "Codeshare Flight cj4463 has been deleted\n",
      "Codeshare Flight cj4465 has been deleted\n",
      "Codeshare Flight cj4467 has been deleted\n",
      "Codeshare Flight cj4469 has been deleted\n",
      "Codeshare Flight cj4471 has been deleted\n",
      "Codeshare Flight cj4473 has been deleted\n",
      "Codeshare Flight wx280 has been deleted\n",
      "Codeshare Flight wx282 has been deleted\n",
      "Codeshare Flight wx284 has been deleted\n",
      "Codeshare Flight wx286 has been deleted\n",
      "Codeshare Flight wx288 has been deleted\n",
      "Codeshare Flight cj4461 has been deleted\n",
      "Codeshare Flight cj4463 has been deleted\n",
      "Codeshare Flight cj4465 has been deleted\n",
      "Codeshare Flight cj4467 has been deleted\n",
      "Codeshare Flight cj4469 has been deleted\n",
      "Codeshare Flight cj4471 has been deleted\n",
      "Codeshare Flight cj4473 has been deleted\n",
      "Codeshare Flight ei230 has been deleted\n",
      "Codeshare Flight ei232 has been deleted\n",
      "Codeshare Flight ei236 has been deleted\n",
      "Codeshare Flight ei238 has been deleted\n",
      "Codeshare Flight ei246 has been deleted\n",
      "Codeshare Flight ei248 has been deleted\n",
      "Codeshare Flight ba831 has been deleted\n",
      "Codeshare Flight ba833 has been deleted\n",
      "Codeshare Flight ba835 has been deleted\n",
      "Codeshare Flight ba837 has been deleted\n",
      "Codeshare Flight ba845 has been deleted\n",
      "Codeshare Flight ei154 has been deleted\n",
      "Codeshare Flight ei158 has been deleted\n",
      "Codeshare Flight ei168 has been deleted\n",
      "Codeshare Flight ei152 has been deleted\n",
      "Codeshare Flight ei186 has been deleted\n",
      "Codeshare Flight ei152 has been deleted\n",
      "Codeshare Flight ei154 has been deleted\n",
      "Codeshare Flight ei156 has been deleted\n",
      "Codeshare Flight ei158 has been deleted\n",
      "Codeshare Flight ei184 has been deleted\n",
      "Codeshare Flight ei164 has been deleted\n",
      "Codeshare Flight ei168 has been deleted\n",
      "Codeshare Flight ei172 has been deleted\n",
      "Codeshare Flight ei174 has been deleted\n",
      "Codeshare Flight ei176 has been deleted\n",
      "Codeshare Flight ei178 has been deleted\n",
      "Codeshare Flight ba827 has been deleted\n",
      "Codeshare Flight ba829 has been deleted\n",
      "Codeshare Flight ba831 has been deleted\n",
      "Codeshare Flight ba833 has been deleted\n",
      "Codeshare Flight ba835 has been deleted\n",
      "Codeshare Flight may8556 has been deleted\n",
      "Codeshare Flight ei764 has been deleted\n",
      "Codeshare Flight ei330 has been deleted\n",
      "Codeshare Flight ei338 has been deleted\n",
      "Codeshare Flight ei660 has been deleted\n",
      "Codeshare Flight rr*1926 has been deleted\n",
      "Codeshare Flight et552 has been deleted\n",
      "Codeshare Flight ac843 has been deleted\n",
      "Codeshare Flight et552 has been deleted\n",
      "Codeshare Flight ac843 has been deleted\n",
      "Codeshare Flight ei342 has been deleted\n",
      "Codeshare Flight re3286 has been deleted\n",
      "Codeshare Flight re3280 has been deleted\n",
      "Codeshare Flight re3282 has been deleted\n",
      "Codeshare Flight re3284 has been deleted\n",
      "Codeshare Flight re3286 has been deleted\n",
      "Codeshare Flight re3286 has been deleted\n",
      "Codeshare Flight re3284 has been deleted\n",
      "Codeshare Flight re3282 has been deleted\n",
      "Codeshare Flight ei630 has been deleted\n",
      "Codeshare Flight ei636 has been deleted\n",
      "Codeshare Flight a51117 has been deleted\n",
      "Codeshare Flight a51717 has been deleted\n",
      "Codeshare Flight af1017 has been deleted\n",
      "Codeshare Flight ei524 has been deleted\n",
      "Codeshare Flight ei520 has been deleted\n",
      "Codeshare Flight ei522 has been deleted\n",
      "Codeshare Flight ei526 has been deleted\n",
      "Codeshare Flight ei528 has been deleted\n",
      "Codeshare Flight a51717 has been deleted\n",
      "Codeshare Flight af1017 has been deleted\n",
      "Codeshare Flight af1017 has been deleted\n",
      "Codeshare Flight a51717 has been deleted\n",
      "Codeshare Flight af1817 has been deleted\n",
      "Codeshare Flight af1017 has been deleted\n",
      "Codeshare Flight a51117 has been deleted\n",
      "Codeshare Flight af1817 has been deleted\n",
      "Codeshare Flight af1017 has been deleted\n",
      "Codeshare Flight af1817 has been deleted\n",
      "Codeshare Flight af1017 has been deleted\n",
      "Codeshare Flight af1017 has been deleted\n",
      "Codeshare Flight a51117 has been deleted\n",
      "Codeshare Flight a51717 has been deleted\n",
      "Codeshare Flight af1817 has been deleted\n",
      "Codeshare Flight a51117 has been deleted\n",
      "Codeshare Flight af1817 has been deleted\n",
      "Codeshare Flight re3402 has been deleted\n",
      "Codeshare Flight re3408 has been deleted\n",
      "Codeshare Flight re3402 has been deleted\n",
      "Codeshare Flight re3408 has been deleted\n",
      "Codeshare Flight re3408 has been deleted\n",
      "Codeshare Flight re3402 has been deleted\n",
      "Codeshare Flight szs538 has been deleted\n",
      "Codeshare Flight szs538 has been deleted\n",
      "Codeshare Flight qr20 has been deleted\n",
      "Codeshare Flight ei692 has been deleted\n",
      "Codeshare Flight ei698 has been deleted\n",
      "Codeshare Flight ei692 has been deleted\n",
      "Codeshare Flight ei698 has been deleted\n",
      "Codeshare Flight ek162 has been deleted\n",
      "Codeshare Flight ek164 has been deleted\n",
      "Codeshare Flight re3250 has been deleted\n",
      "Codeshare Flight re3256 has been deleted\n",
      "Codeshare Flight re3258 has been deleted\n",
      "Codeshare Flight re3250 has been deleted\n",
      "Codeshare Flight re3256 has been deleted\n",
      "Codeshare Flight re3258 has been deleted\n",
      "Codeshare Flight re3550 has been deleted\n",
      "Codeshare Flight re3258 has been deleted\n",
      "Codeshare Flight ua22 has been deleted\n",
      "Codeshare Flight ua22 has been deleted\n",
      "Codeshare Flight ua22 has been deleted\n",
      "Codeshare Flight ei494 has been deleted\n",
      "Codeshare Flight ei402 has been deleted\n",
      "Codeshare Flight ei406 has been deleted\n",
      "Codeshare Flight ei406 has been deleted\n",
      "Codeshare Flight ei650 has been deleted\n",
      "Codeshare Flight ei656 has been deleted\n",
      "Codeshare Flight ei656 has been deleted\n",
      "Codeshare Flight may380 has been deleted\n",
      "Codeshare Flight lh979 has been deleted\n",
      "Codeshare Flight lh983 has been deleted\n",
      "Codeshare Flight lh979 has been deleted\n",
      "Codeshare Flight lh977 has been deleted\n",
      "Codeshare Flight lh983 has been deleted\n",
      "Codeshare Flight lh981 has been deleted\n",
      "Codeshare Flight lh979 has been deleted\n",
      "Codeshare Flight lh981 has been deleted\n",
      "Codeshare Flight lh983 has been deleted\n",
      "Codeshare Flight lh983 has been deleted\n",
      "Codeshare Flight re3220 has been deleted\n",
      "Codeshare Flight re3222 has been deleted\n",
      "Codeshare Flight re3224 has been deleted\n",
      "Codeshare Flight re3228 has been deleted\n",
      "Codeshare Flight re3220 has been deleted\n",
      "Codeshare Flight re3222 has been deleted\n",
      "Codeshare Flight re3224 has been deleted\n",
      "Codeshare Flight re3228 has been deleted\n",
      "Codeshare Flight re3224 has been deleted\n",
      "Codeshare Flight re3222 has been deleted\n",
      "Codeshare Flight ei680 has been deleted\n",
      "Codeshare Flight ei392 has been deleted\n",
      "Codeshare Flight n71386 has been deleted\n",
      "Codeshare Flight et500 has been deleted\n",
      "Codeshare Flight et500 has been deleted\n",
      "Codeshare Flight et500 has been deleted\n",
      "Codeshare Flight re3212 has been deleted\n",
      "Codeshare Flight re3216 has been deleted\n",
      "Codeshare Flight re3212 has been deleted\n",
      "Codeshare Flight re3216 has been deleted\n",
      "Codeshare Flight re3216 has been deleted\n",
      "Codeshare Flight re3212 has been deleted\n",
      "Codeshare Flight tk1976 has been deleted\n",
      "Codeshare Flight dl45 has been deleted\n",
      "Codeshare Flight ei105 has been deleted\n",
      "Codeshare Flight ei105 has been deleted\n",
      "Codeshare Flight dl45 has been deleted\n",
      "Codeshare Flight ei105 has been deleted\n",
      "Codeshare Flight re3208 has been deleted\n",
      "Codeshare Flight re3208 has been deleted\n",
      "Codeshare Flight re3208 has been deleted\n",
      "Codeshare Flight rr*1901 has been deleted\n",
      "Codeshare Flight re3390 has been deleted\n",
      "Codeshare Flight re3394 has been deleted\n",
      "Codeshare Flight re3390 has been deleted\n",
      "Codeshare Flight re3394 has been deleted\n",
      "Codeshare Flight re3394 has been deleted\n",
      "Codeshare Flight ba837 has been deleted\n",
      "Codeshare Flight ba839 has been deleted\n",
      "Codeshare Flight ei158 has been deleted\n",
      "Codeshare Flight ei154 has been deleted\n",
      "Codeshare Flight ei176 has been deleted\n",
      "Codeshare Flight ei156 has been deleted\n",
      "Codeshare Flight ba837 has been deleted\n",
      "Codeshare Flight ba829 has been deleted\n",
      "Codeshare Flight ba845 has been deleted\n",
      "Codeshare Flight ba837 has been deleted\n",
      "Codeshare Flight ba827 has been deleted\n",
      "Codeshare Flight ba839 has been deleted\n",
      "Codeshare Flight ba827 has been deleted\n",
      "Codeshare Flight ei154 has been deleted\n",
      "Codeshare Flight ei158 has been deleted\n",
      "Codeshare Flight ei152 has been deleted\n",
      "Codeshare Flight ei164 has been deleted\n",
      "Codeshare Flight ei168 has been deleted\n",
      "Codeshare Flight ei482 has been deleted\n",
      "Codeshare Flight tp1323 has been deleted\n",
      "Codeshare Flight ei782 has been deleted\n",
      "Codeshare Flight ei552 has been deleted\n",
      "Codeshare Flight ei592 has been deleted\n",
      "Codeshare Flight ei202 has been deleted\n",
      "Codeshare Flight ei210 has been deleted\n",
      "Codeshare Flight ei212 has been deleted\n",
      "Codeshare Flight re3322 has been deleted\n",
      "Codeshare Flight re3328 has been deleted\n",
      "Codeshare Flight ei204 has been deleted\n",
      "Codeshare Flight re3322 has been deleted\n",
      "Codeshare Flight re3328 has been deleted\n"
     ]
    },
    {
     "name": "stdout",
     "output_type": "stream",
     "text": [
      "Codeshare Flight re3322 has been deleted\n",
      "Codeshare Flight ei210 has been deleted\n",
      "Codeshare Flight ei352 has been deleted\n",
      "Codeshare Flight lh2517 has been deleted\n",
      "Codeshare Flight lh2517 has been deleted\n",
      "Codeshare Flight re3350 has been deleted\n",
      "Codeshare Flight re3350 has been deleted\n",
      "Codeshare Flight re3350 has been deleted\n",
      "Codeshare Flight re3930 has been deleted\n",
      "Codeshare Flight re3930 has been deleted\n",
      "Codeshare Flight re3930 has been deleted\n",
      "Codeshare Flight ei123 has been deleted\n",
      "Codeshare Flight ei123 has been deleted\n",
      "Codeshare Flight l1e1363 has been deleted\n",
      "Codeshare Flight sk4604 has been deleted\n",
      "Codeshare Flight aa723 has been deleted\n",
      "Codeshare Flight aa723 has been deleted\n",
      "Codeshare Flight aa723 has been deleted\n",
      "Codeshare Flight ei644 has been deleted\n",
      "Codeshare Flight rr*7326 has been deleted\n",
      "Codeshare Flight re3244 has been deleted\n",
      "Codeshare Flight re3244 has been deleted\n",
      "Codeshare Flight re3244 has been deleted\n",
      "Codeshare Flight ei586 has been deleted\n",
      "Codeshare Flight ei582 has been deleted\n",
      "Codeshare Flight ei586 has been deleted\n",
      "Codeshare Flight ei602 has been deleted\n",
      "Codeshare Flight ei604 has been deleted\n",
      "Codeshare Flight ei608 has been deleted\n",
      "Codeshare Flight ei610 has been deleted\n",
      "Codeshare Flight wa934 has been deleted\n",
      "Codeshare Flight kl936 has been deleted\n",
      "Codeshare Flight kl932 has been deleted\n",
      "Codeshare Flight ei610 has been deleted\n",
      "Codeshare Flight ei608 has been deleted\n",
      "Codeshare Flight kl932 has been deleted\n",
      "Codeshare Flight wa934 has been deleted\n",
      "Codeshare Flight kl938 has been deleted\n",
      "Codeshare Flight wa934 has been deleted\n",
      "Codeshare Flight kl932 has been deleted\n",
      "Codeshare Flight kl936 has been deleted\n",
      "Codeshare Flight kl932 has been deleted\n",
      "Codeshare Flight kl936 has been deleted\n",
      "Codeshare Flight wa934 has been deleted\n",
      "Codeshare Flight kl938 has been deleted\n",
      "Codeshare Flight wa934 has been deleted\n",
      "Codeshare Flight kl936 has been deleted\n",
      "Codeshare Flight kl932 has been deleted\n",
      "Codeshare Flight wa934 has been deleted\n",
      "Codeshare Flight kl936 has been deleted\n",
      "Codeshare Flight kl938 has been deleted\n",
      "Codeshare Flight ey42 has been deleted\n",
      "Codeshare Flight ey42 has been deleted\n",
      "Codeshare Flight ey42 has been deleted\n",
      "Codeshare Flight ey42 has been deleted\n",
      "Codeshare Flight ey42 has been deleted\n",
      "Codeshare Flight ei562 has been deleted\n",
      "Codeshare Flight ei564 has been deleted\n",
      "Codeshare Flight ei564 has been deleted\n",
      "Codeshare Flight ei131 has been deleted\n",
      "Codeshare Flight ei131 has been deleted\n",
      "Codeshare Flight ei262 has been deleted\n",
      "Codeshare Flight ei272 has been deleted\n",
      "Codeshare Flight ei276 has been deleted\n",
      "Codeshare Flight re3264 has been deleted\n",
      "Codeshare Flight re3264 has been deleted\n",
      "Codeshare Flight re3264 has been deleted\n",
      "Codeshare Flight ei276 has been deleted\n",
      "Codeshare Flight ei272 has been deleted\n",
      "Codeshare Flight may6485 has been deleted\n",
      "Codeshare Flight ei137 has been deleted\n",
      "Codeshare Flight ei137 has been deleted\n",
      "Codeshare Flight ei137 has been deleted\n",
      "Codeshare Flight re3280 has been deleted\n",
      "Codeshare Flight re3282 has been deleted\n",
      "Codeshare Flight re3284 has been deleted\n"
     ]
    }
   ],
   "source": [
    "#Running the Codeshare clean function which gets rid of the codeshared flights that have a flight already in the data\n",
    "clean_DUB_data_1 = codeshare_flight_deletion(DUB_data_1)\n",
    "clean_DUB_data_1.reset_index(drop=True, inplace=True)"
   ]
  },
  {
   "cell_type": "code",
   "execution_count": 11,
   "metadata": {},
   "outputs": [
    {
     "name": "stdout",
     "output_type": "stream",
     "text": [
      "Number of flights after cleaning codeshared flights: 249\n"
     ]
    }
   ],
   "source": [
    "#Printing to show that codeshared flights have been removed that have a flight number elsewhere\n",
    "print(\"Number of flights after cleaning codeshared flights: \"+str(clean_DUB_data_1.shape[0]))"
   ]
  },
  {
   "cell_type": "markdown",
   "metadata": {},
   "source": [
    "This shows that there are a lot of codeshare flights returned in a single API request with a total of 900 flights gathered but only 427 singular routes/flights. As a result, I have shown the effect that cleaning data has had as I could have concluded something incorrect about the data due to the sheer number of codeshare flights. \n",
    "\n",
    "\n",
    "\n",
    "\n",
    "\n",
    "In the case of the data currently, there is a lot of columns that I do not need. These include scheduled flight times, runways, terminal numbers, gate numbers, aircraft types and many more. These will be needed later but for the case of this initial test they will not. Hence, I will now get rid of these columns which were printed out before hand. \n",
    "I want to simplify the data frame for the following features:\n",
    "- Departure Time\n",
    "- Arrival Airport \n",
    "- Arrival IATA airport code\n",
    "- Airline Name\n",
    "- Airline IATA code\n"
   ]
  },
  {
   "cell_type": "code",
   "execution_count": 12,
   "metadata": {},
   "outputs": [
    {
     "name": "stdout",
     "output_type": "stream",
     "text": [
      "Number of flights: 249\n"
     ]
    }
   ],
   "source": [
    "#Clean the data for the specific date\n",
    "clean_DUB_data_1 = desired_date('2020-03-05', clean_DUB_data_1)\n",
    "simplified_data = clean_DUB_data_1[['departure.scheduled', 'arrival.airport', 'arrival.iata', 'airline.name', 'airline.iata']]\n",
    "print(\"Number of flights: \"+str(clean_DUB_data_1.shape[0]))"
   ]
  },
  {
   "cell_type": "markdown",
   "metadata": {},
   "source": [
    "I am now checking that the data returned to me is all present and doesn't have any NULL values"
   ]
  },
  {
   "cell_type": "code",
   "execution_count": 13,
   "metadata": {},
   "outputs": [
    {
     "data": {
      "text/plain": [
       "departure.scheduled    0\n",
       "arrival.airport        0\n",
       "arrival.iata           0\n",
       "airline.name           0\n",
       "airline.iata           0\n",
       "dtype: int64"
      ]
     },
     "execution_count": 13,
     "metadata": {},
     "output_type": "execute_result"
    }
   ],
   "source": [
    "simplified_data.isnull().sum()"
   ]
  },
  {
   "cell_type": "markdown",
   "metadata": {},
   "source": [
    "Now checking that the simplified data has been returned properly by plotting the first 10 flights"
   ]
  },
  {
   "cell_type": "code",
   "execution_count": 14,
   "metadata": {},
   "outputs": [
    {
     "data": {
      "text/html": [
       "<div>\n",
       "<style scoped>\n",
       "    .dataframe tbody tr th:only-of-type {\n",
       "        vertical-align: middle;\n",
       "    }\n",
       "\n",
       "    .dataframe tbody tr th {\n",
       "        vertical-align: top;\n",
       "    }\n",
       "\n",
       "    .dataframe thead th {\n",
       "        text-align: right;\n",
       "    }\n",
       "</style>\n",
       "<table border=\"1\" class=\"dataframe\">\n",
       "  <thead>\n",
       "    <tr style=\"text-align: right;\">\n",
       "      <th></th>\n",
       "      <th>departure.scheduled</th>\n",
       "      <th>arrival.airport</th>\n",
       "      <th>arrival.iata</th>\n",
       "      <th>airline.name</th>\n",
       "      <th>airline.iata</th>\n",
       "    </tr>\n",
       "  </thead>\n",
       "  <tbody>\n",
       "    <tr>\n",
       "      <td>0</td>\n",
       "      <td>2020-03-05T06:50:00+00:00</td>\n",
       "      <td>Leeds/bradford</td>\n",
       "      <td>LBA</td>\n",
       "      <td>Stobart Air</td>\n",
       "      <td>RE</td>\n",
       "    </tr>\n",
       "    <tr>\n",
       "      <td>1</td>\n",
       "      <td>2020-03-05T17:25:00+00:00</td>\n",
       "      <td>Leeds/bradford</td>\n",
       "      <td>LBA</td>\n",
       "      <td>Stobart Air</td>\n",
       "      <td>RE</td>\n",
       "    </tr>\n",
       "    <tr>\n",
       "      <td>2</td>\n",
       "      <td>2020-03-05T09:35:00+00:00</td>\n",
       "      <td>Lodz Lublinek</td>\n",
       "      <td>LCJ</td>\n",
       "      <td>Ryanair</td>\n",
       "      <td>FR</td>\n",
       "    </tr>\n",
       "    <tr>\n",
       "      <td>3</td>\n",
       "      <td>2020-03-05T07:00:00+00:00</td>\n",
       "      <td>London City Airport</td>\n",
       "      <td>LCY</td>\n",
       "      <td>BA Cityflyer</td>\n",
       "      <td>CJ</td>\n",
       "    </tr>\n",
       "    <tr>\n",
       "      <td>4</td>\n",
       "      <td>2020-03-05T08:50:00+00:00</td>\n",
       "      <td>London City Airport</td>\n",
       "      <td>LCY</td>\n",
       "      <td>BA Cityflyer</td>\n",
       "      <td>CJ</td>\n",
       "    </tr>\n",
       "    <tr>\n",
       "      <td>5</td>\n",
       "      <td>2020-03-05T11:00:00+00:00</td>\n",
       "      <td>London City Airport</td>\n",
       "      <td>LCY</td>\n",
       "      <td>BA Cityflyer</td>\n",
       "      <td>CJ</td>\n",
       "    </tr>\n",
       "    <tr>\n",
       "      <td>6</td>\n",
       "      <td>2020-03-05T16:00:00+00:00</td>\n",
       "      <td>London City Airport</td>\n",
       "      <td>LCY</td>\n",
       "      <td>BA Cityflyer</td>\n",
       "      <td>CJ</td>\n",
       "    </tr>\n",
       "    <tr>\n",
       "      <td>7</td>\n",
       "      <td>2020-03-05T17:05:00+00:00</td>\n",
       "      <td>London City Airport</td>\n",
       "      <td>LCY</td>\n",
       "      <td>BA Cityflyer</td>\n",
       "      <td>CJ</td>\n",
       "    </tr>\n",
       "    <tr>\n",
       "      <td>8</td>\n",
       "      <td>2020-03-05T20:00:00+00:00</td>\n",
       "      <td>London City Airport</td>\n",
       "      <td>LCY</td>\n",
       "      <td>BA Cityflyer</td>\n",
       "      <td>CJ</td>\n",
       "    </tr>\n",
       "    <tr>\n",
       "      <td>9</td>\n",
       "      <td>2020-03-05T19:15:00+00:00</td>\n",
       "      <td>London City Airport</td>\n",
       "      <td>LCY</td>\n",
       "      <td>BA Cityflyer</td>\n",
       "      <td>CJ</td>\n",
       "    </tr>\n",
       "  </tbody>\n",
       "</table>\n",
       "</div>"
      ],
      "text/plain": [
       "         departure.scheduled      arrival.airport arrival.iata  airline.name  \\\n",
       "0  2020-03-05T06:50:00+00:00       Leeds/bradford          LBA   Stobart Air   \n",
       "1  2020-03-05T17:25:00+00:00       Leeds/bradford          LBA   Stobart Air   \n",
       "2  2020-03-05T09:35:00+00:00        Lodz Lublinek          LCJ       Ryanair   \n",
       "3  2020-03-05T07:00:00+00:00  London City Airport          LCY  BA Cityflyer   \n",
       "4  2020-03-05T08:50:00+00:00  London City Airport          LCY  BA Cityflyer   \n",
       "5  2020-03-05T11:00:00+00:00  London City Airport          LCY  BA Cityflyer   \n",
       "6  2020-03-05T16:00:00+00:00  London City Airport          LCY  BA Cityflyer   \n",
       "7  2020-03-05T17:05:00+00:00  London City Airport          LCY  BA Cityflyer   \n",
       "8  2020-03-05T20:00:00+00:00  London City Airport          LCY  BA Cityflyer   \n",
       "9  2020-03-05T19:15:00+00:00  London City Airport          LCY  BA Cityflyer   \n",
       "\n",
       "  airline.iata  \n",
       "0           RE  \n",
       "1           RE  \n",
       "2           FR  \n",
       "3           CJ  \n",
       "4           CJ  \n",
       "5           CJ  \n",
       "6           CJ  \n",
       "7           CJ  \n",
       "8           CJ  \n",
       "9           CJ  "
      ]
     },
     "execution_count": 14,
     "metadata": {},
     "output_type": "execute_result"
    }
   ],
   "source": [
    "simplified_data[0:10]"
   ]
  },
  {
   "cell_type": "markdown",
   "metadata": {},
   "source": [
    "As we can see from the readout above, the data headings/column headings are laid out in an inituitive way but it is not very presentable in that fashion. As a result, I can rename the columns as appropriate.\n",
    "\n",
    "I am using a mappping to the headings as the pd.DataFrame.rename() function sometimes has trouble interpreting what you mean when you want to rename something"
   ]
  },
  {
   "cell_type": "code",
   "execution_count": 15,
   "metadata": {},
   "outputs": [
    {
     "data": {
      "text/html": [
       "<div>\n",
       "<style scoped>\n",
       "    .dataframe tbody tr th:only-of-type {\n",
       "        vertical-align: middle;\n",
       "    }\n",
       "\n",
       "    .dataframe tbody tr th {\n",
       "        vertical-align: top;\n",
       "    }\n",
       "\n",
       "    .dataframe thead th {\n",
       "        text-align: right;\n",
       "    }\n",
       "</style>\n",
       "<table border=\"1\" class=\"dataframe\">\n",
       "  <thead>\n",
       "    <tr style=\"text-align: right;\">\n",
       "      <th></th>\n",
       "      <th>Scheduled Departure Time</th>\n",
       "      <th>Destination Airport</th>\n",
       "      <th>Destination IATA Code</th>\n",
       "      <th>Airline Name</th>\n",
       "      <th>Airline IATA Code</th>\n",
       "    </tr>\n",
       "  </thead>\n",
       "  <tbody>\n",
       "    <tr>\n",
       "      <td>0</td>\n",
       "      <td>2020-03-05T06:50:00+00:00</td>\n",
       "      <td>Leeds/bradford</td>\n",
       "      <td>LBA</td>\n",
       "      <td>Stobart Air</td>\n",
       "      <td>RE</td>\n",
       "    </tr>\n",
       "    <tr>\n",
       "      <td>1</td>\n",
       "      <td>2020-03-05T17:25:00+00:00</td>\n",
       "      <td>Leeds/bradford</td>\n",
       "      <td>LBA</td>\n",
       "      <td>Stobart Air</td>\n",
       "      <td>RE</td>\n",
       "    </tr>\n",
       "    <tr>\n",
       "      <td>2</td>\n",
       "      <td>2020-03-05T09:35:00+00:00</td>\n",
       "      <td>Lodz Lublinek</td>\n",
       "      <td>LCJ</td>\n",
       "      <td>Ryanair</td>\n",
       "      <td>FR</td>\n",
       "    </tr>\n",
       "    <tr>\n",
       "      <td>3</td>\n",
       "      <td>2020-03-05T07:00:00+00:00</td>\n",
       "      <td>London City Airport</td>\n",
       "      <td>LCY</td>\n",
       "      <td>BA Cityflyer</td>\n",
       "      <td>CJ</td>\n",
       "    </tr>\n",
       "    <tr>\n",
       "      <td>4</td>\n",
       "      <td>2020-03-05T08:50:00+00:00</td>\n",
       "      <td>London City Airport</td>\n",
       "      <td>LCY</td>\n",
       "      <td>BA Cityflyer</td>\n",
       "      <td>CJ</td>\n",
       "    </tr>\n",
       "    <tr>\n",
       "      <td>5</td>\n",
       "      <td>2020-03-05T11:00:00+00:00</td>\n",
       "      <td>London City Airport</td>\n",
       "      <td>LCY</td>\n",
       "      <td>BA Cityflyer</td>\n",
       "      <td>CJ</td>\n",
       "    </tr>\n",
       "    <tr>\n",
       "      <td>6</td>\n",
       "      <td>2020-03-05T16:00:00+00:00</td>\n",
       "      <td>London City Airport</td>\n",
       "      <td>LCY</td>\n",
       "      <td>BA Cityflyer</td>\n",
       "      <td>CJ</td>\n",
       "    </tr>\n",
       "    <tr>\n",
       "      <td>7</td>\n",
       "      <td>2020-03-05T17:05:00+00:00</td>\n",
       "      <td>London City Airport</td>\n",
       "      <td>LCY</td>\n",
       "      <td>BA Cityflyer</td>\n",
       "      <td>CJ</td>\n",
       "    </tr>\n",
       "    <tr>\n",
       "      <td>8</td>\n",
       "      <td>2020-03-05T20:00:00+00:00</td>\n",
       "      <td>London City Airport</td>\n",
       "      <td>LCY</td>\n",
       "      <td>BA Cityflyer</td>\n",
       "      <td>CJ</td>\n",
       "    </tr>\n",
       "    <tr>\n",
       "      <td>9</td>\n",
       "      <td>2020-03-05T19:15:00+00:00</td>\n",
       "      <td>London City Airport</td>\n",
       "      <td>LCY</td>\n",
       "      <td>BA Cityflyer</td>\n",
       "      <td>CJ</td>\n",
       "    </tr>\n",
       "  </tbody>\n",
       "</table>\n",
       "</div>"
      ],
      "text/plain": [
       "    Scheduled Departure Time  Destination Airport Destination IATA Code  \\\n",
       "0  2020-03-05T06:50:00+00:00       Leeds/bradford                   LBA   \n",
       "1  2020-03-05T17:25:00+00:00       Leeds/bradford                   LBA   \n",
       "2  2020-03-05T09:35:00+00:00        Lodz Lublinek                   LCJ   \n",
       "3  2020-03-05T07:00:00+00:00  London City Airport                   LCY   \n",
       "4  2020-03-05T08:50:00+00:00  London City Airport                   LCY   \n",
       "5  2020-03-05T11:00:00+00:00  London City Airport                   LCY   \n",
       "6  2020-03-05T16:00:00+00:00  London City Airport                   LCY   \n",
       "7  2020-03-05T17:05:00+00:00  London City Airport                   LCY   \n",
       "8  2020-03-05T20:00:00+00:00  London City Airport                   LCY   \n",
       "9  2020-03-05T19:15:00+00:00  London City Airport                   LCY   \n",
       "\n",
       "   Airline Name Airline IATA Code  \n",
       "0   Stobart Air                RE  \n",
       "1   Stobart Air                RE  \n",
       "2       Ryanair                FR  \n",
       "3  BA Cityflyer                CJ  \n",
       "4  BA Cityflyer                CJ  \n",
       "5  BA Cityflyer                CJ  \n",
       "6  BA Cityflyer                CJ  \n",
       "7  BA Cityflyer                CJ  \n",
       "8  BA Cityflyer                CJ  \n",
       "9  BA Cityflyer                CJ  "
      ]
     },
     "execution_count": 15,
     "metadata": {},
     "output_type": "execute_result"
    }
   ],
   "source": [
    " map_headings = {simplified_data.columns[0]: 'Scheduled Departure Time', \n",
    "                 simplified_data.columns[1]: 'Destination Airport', \n",
    "                 simplified_data.columns[2]: 'Destination IATA Code', \n",
    "                 simplified_data.columns[3]: 'Airline Name',\n",
    "                 simplified_data.columns[4]: 'Airline IATA Code'}\n",
    "                 \n",
    "simplified_data = simplified_data.rename(columns=map_headings)\n",
    "simplified_data[0:10]\n",
    "\n"
   ]
  },
  {
   "cell_type": "markdown",
   "metadata": {},
   "source": [
    "After the data has been cleaned appropriately as it has been above for just the destination airport and the airline to that destination airport. I can present the most popular destination airports for flights out of Dublin Airport on the 5th of March 2020 and airlines for those routes.\n",
    "I will firstly characterise the Top 10 most popular airports for clarity"
   ]
  },
  {
   "cell_type": "code",
   "execution_count": 16,
   "metadata": {},
   "outputs": [
    {
     "data": {
      "image/png": "[encoded data removed]",
      "text/plain": [
       "<Figure size 432x288 with 1 Axes>"
      ]
     },
     "metadata": {
      "needs_background": "light"
     },
     "output_type": "display_data"
    }
   ],
   "source": [
    "top_10_airport_numbers = simplified_data[\"Destination Airport\"].value_counts()[0:10]\n",
    "#Need to turn into a data frame to plot \n",
    "most_popular_airports = pd.DataFrame(top_10_airport_numbers)\n",
    "most_popular_airports = most_popular_airports.rename(columns={'Destination Airport': 'No. of Flights'})\n",
    "most_popular_airports_plot = most_popular_airports.plot(kind = 'bar')"
   ]
  },
  {
   "cell_type": "code",
   "execution_count": 17,
   "metadata": {},
   "outputs": [
    {
     "data": {
      "text/plain": [
       "Heathrow                            20\n",
       "Gatwick                             14\n",
       "Schiphol                            12\n",
       "London City Airport                 12\n",
       "Manchester Airport                  11\n",
       "Birmingham International Airport    10\n",
       "Charles De Gaulle                    9\n",
       "Frankfurt International Airport      8\n",
       "Edinburgh                            7\n",
       "Bristol                              7\n",
       "Name: Destination Airport, dtype: int64"
      ]
     },
     "execution_count": 17,
     "metadata": {},
     "output_type": "execute_result"
    }
   ],
   "source": [
    "top_10_airport_numbers"
   ]
  },
  {
   "cell_type": "markdown",
   "metadata": {},
   "source": [
    "Getting the most common airports, I will need to store the most popular airports before then using the search parameter from the API documentation to find the airport before getting their longitude and latitude and plotting them.\n",
    "I can use the IATA codes which will be unique for each airport and make sure that there are no changes\n"
   ]
  },
  {
   "cell_type": "code",
   "execution_count": 18,
   "metadata": {},
   "outputs": [
    {
     "data": {
      "text/plain": [
       "['Heathrow',\n",
       " 'Gatwick',\n",
       " 'Schiphol',\n",
       " 'London City Airport',\n",
       " 'Manchester Airport',\n",
       " 'Birmingham International Airport',\n",
       " 'Charles De Gaulle',\n",
       " 'Frankfurt International Airport',\n",
       " 'Edinburgh',\n",
       " 'Bristol']"
      ]
     },
     "execution_count": 18,
     "metadata": {},
     "output_type": "execute_result"
    }
   ],
   "source": [
    "IATA_codes_most_popular = simplified_data[\"Destination Airport\"].value_counts()[0:10]\n",
    "list_of_airports = IATA_codes_most_popular.index.tolist()\n",
    "list_of_airports"
   ]
  },
  {
   "cell_type": "code",
   "execution_count": 230,
   "metadata": {},
   "outputs": [],
   "source": [
    "airport_locs = np.empty((0,3), int)\n",
    "\n",
    "for index,name in enumerate(list_of_airports):\n",
    "    param_airport = {'access_key': 'b4a871dbf85b4f670dafbdc9615a68e9', 'search': name}\n",
    "    airport_data = requests.get('http://api.aviationstack.com/v1/airports', param_airport)\n",
    "    data_json = airport_data.json()\n",
    "    longitude = data_json['data'][0]['longitude']\n",
    "    latitude = data_json['data'][0]['latitude']\n",
    "    name = data_json['data'][0]['airport_name']\n",
    "    airport_locs = np.append(airport_locs, np.array([[name, latitude, longitude]]), axis=0)        "
   ]
  },
  {
   "cell_type": "markdown",
   "metadata": {},
   "source": [
    "I needed to do this as the API request for flights only gives you the the airport name and codes rather than their location"
   ]
  },
  {
   "cell_type": "code",
   "execution_count": 231,
   "metadata": {},
   "outputs": [
    {
     "data": {
      "text/plain": [
       "array([['Heathrow', '51.469604', '-0.453566'],\n",
       "       ['Gatwick', '51.156807', '-0.161863'],\n",
       "       ['Manchester Airport', '53.362907', '-2.273354'],\n",
       "       ['Schiphol', '52.30907', '4.763385'],\n",
       "       ['Birmingham International Airport', '52.45252', '-1.733256'],\n",
       "       ['London City Airport', '51.5', '0.05'],\n",
       "       ['Charles De Gaulle', '49.003197', '2.567023'],\n",
       "       ['Glasgow International', '55.864212', '-4.431782'],\n",
       "       ['Stansted', '51.889267', '0.262703'],\n",
       "       ['Frankfurt International Airport', '50.050735', '8.570773']],\n",
       "      dtype='<U32')"
      ]
     },
     "execution_count": 231,
     "metadata": {},
     "output_type": "execute_result"
    }
   ],
   "source": [
    "airport_locs"
   ]
  },
  {
   "cell_type": "code",
   "execution_count": 232,
   "metadata": {},
   "outputs": [],
   "source": [
    "gmap = gmplot.GoogleMapPlotter(48.8566, 2.3522,0) #FIXME put a proper "
   ]
  },
  {
   "cell_type": "code",
   "execution_count": 233,
   "metadata": {},
   "outputs": [],
   "source": [
    "for location_info in airport_locs:\n",
    "    name = location_info[0]\n",
    "    location_info = location_info[1:]\n",
    "    lat_lon = location_info.astype(float)\n",
    "    #I need to do this as this is in terms of a NumPy data type rather than a native Python data type which gmap needs\n",
    "    lat_temp, lon_temp = lat_lon[0], lat_lon[1]\n",
    "    lat = lat_temp.item()\n",
    "    lon = lon_temp.item()\n",
    "    gmap.marker(lat, lon, 'cornflowerblue')\n",
    "\n",
    "gmap.draw(\"airport_map.html\")"
   ]
  },
  {
   "cell_type": "code",
   "execution_count": 234,
   "metadata": {},
   "outputs": [
    {
     "data": {
      "text/plain": [
       "32512"
      ]
     },
     "execution_count": 234,
     "metadata": {},
     "output_type": "execute_result"
    }
   ],
   "source": [
    "os.system('airport_map.html')"
   ]
  },
  {
   "cell_type": "markdown",
   "metadata": {},
   "source": [
    "### Most Common Airports and the Airlines that serve them\n",
    "From here on I need to look at the most common locations, the most common airlines and the most\n"
   ]
  },
  {
   "cell_type": "code",
   "execution_count": 21,
   "metadata": {},
   "outputs": [
    {
     "data": {
      "text/plain": [
       "<matplotlib.axes._subplots.AxesSubplot at 0x115b52b10>"
      ]
     },
     "execution_count": 21,
     "metadata": {},
     "output_type": "execute_result"
    },
    {
     "data": {
      "image/png": "[encoded data removed]",
      "text/plain": [
       "<Figure size 432x288 with 1 Axes>"
      ]
     },
     "metadata": {
      "needs_background": "light"
     },
     "output_type": "display_data"
    }
   ],
   "source": [
    "most_popular_airlines_airport = simplified_data.groupby('Destination Airport')\n",
    "Total_Airports = most_popular_airlines_airport.sum()\n",
    "Total_Airports = Total_Airports.sort_values('Airline Name', ascending = False)\n",
    "#most_pop_airlines_for_airport = Total_Airports.plot(kind='bar')\n",
    "#for key, item in most_popular_airlines_airport:\n",
    " #   print(most_popular_airlines_airport.get_group(key), \"\\n\\n\")\n",
    "airport = list_of_airports[2]\n",
    "airlines_at_airport = most_popular_airlines_airport.get_group(airport)\n",
    "airlines_at_airport['Airline Name'].value_counts().plot(kind='bar', title='Biggest Airlines to Amsterdam Schiphol')"
   ]
  },
  {
   "cell_type": "markdown",
   "metadata": {},
   "source": [
    "FIXME talk about how running the API at certain times has an effect and how some of the flights still say scheduled mainly because they are american flights and by the time they land and then the API updates with information, the flight will not be updated or landed yet\n",
    "\n",
    "In the section below, I will look at the busiest terminals in a day followed by the most common times that these terminals are accessed"
   ]
  },
  {
   "cell_type": "code",
   "execution_count": 22,
   "metadata": {},
   "outputs": [],
   "source": [
    "terminal_data = clean_DUB_data_1[['departure.scheduled', 'departure.terminal', 'arrival.airport', 'arrival.iata', 'airline.name', 'airline.iata']]"
   ]
  },
  {
   "cell_type": "code",
   "execution_count": 23,
   "metadata": {},
   "outputs": [
    {
     "data": {
      "text/plain": [
       "departure.scheduled    0\n",
       "departure.terminal     0\n",
       "arrival.airport        0\n",
       "arrival.iata           0\n",
       "airline.name           0\n",
       "airline.iata           0\n",
       "dtype: int64"
      ]
     },
     "execution_count": 23,
     "metadata": {},
     "output_type": "execute_result"
    }
   ],
   "source": [
    "#This just checks that none of the data is missing for terminal etc\n",
    "terminal_data.isnull().sum()"
   ]
  },
  {
   "cell_type": "code",
   "execution_count": 24,
   "metadata": {},
   "outputs": [
    {
     "name": "stdout",
     "output_type": "stream",
     "text": [
      "Number of Terminal 1 Departures: 146 flights\n",
      "Number of Terminal 2 Departures: 103 flights\n"
     ]
    }
   ],
   "source": [
    "terminals = terminal_data['departure.terminal'].value_counts()\n",
    "#On the 5th of March 2020\n",
    "print(\"Number of Terminal 1 Departures: %d flights\\nNumber of Terminal 2 Departures: %d flights\" \n",
    "      % (terminals.iloc[0], terminals.iloc[1]))"
   ]
  },
  {
   "cell_type": "markdown",
   "metadata": {},
   "source": [
    "From here, I need to see what airlines depart from which terminals and then see the busier times such as how many flights leave between each time from each terminal. I could group them between each time like a column for 0-6am, 6-12pm, 12-6pm  and then 6-12am. "
   ]
  },
  {
   "cell_type": "code",
   "execution_count": 57,
   "metadata": {},
   "outputs": [
    {
     "data": {
      "text/plain": [
       "<matplotlib.axes._subplots.AxesSubplot at 0x116bfeb90>"
      ]
     },
     "execution_count": 57,
     "metadata": {},
     "output_type": "execute_result"
    },
    {
     "data": {
      "image/png": "[encoded data removed]",
      "text/plain": [
       "<Figure size 432x288 with 1 Axes>"
      ]
     },
     "metadata": {
      "needs_background": "light"
     },
     "output_type": "display_data"
    }
   ],
   "source": [
    "#Needs to be given in format of the following\n",
    "midnight_6am = ['2020-03-05T00:01:00+00:00', '2020-03-05T06:00:00+00:00']\n",
    "six_12pm = ['2020-03-05T06:01:00+00:00', '2020-03-05T12:00:00+00:00']\n",
    "midday_6pm = ['2020-03-05T12:01:00+00:00', '2020-03-05T18:00:00+00:00']\n",
    "six_12am = ['2020-03-05T18:01:00+00:00', '2020-03-05T23:59:00+00:00']\n",
    "\n",
    "flights_1 = terminal_data['departure.scheduled'].between(midnight_6am[0], midnight_6am[1], inclusive=True)\n",
    "flights_2 = terminal_data['departure.scheduled'].between(six_12pm[0], six_12pm[1], inclusive=True)\n",
    "flights_3 = terminal_data['departure.scheduled'].between(midday_6pm[0], midday_6pm[1], inclusive=True)\n",
    "flights_4 = terminal_data['departure.scheduled'].between(six_12am[0], six_12am[1], inclusive=True)\n",
    "flight_data = [[flights_1.value_counts()[1], flights_2.value_counts()[1], flights_3.value_counts()[1],\n",
    "                flights_4.value_counts()[1]]]\n",
    "\n",
    "flights_times = pd.DataFrame(flight_data, columns = ['12am-6am', '6am-12pm', '12pm-6pm', '6pm-12am'])\n",
    "flights_times.plot(kind='bar', title='Distribution of Departures throughout the day')"
   ]
  },
  {
   "cell_type": "code",
   "execution_count": 58,
   "metadata": {},
   "outputs": [
    {
     "data": {
      "text/plain": [
       "249"
      ]
     },
     "execution_count": 58,
     "metadata": {},
     "output_type": "execute_result"
    }
   ],
   "source": [
    "#Verifying the total number of flights is the same\n",
    "flights_times.iloc[0].sum()"
   ]
  },
  {
   "cell_type": "code",
   "execution_count": 59,
   "metadata": {},
   "outputs": [
    {
     "data": {
      "text/plain": [
       "12am-6am      5\n",
       "6am-12pm    118\n",
       "12pm-6pm     88\n",
       "6pm-12am     38\n",
       "dtype: int64"
      ]
     },
     "execution_count": 59,
     "metadata": {},
     "output_type": "execute_result"
    }
   ],
   "source": [
    "flights_times.sum()"
   ]
  },
  {
   "cell_type": "markdown",
   "metadata": {},
   "source": [
    "FIXME Next Step to do is to see what airlines take off between each time, so we will do the top 5 airlines as the x ticks and then have the 4 different plots for the different times that they take off at"
   ]
  },
  {
   "cell_type": "code",
   "execution_count": 110,
   "metadata": {},
   "outputs": [
    {
     "data": {
      "text/plain": [
       "['Ryanair', 'Aer Lingus']"
      ]
     },
     "execution_count": 110,
     "metadata": {},
     "output_type": "execute_result"
    }
   ],
   "source": [
    "#Get the most common airlines first\n",
    "top_airlines = terminal_data[\"airline.name\"].value_counts()[0:2]\n",
    "top_airlines  = top_airlines.index.tolist()\n",
    "top_airlines\n",
    "#Now that I have the top airlines, I can see when they are using each time"
   ]
  },
  {
   "cell_type": "code",
   "execution_count": 165,
   "metadata": {},
   "outputs": [
    {
     "data": {
      "text/plain": [
       "<matplotlib.axes._subplots.AxesSubplot at 0x116d341d0>"
      ]
     },
     "execution_count": 165,
     "metadata": {},
     "output_type": "execute_result"
    },
    {
     "data": {
      "image/png": "[encoded data removed]",
      "text/plain": [
       "<Figure size 432x288 with 1 Axes>"
      ]
     },
     "metadata": {
      "needs_background": "light"
     },
     "output_type": "display_data"
    }
   ],
   "source": [
    "#terminal_data[flights_1[flights_1 == (True)]]\n",
    "#I now need to get the airlines for this\n",
    "\n",
    "#These are the indexes of the flights that leave inside of these times\n",
    "midnight_flights = (flights_1[flights_1 == (True)]).index.tolist()\n",
    "six_am_flights = (flights_2[flights_2 == (True)]).index.tolist()\n",
    "midday_flights = (flights_3[flights_3 == (True)]).index.tolist()\n",
    "six_pm_flights = (flights_4[flights_4 == (True)]).index.tolist()\n",
    "\n",
    "#FIXME , look for a better way to do thiss\n",
    "airline_1_12am = terminal_data.iloc[midnight_flights]['airline.name'].iloc[0:].tolist().count(top_airlines[0])\n",
    "airline_2_12am = terminal_data.iloc[midnight_flights]['airline.name'].iloc[0:].tolist().count(top_airlines[1])\n",
    "airline_1_6am = terminal_data.iloc[six_am_flights]['airline.name'].iloc[0:].tolist().count(top_airlines[0])\n",
    "airline_2_6am = terminal_data.iloc[six_am_flights]['airline.name'].iloc[0:].tolist().count(top_airlines[1])\n",
    "airline_1_12pm = terminal_data.iloc[midday_flights]['airline.name'].iloc[0:].tolist().count(top_airlines[0])\n",
    "airline_2_12pm = terminal_data.iloc[midday_flights]['airline.name'].iloc[0:].tolist().count(top_airlines[1])\n",
    "airline_1_6pm = terminal_data.iloc[six_pm_flights]['airline.name'].iloc[0:].tolist().count(top_airlines[0])\n",
    "airline_2_6pm = terminal_data.iloc[six_pm_flights]['airline.name'].iloc[0:].tolist().count(top_airlines[1])\n",
    "\n",
    "airline_times = pd.DataFrame({'12am-6am': [airline_1_12am, airline_2_12am], '6am-12pm': [airline_1_6am, airline_2_6am],\n",
    "                             '12pm-6pm': [airline_1_12pm, airline_2_12pm], '6pm-12am': [airline_1_6pm, airline_2_6pm]}, index = ['Ryanair', 'Aer Lingus'])\n",
    "airline_times.plot(kind='bar', title = 'Distribution of Departures throughout a day (Ryanair/Aer Lingus)', rot=0)"
   ]
  },
  {
   "cell_type": "markdown",
   "metadata": {},
   "source": [
    "TODO/FIXME Distribution of flights leaving either terminal at different times in the day"
   ]
  },
  {
   "cell_type": "code",
   "execution_count": 164,
   "metadata": {},
   "outputs": [
    {
     "data": {
      "text/plain": [
       "Text(0, 0.5, 'Number of Flights')"
      ]
     },
     "execution_count": 164,
     "metadata": {},
     "output_type": "execute_result"
    },
    {
     "data": {
      "image/png": "[encoded data removed]",
      "text/plain": [
       "<Figure size 432x288 with 1 Axes>"
      ]
     },
     "metadata": {
      "needs_background": "light"
     },
     "output_type": "display_data"
    }
   ],
   "source": [
    "terminal_1_12am = terminal_data.iloc[midnight_flights]['departure.terminal'].iloc[0:].tolist().count('1')\n",
    "terminal_2_12am = terminal_data.iloc[midnight_flights]['departure.terminal'].iloc[0:].tolist().count('2')\n",
    "terminal_1_6am = terminal_data.iloc[six_am_flights]['departure.terminal'].iloc[0:].tolist().count('1')\n",
    "terminal_2_6am = terminal_data.iloc[six_am_flights]['departure.terminal'].iloc[0:].tolist().count('2')\n",
    "terminal_1_12pm = terminal_data.iloc[midday_flights]['departure.terminal'].iloc[0:].tolist().count('1')\n",
    "terminal_2_12pm = terminal_data.iloc[midday_flights]['departure.terminal'].iloc[0:].tolist().count('2')\n",
    "terminal_1_6pm = terminal_data.iloc[six_pm_flights]['departure.terminal'].iloc[0:].tolist().count('1')\n",
    "terminal_2_6pm = terminal_data.iloc[six_pm_flights]['departure.terminal'].iloc[0:].tolist().count('2')\n",
    "\n",
    "\n",
    "terminal_times = pd.DataFrame({'12am-6am': [terminal_1_12am, terminal_2_12am], '6am-12pm': [terminal_1_6am, terminal_2_6am],\n",
    "                             '12pm-6pm': [terminal_1_12pm, terminal_2_12pm], '6pm-12am': [terminal_1_6pm, terminal_2_6pm]}, \n",
    "                              index = ['Terminal 1', 'Terminal 2'])\n",
    "plot = terminal_times.plot(kind='bar', title = 'Distribution of Departures between Terminals (DUB/EIDW)', rot=0)\n",
    "plot.set_xlabel(\"Terminals\")\n",
    "plot.set_ylabel(\"Number of Flights\")"
   ]
  },
  {
   "cell_type": "code",
   "execution_count": null,
   "metadata": {},
   "outputs": [],
   "source": [
    "Well now that I have found which are the busiest terminals, can I find the busiest"
   ]
  },
  {
   "cell_type": "code",
   "execution_count": null,
   "metadata": {},
   "outputs": [],
   "source": []
  }
 ],
 "metadata": {
  "kernelspec": {
   "display_name": "Python 3",
   "language": "python",
   "name": "python3"
  },
  "language_info": {
   "codemirror_mode": {
    "name": "ipython",
    "version": 3
   },
   "file_extension": ".py",
   "mimetype": "text/x-python",
   "name": "python",
   "nbconvert_exporter": "python",
   "pygments_lexer": "ipython3",
   "version": "3.7.4"
  }
 },
 "nbformat": 4,
 "nbformat_minor": 2
}
