{
 "cells": [
  {
   "cell_type": "markdown",
   "metadata": {},
   "source": [
    "# COMP41680 API Assignment 1\n",
    "## Robert Keenan 15333066\n",
    "### An Aviation API and Weather API"
   ]
  },
  {
   "cell_type": "markdown",
   "metadata": {},
   "source": [
    "## Step 1: APIs\n",
    "For the first API, I have chosen to use the Aviationstack API which is one of the largest and most utilised APIs for real time and historical flight data. I will use this in unison with a weather API which will be used to determine the correlation/relationship between the weather and flight's statuses at different airports. I will then further investigate whether the weather affects different airlines, routes or airplane models differently such as between a small regional jet and a large, long range jet such as the Boeing 777.\n",
    "- The Aviationstack API can be found here: https://aviationstack.com\n",
    "- The weather API can be found here at: TODO/FIXME\n",
    "\n",
    "I will firstly import any libraries or packages needed and then make a start on the data collection stage of the assignment. \n",
    "\n",
    "Each API has thorough documentation on their websites detailing all of the endpoints available to a user, how to make an API request and how to tailor these requests for the information you need for your purpose.\n",
    "\n",
    "### API 1: Aviationstack API \n",
    "I received an API key for my Aviationstack account which is given as b4a871dbf85b4f670dafbdc9615a68e9.\n",
    "In terms of the Aviationstack API, a number of pieces of information can be gathered such as real-time or historical data, different routes, airports, planes, aircraft types and countries. All of these endpoints or pieces of information can be used to infer something from the data.\n",
    "The Aviationstack API allows 500 free API requests a month and I chose this one over FlightAware as FlightAware charges for each request.\n",
    "\n",
    "With the aviationstack API, each API call returns 100 flights using the \"flights\" endpoint which is determined by the \"limit\" of 100. Unfortunately the limit is 100 for the free and basic paid plans. I have the Free plan which allows you the 500 API calls a month, but I emailed the Customer Support team who were happy to give me a free upgrade to the Basic Plan for 2 weeks to complete the project which allows 10,000 calls a month as well as access to Historical flight data which would make my analysis a little easier. If I wanted to gather 300 items from the same endpoint, I would need to use the \"offset\" variable to move the starting point by 100 each time. This would mean I had 3 files.\n",
    "\n",
    "These 3 JSON files will need to be cleaned and combined with each other to create one file. \n",
    "\n",
    "\n",
    "### API 2: World Weather Online API\n",
    "\n",
    "FIXME TALK ABOUT THE WEATHER API\n",
    "\n"
   ]
  },
  {
   "cell_type": "code",
   "execution_count": 1,
   "metadata": {},
   "outputs": [],
   "source": [
    "import os\n",
    "import urllib.request\n",
    "import fnmatch\n",
    "import csv\n",
    "import json\n",
    "import pandas as pd \n",
    "from pandas.io.json import json_normalize\n",
    "from datetime import datetime\n",
    "import matplotlib\n",
    "import matplotlib.pyplot as plt\n",
    "import numpy as np \n",
    "import math\n",
    "import requests\n",
    "from ipyleaflet import Map, Marker\n",
    "from locationiq.geocoder import LocationIQ\n",
    "import time\n",
    "%matplotlib inline"
   ]
  },
  {
   "cell_type": "code",
   "execution_count": 2,
   "metadata": {},
   "outputs": [],
   "source": [
    "params_departure_active = {\n",
    "    'access_key': 'b4a871dbf85b4f670dafbdc9615a68e9',\n",
    "    'dep_iata': 'LHR',\n",
    "    'flight_status': 'active',\n",
    "    'airline_iata': 'BA',\n",
    "}"
   ]
  },
  {
   "cell_type": "markdown",
   "metadata": {},
   "source": [
    "In this section, I will define the utility functions which will take the JSON data, parse into a file and then save these files in date specific formats."
   ]
  },
  {
   "cell_type": "code",
   "execution_count": 3,
   "metadata": {},
   "outputs": [],
   "source": [
    "def API_request_write_to_file(name_of_file, endpoint, params):\n",
    "    if endpoint == 'flights':\n",
    "        data = requests.get('http://api.aviationstack.com/v1/flights', params)\n",
    "    elif endpoint == 'airports':\n",
    "        data = requests.get('http://api.aviationstack.com/v1/airports', params)\n",
    "    else:\n",
    "        data = requests.get('http://api.worldweatheronline.com/premium/v1/past-weather.ashx', params)\n",
    "    now = datetime.now()\n",
    "    dt_string = now.strftime(\"%d-%m_%H_%M\")\n",
    "    data_json = data.json()\n",
    "    THIS_FOLDER = os.path.abspath(os.getcwd())\n",
    "    new_file_name = os.path.join(THIS_FOLDER, str(name_of_file)+'_'+ str(dt_string) +'.json')\n",
    "    with open(new_file_name, 'w+', encoding='utf-8') as new_json_file:\n",
    "        json.dump(data_json, new_json_file, ensure_ascii=False, indent=4)\n",
    "\n"
   ]
  },
  {
   "cell_type": "code",
   "execution_count": 4,
   "metadata": {},
   "outputs": [],
   "source": [
    "API_request_write_to_file('NY_all_LA_JFK_100_6thMarch', 'flights', params_NY_LA)\n",
    "#API_request_write_to_file('Dublin_arr_400_13thJan', 'flights', params_Dublin_Airport)"
   ]
  },
  {
   "cell_type": "markdown",
   "metadata": {},
   "source": [
    "From here, I need to do the weather API and also be able to parse the data to see if I can see the relationships. In terms of data that is delayed and not delayed in terms of the files, I can check to see if the files are common and just take the delayed ones out that are currently in the file, if not add them"
   ]
  },
  {
   "cell_type": "markdown",
   "metadata": {},
   "source": [
    "## Case 1: Dublin Airport's Routes\n",
    "In this case, I decided to use the aviationstack API to find out the most popular routes and airlines into and out of Dublin Airport on the 5th of March 2020. In this case, the real time flights endpoint will provide with all of the flights in a day. I used the parameters of \"flight_status\": \"landed\", \"dep_iata\": \"DUB\" and obviously, I needed \"offset\" to iterate through the results as I am limited to 100 results per API call. DUB is the IATA code of Dublin Airport. I could have used the ICAO code of EIDW either. In this case, I have obtained over 800 flights for departures which will need to be combined together before I can use the for analysis. "
   ]
  },
  {
   "cell_type": "markdown",
   "metadata": {},
   "source": [
    "### Step 1: Loading and cleaning API data\n",
    "In terms of the aviationstack API data which is now stored in JSON file format. I will need to load it, normalize it into an appropriate data structure so that I can analyse the data. Each flight or item in an API request has a number of fields such as \"departure\", \"arrival\", \"airline\", \"aircraft\" and many more. Inside each of these fields is a lot more information such as IATA/ICAO codes, airport information and aircraft registrations. \n",
    "\n",
    "However, the majority of this information is available to me in an API request but sometimes some of this information is returned as \"null\" such as the aircraft model type and its registration which is more than likely the most common. One of the fields, \"live\", is relegated for information about a live flight still in the air but I have preferred to use flights that have a status of \"landed\". As a result, it is up to me to load the data and clean it appropriately so that I can interpret the data properly without the effect of these redundant variables.\n",
    "\n",
    "In other case that I need to consider is that codeshares between airlines can make the data awkward to deal with. In the case of a flight from Dublin to London Heathrow, the airline reported by the API request could be Qatar Airways which is a member of OneWorld Alliance with British Airways who actually operated the flight. As a result, I need to delete these codeshared flights if the original flight is also present in the API request. "
   ]
  },
  {
   "cell_type": "code",
   "execution_count": 5,
   "metadata": {},
   "outputs": [],
   "source": [
    "def combine_data_frames(start_filename, save_filename):\n",
    "    #This will count the number of files which use this preamble\n",
    "    num_files = 0\n",
    "    #Initialise list to store names\n",
    "    file_matches = []\n",
    "    for name in os.listdir('.'):\n",
    "        if start_filename in name:\n",
    "              file_matches.append(name)\n",
    "            \n",
    "    for index,file in enumerate(file_matches):\n",
    "        with open(file, 'r') as file_to_join:\n",
    "            data = json.load(file_to_join)\n",
    "        #Normalizing the data\n",
    "        normalized_data = json_normalize(data['data'])\n",
    "        #If first iteration, create the data frame \n",
    "        if index == 0:\n",
    "            data_frame = pd.DataFrame(normalized_data)\n",
    "        else:\n",
    "            data_frame_add = pd.DataFrame(normalized_data)\n",
    "            data_frame = pd.concat([data_frame, data_frame_add], ignore_index=True, sort = True)\n",
    "    #return data_frame\n",
    "    data_frame.to_json(save_filename, orient='records')\n",
    "    \n",
    "    \n",
    "# This codeshare function will check if the flight number is common in multiple places.\n",
    "# If it is present in the codeshare section and the codeshare of the original flight number is present, \n",
    "# delete the other flight\n",
    "def codeshare_flight_deletion(data_frame):\n",
    "    #Takes in the data frame and looks at each of the flight_numbers and the\n",
    "    flight_times = data_frame['departure.scheduled']\n",
    "    flight_numbers = data_frame['flight.iata']\n",
    "    codeshared_flight = data_frame['flight.codeshared.flight_iata']\n",
    "    for index,num in enumerate(codeshared_flight):\n",
    "        #Need to continually update the flight numbers\n",
    "        #flight_numbers = data_frame['flight.iata']\n",
    "        if num != 'nan' or num != None or num != 'NaN':\n",
    "            for index_2, flight_num in enumerate(flight_numbers):\n",
    "                #This checks that the flight number is the same and that the departure times are the same\n",
    "                #FIXME \n",
    "                if flight_num == None:\n",
    "                    continue\n",
    "                if num == flight_num.lower() and flight_times[index] == flight_times[index_2]:\n",
    "                    data_frame.drop(index, axis = 0, inplace = True)\n",
    "                    print(\"Codeshare Flight \"+num+\" has been deleted\")\n",
    "                    break\n",
    "                else:\n",
    "                    continue\n",
    "        #There is a NaN for the codeshare so go through\n",
    "        else:\n",
    "            continue\n",
    "    data_frame.reset_index(drop = True, inplace = True)\n",
    "    return data_frame\n",
    "  \n",
    "def day_time_data(day_flight_data):\n",
    "    date = day_flight_data['flight_date']\n",
    "    midnight_6am = [date+'T00:01:00+00:00', date+'T06:00:00+00:00']\n",
    "    six_12pm = [date+'T06:01:00+00:00', date+'T12:00:00+00:00']\n",
    "    midday_6pm = [date+'T12:01:00+00:00', date+'T18:00:00+00:00']\n",
    "    six_12am = [date+'T18:01:00+00:00', date+'T23:59:00+00:00']\n",
    "    \n",
    "    flights_1 = day_flight_data['departure.scheduled'].between(midnight_6am[0], midnight_6am[1], inclusive=True).value_counts()\n",
    "    flights_2 = day_flight_data['departure.scheduled'].between(six_12pm[0], six_12pm[1], inclusive=True).value_counts()\n",
    "    flights_3 = day_flight_data['departure.scheduled'].between(midday_6pm[0], midday_6pm[1], inclusive=True).value_counts()\n",
    "    flights_4 = day_flight_data['departure.scheduled'].between(six_12am[0], six_12am[1], inclusive=True).value_counts()\n",
    "    if True in flights_1:\n",
    "        time_1 = flights_1[1]\n",
    "    else:\n",
    "        time_1 = 0\n",
    "    if True in flights_2:\n",
    "        time_2 = flights_2[1]\n",
    "    else:\n",
    "        time_2 = 0\n",
    "    if True in flights_3:\n",
    "        time_3 = flights_3[1]\n",
    "    else:\n",
    "        time_3 = 0\n",
    "    if True in flights_4:\n",
    "        time_4 = flights_4[1]\n",
    "    else:\n",
    "        time_4 = 0\n",
    "    return time_1, time_2, time_3, time_4"
   ]
  },
  {
   "cell_type": "code",
   "execution_count": 6,
   "metadata": {},
   "outputs": [
    {
     "data": {
      "text/html": [
       "<div>\n",
       "<style scoped>\n",
       "    .dataframe tbody tr th:only-of-type {\n",
       "        vertical-align: middle;\n",
       "    }\n",
       "\n",
       "    .dataframe tbody tr th {\n",
       "        vertical-align: top;\n",
       "    }\n",
       "\n",
       "    .dataframe thead th {\n",
       "        text-align: right;\n",
       "    }\n",
       "</style>\n",
       "<table border=\"1\" class=\"dataframe\">\n",
       "  <thead>\n",
       "    <tr style=\"text-align: right;\">\n",
       "      <th></th>\n",
       "      <th>aircraft</th>\n",
       "      <th>aircraft.iata</th>\n",
       "      <th>aircraft.icao</th>\n",
       "      <th>aircraft.icao24</th>\n",
       "      <th>aircraft.registration</th>\n",
       "      <th>airline.iata</th>\n",
       "      <th>airline.icao</th>\n",
       "      <th>airline.name</th>\n",
       "      <th>arrival.actual</th>\n",
       "      <th>arrival.actual_runway</th>\n",
       "      <th>...</th>\n",
       "      <th>flight.codeshared.airline_name</th>\n",
       "      <th>flight.codeshared.flight_iata</th>\n",
       "      <th>flight.codeshared.flight_icao</th>\n",
       "      <th>flight.codeshared.flight_number</th>\n",
       "      <th>flight.iata</th>\n",
       "      <th>flight.icao</th>\n",
       "      <th>flight.number</th>\n",
       "      <th>flight_date</th>\n",
       "      <th>flight_status</th>\n",
       "      <th>live</th>\n",
       "    </tr>\n",
       "  </thead>\n",
       "  <tbody>\n",
       "    <tr>\n",
       "      <td>0</td>\n",
       "      <td>None</td>\n",
       "      <td>None</td>\n",
       "      <td>None</td>\n",
       "      <td>None</td>\n",
       "      <td>None</td>\n",
       "      <td>RE</td>\n",
       "      <td>STK</td>\n",
       "      <td>Stobart Air</td>\n",
       "      <td>None</td>\n",
       "      <td>2020-03-05T09:27:00+00:00</td>\n",
       "      <td>...</td>\n",
       "      <td>None</td>\n",
       "      <td>None</td>\n",
       "      <td>None</td>\n",
       "      <td>None</td>\n",
       "      <td>RE3390</td>\n",
       "      <td>STK3390</td>\n",
       "      <td>3390</td>\n",
       "      <td>2020-03-05</td>\n",
       "      <td>landed</td>\n",
       "      <td>None</td>\n",
       "    </tr>\n",
       "    <tr>\n",
       "      <td>1</td>\n",
       "      <td>None</td>\n",
       "      <td>None</td>\n",
       "      <td>None</td>\n",
       "      <td>None</td>\n",
       "      <td>None</td>\n",
       "      <td>RE</td>\n",
       "      <td>STK</td>\n",
       "      <td>Stobart Air</td>\n",
       "      <td>None</td>\n",
       "      <td>2020-03-05T18:15:00+00:00</td>\n",
       "      <td>...</td>\n",
       "      <td>None</td>\n",
       "      <td>None</td>\n",
       "      <td>None</td>\n",
       "      <td>None</td>\n",
       "      <td>RE3394</td>\n",
       "      <td>STK3394</td>\n",
       "      <td>3394</td>\n",
       "      <td>2020-03-05</td>\n",
       "      <td>landed</td>\n",
       "      <td>None</td>\n",
       "    </tr>\n",
       "    <tr>\n",
       "      <td>2</td>\n",
       "      <td>None</td>\n",
       "      <td>None</td>\n",
       "      <td>None</td>\n",
       "      <td>None</td>\n",
       "      <td>None</td>\n",
       "      <td>FR</td>\n",
       "      <td>RYR</td>\n",
       "      <td>Ryanair</td>\n",
       "      <td>2020-03-05T12:39:00+00:00</td>\n",
       "      <td>2020-03-05T12:37:00+00:00</td>\n",
       "      <td>...</td>\n",
       "      <td>None</td>\n",
       "      <td>None</td>\n",
       "      <td>None</td>\n",
       "      <td>None</td>\n",
       "      <td>FR1978</td>\n",
       "      <td>RYR1978</td>\n",
       "      <td>1978</td>\n",
       "      <td>2020-03-05</td>\n",
       "      <td>landed</td>\n",
       "      <td>None</td>\n",
       "    </tr>\n",
       "    <tr>\n",
       "      <td>3</td>\n",
       "      <td>None</td>\n",
       "      <td>None</td>\n",
       "      <td>None</td>\n",
       "      <td>None</td>\n",
       "      <td>None</td>\n",
       "      <td>BA</td>\n",
       "      <td>BAW</td>\n",
       "      <td>British Airways</td>\n",
       "      <td>2020-03-05T08:29:00+00:00</td>\n",
       "      <td>2020-03-05T08:22:00+00:00</td>\n",
       "      <td>...</td>\n",
       "      <td>ba cityflyer</td>\n",
       "      <td>cj4461</td>\n",
       "      <td>cfe4461</td>\n",
       "      <td>4461</td>\n",
       "      <td>BA4461</td>\n",
       "      <td>BAW4461</td>\n",
       "      <td>4461</td>\n",
       "      <td>2020-03-05</td>\n",
       "      <td>landed</td>\n",
       "      <td>None</td>\n",
       "    </tr>\n",
       "    <tr>\n",
       "      <td>4</td>\n",
       "      <td>None</td>\n",
       "      <td>None</td>\n",
       "      <td>None</td>\n",
       "      <td>None</td>\n",
       "      <td>None</td>\n",
       "      <td>BA</td>\n",
       "      <td>BAW</td>\n",
       "      <td>British Airways</td>\n",
       "      <td>2020-03-05T10:01:00+00:00</td>\n",
       "      <td>2020-03-05T09:57:00+00:00</td>\n",
       "      <td>...</td>\n",
       "      <td>ba cityflyer</td>\n",
       "      <td>cj4463</td>\n",
       "      <td>cfe4463</td>\n",
       "      <td>4463</td>\n",
       "      <td>BA4463</td>\n",
       "      <td>BAW4463</td>\n",
       "      <td>4463</td>\n",
       "      <td>2020-03-05</td>\n",
       "      <td>landed</td>\n",
       "      <td>None</td>\n",
       "    </tr>\n",
       "    <tr>\n",
       "      <td>...</td>\n",
       "      <td>...</td>\n",
       "      <td>...</td>\n",
       "      <td>...</td>\n",
       "      <td>...</td>\n",
       "      <td>...</td>\n",
       "      <td>...</td>\n",
       "      <td>...</td>\n",
       "      <td>...</td>\n",
       "      <td>...</td>\n",
       "      <td>...</td>\n",
       "      <td>...</td>\n",
       "      <td>...</td>\n",
       "      <td>...</td>\n",
       "      <td>...</td>\n",
       "      <td>...</td>\n",
       "      <td>...</td>\n",
       "      <td>...</td>\n",
       "      <td>...</td>\n",
       "      <td>...</td>\n",
       "      <td>...</td>\n",
       "      <td>...</td>\n",
       "    </tr>\n",
       "    <tr>\n",
       "      <td>529</td>\n",
       "      <td>None</td>\n",
       "      <td>None</td>\n",
       "      <td>None</td>\n",
       "      <td>None</td>\n",
       "      <td>None</td>\n",
       "      <td>EY</td>\n",
       "      <td>ETD</td>\n",
       "      <td>Etihad Airways</td>\n",
       "      <td>None</td>\n",
       "      <td>2020-03-05T13:04:00+00:00</td>\n",
       "      <td>...</td>\n",
       "      <td>aer lingus</td>\n",
       "      <td>ei137</td>\n",
       "      <td>ein137</td>\n",
       "      <td>137</td>\n",
       "      <td>EY7977</td>\n",
       "      <td>ETD7977</td>\n",
       "      <td>7977</td>\n",
       "      <td>2020-03-05</td>\n",
       "      <td>landed</td>\n",
       "      <td>None</td>\n",
       "    </tr>\n",
       "    <tr>\n",
       "      <td>530</td>\n",
       "      <td>None</td>\n",
       "      <td>None</td>\n",
       "      <td>None</td>\n",
       "      <td>None</td>\n",
       "      <td>None</td>\n",
       "      <td>UA</td>\n",
       "      <td>UAL</td>\n",
       "      <td>United Airlines</td>\n",
       "      <td>None</td>\n",
       "      <td>2020-03-05T13:04:00+00:00</td>\n",
       "      <td>...</td>\n",
       "      <td>aer lingus</td>\n",
       "      <td>ei137</td>\n",
       "      <td>ein137</td>\n",
       "      <td>137</td>\n",
       "      <td>UA7637</td>\n",
       "      <td>UAL7637</td>\n",
       "      <td>7637</td>\n",
       "      <td>2020-03-05</td>\n",
       "      <td>landed</td>\n",
       "      <td>None</td>\n",
       "    </tr>\n",
       "    <tr>\n",
       "      <td>531</td>\n",
       "      <td>None</td>\n",
       "      <td>None</td>\n",
       "      <td>None</td>\n",
       "      <td>None</td>\n",
       "      <td>None</td>\n",
       "      <td>BA</td>\n",
       "      <td>BAW</td>\n",
       "      <td>British Airways</td>\n",
       "      <td>None</td>\n",
       "      <td>2020-03-05T07:52:00+00:00</td>\n",
       "      <td>...</td>\n",
       "      <td>stobart air</td>\n",
       "      <td>re3280</td>\n",
       "      <td>stk3280</td>\n",
       "      <td>3280</td>\n",
       "      <td>BA8880</td>\n",
       "      <td>BAW8880</td>\n",
       "      <td>8880</td>\n",
       "      <td>2020-03-05</td>\n",
       "      <td>landed</td>\n",
       "      <td>None</td>\n",
       "    </tr>\n",
       "    <tr>\n",
       "      <td>532</td>\n",
       "      <td>None</td>\n",
       "      <td>None</td>\n",
       "      <td>None</td>\n",
       "      <td>None</td>\n",
       "      <td>None</td>\n",
       "      <td>BA</td>\n",
       "      <td>BAW</td>\n",
       "      <td>British Airways</td>\n",
       "      <td>None</td>\n",
       "      <td>2020-03-05T11:00:00+00:00</td>\n",
       "      <td>...</td>\n",
       "      <td>stobart air</td>\n",
       "      <td>re3282</td>\n",
       "      <td>stk3282</td>\n",
       "      <td>3282</td>\n",
       "      <td>BA8882</td>\n",
       "      <td>BAW8882</td>\n",
       "      <td>8882</td>\n",
       "      <td>2020-03-05</td>\n",
       "      <td>landed</td>\n",
       "      <td>None</td>\n",
       "    </tr>\n",
       "    <tr>\n",
       "      <td>533</td>\n",
       "      <td>None</td>\n",
       "      <td>None</td>\n",
       "      <td>None</td>\n",
       "      <td>None</td>\n",
       "      <td>None</td>\n",
       "      <td>BA</td>\n",
       "      <td>BAW</td>\n",
       "      <td>British Airways</td>\n",
       "      <td>None</td>\n",
       "      <td>2020-03-05T14:55:00+00:00</td>\n",
       "      <td>...</td>\n",
       "      <td>stobart air</td>\n",
       "      <td>re3284</td>\n",
       "      <td>stk3284</td>\n",
       "      <td>3284</td>\n",
       "      <td>BA8884</td>\n",
       "      <td>BAW8884</td>\n",
       "      <td>8884</td>\n",
       "      <td>2020-03-05</td>\n",
       "      <td>landed</td>\n",
       "      <td>None</td>\n",
       "    </tr>\n",
       "  </tbody>\n",
       "</table>\n",
       "<p>534 rows × 46 columns</p>\n",
       "</div>"
      ],
      "text/plain": [
       "    aircraft aircraft.iata aircraft.icao aircraft.icao24  \\\n",
       "0       None          None          None            None   \n",
       "1       None          None          None            None   \n",
       "2       None          None          None            None   \n",
       "3       None          None          None            None   \n",
       "4       None          None          None            None   \n",
       "..       ...           ...           ...             ...   \n",
       "529     None          None          None            None   \n",
       "530     None          None          None            None   \n",
       "531     None          None          None            None   \n",
       "532     None          None          None            None   \n",
       "533     None          None          None            None   \n",
       "\n",
       "    aircraft.registration airline.iata airline.icao     airline.name  \\\n",
       "0                    None           RE          STK      Stobart Air   \n",
       "1                    None           RE          STK      Stobart Air   \n",
       "2                    None           FR          RYR          Ryanair   \n",
       "3                    None           BA          BAW  British Airways   \n",
       "4                    None           BA          BAW  British Airways   \n",
       "..                    ...          ...          ...              ...   \n",
       "529                  None           EY          ETD   Etihad Airways   \n",
       "530                  None           UA          UAL  United Airlines   \n",
       "531                  None           BA          BAW  British Airways   \n",
       "532                  None           BA          BAW  British Airways   \n",
       "533                  None           BA          BAW  British Airways   \n",
       "\n",
       "                arrival.actual      arrival.actual_runway  ...  \\\n",
       "0                         None  2020-03-05T09:27:00+00:00  ...   \n",
       "1                         None  2020-03-05T18:15:00+00:00  ...   \n",
       "2    2020-03-05T12:39:00+00:00  2020-03-05T12:37:00+00:00  ...   \n",
       "3    2020-03-05T08:29:00+00:00  2020-03-05T08:22:00+00:00  ...   \n",
       "4    2020-03-05T10:01:00+00:00  2020-03-05T09:57:00+00:00  ...   \n",
       "..                         ...                        ...  ...   \n",
       "529                       None  2020-03-05T13:04:00+00:00  ...   \n",
       "530                       None  2020-03-05T13:04:00+00:00  ...   \n",
       "531                       None  2020-03-05T07:52:00+00:00  ...   \n",
       "532                       None  2020-03-05T11:00:00+00:00  ...   \n",
       "533                       None  2020-03-05T14:55:00+00:00  ...   \n",
       "\n",
       "    flight.codeshared.airline_name flight.codeshared.flight_iata  \\\n",
       "0                             None                          None   \n",
       "1                             None                          None   \n",
       "2                             None                          None   \n",
       "3                     ba cityflyer                        cj4461   \n",
       "4                     ba cityflyer                        cj4463   \n",
       "..                             ...                           ...   \n",
       "529                     aer lingus                         ei137   \n",
       "530                     aer lingus                         ei137   \n",
       "531                    stobart air                        re3280   \n",
       "532                    stobart air                        re3282   \n",
       "533                    stobart air                        re3284   \n",
       "\n",
       "     flight.codeshared.flight_icao flight.codeshared.flight_number  \\\n",
       "0                             None                            None   \n",
       "1                             None                            None   \n",
       "2                             None                            None   \n",
       "3                          cfe4461                            4461   \n",
       "4                          cfe4463                            4463   \n",
       "..                             ...                             ...   \n",
       "529                         ein137                             137   \n",
       "530                         ein137                             137   \n",
       "531                        stk3280                            3280   \n",
       "532                        stk3282                            3282   \n",
       "533                        stk3284                            3284   \n",
       "\n",
       "    flight.iata flight.icao flight.number flight_date flight_status  live  \n",
       "0        RE3390     STK3390          3390  2020-03-05        landed  None  \n",
       "1        RE3394     STK3394          3394  2020-03-05        landed  None  \n",
       "2        FR1978     RYR1978          1978  2020-03-05        landed  None  \n",
       "3        BA4461     BAW4461          4461  2020-03-05        landed  None  \n",
       "4        BA4463     BAW4463          4463  2020-03-05        landed  None  \n",
       "..          ...         ...           ...         ...           ...   ...  \n",
       "529      EY7977     ETD7977          7977  2020-03-05        landed  None  \n",
       "530      UA7637     UAL7637          7637  2020-03-05        landed  None  \n",
       "531      BA8880     BAW8880          8880  2020-03-05        landed  None  \n",
       "532      BA8882     BAW8882          8882  2020-03-05        landed  None  \n",
       "533      BA8884     BAW8884          8884  2020-03-05        landed  None  \n",
       "\n",
       "[534 rows x 46 columns]"
      ]
     },
     "execution_count": 6,
     "metadata": {},
     "output_type": "execute_result"
    }
   ],
   "source": [
    "DUB_data_1 = combine_data_frames('Dublin_biggest_departures_', 'Dublin_departures_landed.json')\n",
    "with open('Dublin_departures_landed.json', 'r') as file_to_join:\n",
    "    data = json.load(file_to_join)\n",
    "    #Normalizing the data\n",
    "    normalized_data = json_normalize(data)\n",
    "    DUB_data_1 = pd.DataFrame(normalized_data)\n",
    "DUB_data_1"
   ]
  },
  {
   "cell_type": "markdown",
   "metadata": {},
   "source": [
    "From here, I can normalize the JSON data to create a flat table and then use Pandas to convert to a 2D data structure. "
   ]
  },
  {
   "cell_type": "code",
   "execution_count": 7,
   "metadata": {},
   "outputs": [
    {
     "name": "stdout",
     "output_type": "stream",
     "text": [
      "Index(['aircraft', 'aircraft.iata', 'aircraft.icao', 'aircraft.icao24',\n",
      "       'aircraft.registration', 'airline.iata', 'airline.icao', 'airline.name',\n",
      "       'arrival.actual', 'arrival.actual_runway', 'arrival.airport',\n",
      "       'arrival.baggage', 'arrival.delay', 'arrival.estimated',\n",
      "       'arrival.estimated_runway', 'arrival.gate', 'arrival.iata',\n",
      "       'arrival.icao', 'arrival.scheduled', 'arrival.terminal',\n",
      "       'arrival.timezone', 'departure.actual', 'departure.actual_runway',\n",
      "       'departure.airport', 'departure.delay', 'departure.estimated',\n",
      "       'departure.estimated_runway', 'departure.gate', 'departure.iata',\n",
      "       'departure.icao', 'departure.scheduled', 'departure.terminal',\n",
      "       'departure.timezone', 'flight.codeshared',\n",
      "       'flight.codeshared.airline_iata', 'flight.codeshared.airline_icao',\n",
      "       'flight.codeshared.airline_name', 'flight.codeshared.flight_iata',\n",
      "       'flight.codeshared.flight_icao', 'flight.codeshared.flight_number',\n",
      "       'flight.iata', 'flight.icao', 'flight.number', 'flight_date',\n",
      "       'flight_status', 'live'],\n",
      "      dtype='object')\n"
     ]
    }
   ],
   "source": [
    "#I access the 'data' field as the other information is the pagination offsets and limits which are not needed\n",
    "\n",
    "# There are a number of columns in the Data Frame and I need to see what these are and they are\n",
    "# related to the pagination information about offsets. I need to remove these and then access the info inside\n",
    "print(DUB_data_1.columns)\n",
    "\n"
   ]
  },
  {
   "cell_type": "markdown",
   "metadata": {},
   "source": [
    "I need to take account for the codeshared flights which are not valid in this case. After this, I can delete the data columns which are not needed. "
   ]
  },
  {
   "cell_type": "code",
   "execution_count": 8,
   "metadata": {},
   "outputs": [
    {
     "name": "stdout",
     "output_type": "stream",
     "text": [
      "Number of flights in data structure: 534\n"
     ]
    }
   ],
   "source": [
    "print(\"Number of flights in data structure: \"+ str(DUB_data_1.shape[0]))"
   ]
  },
  {
   "cell_type": "code",
   "execution_count": 9,
   "metadata": {},
   "outputs": [
    {
     "name": "stdout",
     "output_type": "stream",
     "text": [
      "Codeshare Flight cj4461 has been deleted\n",
      "Codeshare Flight cj4463 has been deleted\n",
      "Codeshare Flight cj4465 has been deleted\n",
      "Codeshare Flight cj4467 has been deleted\n",
      "Codeshare Flight cj4469 has been deleted\n",
      "Codeshare Flight cj4471 has been deleted\n",
      "Codeshare Flight cj4473 has been deleted\n",
      "Codeshare Flight wx280 has been deleted\n",
      "Codeshare Flight wx282 has been deleted\n",
      "Codeshare Flight wx284 has been deleted\n",
      "Codeshare Flight wx286 has been deleted\n",
      "Codeshare Flight wx288 has been deleted\n",
      "Codeshare Flight cj4461 has been deleted\n",
      "Codeshare Flight cj4463 has been deleted\n",
      "Codeshare Flight cj4465 has been deleted\n",
      "Codeshare Flight cj4467 has been deleted\n",
      "Codeshare Flight cj4469 has been deleted\n",
      "Codeshare Flight cj4471 has been deleted\n",
      "Codeshare Flight cj4473 has been deleted\n",
      "Codeshare Flight ei230 has been deleted\n",
      "Codeshare Flight ei232 has been deleted\n",
      "Codeshare Flight ei236 has been deleted\n",
      "Codeshare Flight ei238 has been deleted\n",
      "Codeshare Flight ei246 has been deleted\n",
      "Codeshare Flight ei248 has been deleted\n",
      "Codeshare Flight ba831 has been deleted\n",
      "Codeshare Flight ba833 has been deleted\n",
      "Codeshare Flight ba835 has been deleted\n",
      "Codeshare Flight ba837 has been deleted\n",
      "Codeshare Flight ba845 has been deleted\n",
      "Codeshare Flight ei154 has been deleted\n",
      "Codeshare Flight ei158 has been deleted\n",
      "Codeshare Flight ei168 has been deleted\n",
      "Codeshare Flight ei152 has been deleted\n",
      "Codeshare Flight ei186 has been deleted\n",
      "Codeshare Flight ei152 has been deleted\n",
      "Codeshare Flight ei154 has been deleted\n",
      "Codeshare Flight ei156 has been deleted\n",
      "Codeshare Flight ei158 has been deleted\n",
      "Codeshare Flight ei184 has been deleted\n",
      "Codeshare Flight ei164 has been deleted\n",
      "Codeshare Flight ei168 has been deleted\n",
      "Codeshare Flight ei172 has been deleted\n",
      "Codeshare Flight ei174 has been deleted\n",
      "Codeshare Flight ei176 has been deleted\n",
      "Codeshare Flight ei178 has been deleted\n",
      "Codeshare Flight ba827 has been deleted\n",
      "Codeshare Flight ba829 has been deleted\n",
      "Codeshare Flight ba831 has been deleted\n",
      "Codeshare Flight ba833 has been deleted\n",
      "Codeshare Flight ba835 has been deleted\n",
      "Codeshare Flight may8556 has been deleted\n",
      "Codeshare Flight ei764 has been deleted\n",
      "Codeshare Flight ei330 has been deleted\n",
      "Codeshare Flight ei338 has been deleted\n",
      "Codeshare Flight ei660 has been deleted\n",
      "Codeshare Flight rr*1926 has been deleted\n",
      "Codeshare Flight et552 has been deleted\n",
      "Codeshare Flight ac843 has been deleted\n",
      "Codeshare Flight et552 has been deleted\n",
      "Codeshare Flight ac843 has been deleted\n",
      "Codeshare Flight ei342 has been deleted\n",
      "Codeshare Flight re3286 has been deleted\n",
      "Codeshare Flight re3280 has been deleted\n",
      "Codeshare Flight re3282 has been deleted\n",
      "Codeshare Flight re3284 has been deleted\n",
      "Codeshare Flight re3286 has been deleted\n",
      "Codeshare Flight re3286 has been deleted\n",
      "Codeshare Flight re3284 has been deleted\n",
      "Codeshare Flight re3282 has been deleted\n",
      "Codeshare Flight ei630 has been deleted\n",
      "Codeshare Flight ei636 has been deleted\n",
      "Codeshare Flight a51117 has been deleted\n",
      "Codeshare Flight a51717 has been deleted\n",
      "Codeshare Flight af1017 has been deleted\n",
      "Codeshare Flight ei524 has been deleted\n",
      "Codeshare Flight ei520 has been deleted\n",
      "Codeshare Flight ei522 has been deleted\n",
      "Codeshare Flight ei526 has been deleted\n",
      "Codeshare Flight ei528 has been deleted\n",
      "Codeshare Flight a51717 has been deleted\n",
      "Codeshare Flight af1017 has been deleted\n",
      "Codeshare Flight af1017 has been deleted\n",
      "Codeshare Flight a51717 has been deleted\n",
      "Codeshare Flight af1817 has been deleted\n",
      "Codeshare Flight af1017 has been deleted\n",
      "Codeshare Flight a51117 has been deleted\n",
      "Codeshare Flight af1817 has been deleted\n",
      "Codeshare Flight af1017 has been deleted\n",
      "Codeshare Flight af1817 has been deleted\n",
      "Codeshare Flight af1017 has been deleted\n",
      "Codeshare Flight af1017 has been deleted\n",
      "Codeshare Flight a51117 has been deleted\n",
      "Codeshare Flight a51717 has been deleted\n",
      "Codeshare Flight af1817 has been deleted\n",
      "Codeshare Flight a51117 has been deleted\n",
      "Codeshare Flight af1817 has been deleted\n",
      "Codeshare Flight re3402 has been deleted\n",
      "Codeshare Flight re3408 has been deleted\n",
      "Codeshare Flight re3402 has been deleted\n",
      "Codeshare Flight re3408 has been deleted\n",
      "Codeshare Flight re3408 has been deleted\n",
      "Codeshare Flight re3402 has been deleted\n",
      "Codeshare Flight szs538 has been deleted\n",
      "Codeshare Flight szs538 has been deleted\n",
      "Codeshare Flight qr20 has been deleted\n",
      "Codeshare Flight ei692 has been deleted\n",
      "Codeshare Flight ei698 has been deleted\n",
      "Codeshare Flight ei692 has been deleted\n",
      "Codeshare Flight ei698 has been deleted\n",
      "Codeshare Flight ek162 has been deleted\n",
      "Codeshare Flight ek164 has been deleted\n",
      "Codeshare Flight re3250 has been deleted\n",
      "Codeshare Flight re3256 has been deleted\n",
      "Codeshare Flight re3258 has been deleted\n",
      "Codeshare Flight re3250 has been deleted\n",
      "Codeshare Flight re3256 has been deleted\n",
      "Codeshare Flight re3258 has been deleted\n",
      "Codeshare Flight re3550 has been deleted\n",
      "Codeshare Flight re3258 has been deleted\n",
      "Codeshare Flight ua22 has been deleted\n",
      "Codeshare Flight ua22 has been deleted\n",
      "Codeshare Flight ua22 has been deleted\n",
      "Codeshare Flight ei494 has been deleted\n",
      "Codeshare Flight ei402 has been deleted\n",
      "Codeshare Flight ei406 has been deleted\n",
      "Codeshare Flight ei406 has been deleted\n",
      "Codeshare Flight ei650 has been deleted\n",
      "Codeshare Flight ei656 has been deleted\n",
      "Codeshare Flight ei656 has been deleted\n",
      "Codeshare Flight may380 has been deleted\n",
      "Codeshare Flight lh979 has been deleted\n",
      "Codeshare Flight lh983 has been deleted\n",
      "Codeshare Flight lh979 has been deleted\n",
      "Codeshare Flight lh977 has been deleted\n",
      "Codeshare Flight lh983 has been deleted\n",
      "Codeshare Flight lh981 has been deleted\n",
      "Codeshare Flight lh979 has been deleted\n",
      "Codeshare Flight lh981 has been deleted\n",
      "Codeshare Flight lh983 has been deleted\n",
      "Codeshare Flight lh983 has been deleted\n",
      "Codeshare Flight re3220 has been deleted\n",
      "Codeshare Flight re3222 has been deleted\n",
      "Codeshare Flight re3224 has been deleted\n",
      "Codeshare Flight re3228 has been deleted\n",
      "Codeshare Flight re3220 has been deleted\n",
      "Codeshare Flight re3222 has been deleted\n",
      "Codeshare Flight re3224 has been deleted\n",
      "Codeshare Flight re3228 has been deleted\n",
      "Codeshare Flight re3224 has been deleted\n",
      "Codeshare Flight re3222 has been deleted\n",
      "Codeshare Flight ei680 has been deleted\n",
      "Codeshare Flight ei392 has been deleted\n",
      "Codeshare Flight n71386 has been deleted\n",
      "Codeshare Flight et500 has been deleted\n",
      "Codeshare Flight et500 has been deleted\n",
      "Codeshare Flight et500 has been deleted\n",
      "Codeshare Flight re3212 has been deleted\n",
      "Codeshare Flight re3216 has been deleted\n",
      "Codeshare Flight re3212 has been deleted\n",
      "Codeshare Flight re3216 has been deleted\n",
      "Codeshare Flight re3216 has been deleted\n",
      "Codeshare Flight re3212 has been deleted\n",
      "Codeshare Flight tk1976 has been deleted\n",
      "Codeshare Flight dl45 has been deleted\n",
      "Codeshare Flight ei105 has been deleted\n",
      "Codeshare Flight ei105 has been deleted\n",
      "Codeshare Flight dl45 has been deleted\n",
      "Codeshare Flight ei105 has been deleted\n",
      "Codeshare Flight re3208 has been deleted\n",
      "Codeshare Flight re3208 has been deleted\n",
      "Codeshare Flight re3208 has been deleted\n",
      "Codeshare Flight rr*1901 has been deleted\n",
      "Codeshare Flight re3390 has been deleted\n",
      "Codeshare Flight re3394 has been deleted\n",
      "Codeshare Flight re3390 has been deleted\n",
      "Codeshare Flight re3394 has been deleted\n",
      "Codeshare Flight re3394 has been deleted\n",
      "Codeshare Flight ba837 has been deleted\n",
      "Codeshare Flight ba839 has been deleted\n",
      "Codeshare Flight ei158 has been deleted\n",
      "Codeshare Flight ei154 has been deleted\n",
      "Codeshare Flight ei176 has been deleted\n",
      "Codeshare Flight ei156 has been deleted\n",
      "Codeshare Flight ba837 has been deleted\n",
      "Codeshare Flight ba829 has been deleted\n",
      "Codeshare Flight ba845 has been deleted\n",
      "Codeshare Flight ba837 has been deleted\n",
      "Codeshare Flight ba827 has been deleted\n",
      "Codeshare Flight ba839 has been deleted\n",
      "Codeshare Flight ba827 has been deleted\n",
      "Codeshare Flight ei154 has been deleted\n",
      "Codeshare Flight ei158 has been deleted\n",
      "Codeshare Flight ei152 has been deleted\n",
      "Codeshare Flight ei164 has been deleted\n",
      "Codeshare Flight ei168 has been deleted\n",
      "Codeshare Flight ei482 has been deleted\n",
      "Codeshare Flight tp1323 has been deleted\n",
      "Codeshare Flight ei782 has been deleted\n",
      "Codeshare Flight ei552 has been deleted\n",
      "Codeshare Flight ei592 has been deleted\n",
      "Codeshare Flight ei202 has been deleted\n",
      "Codeshare Flight ei210 has been deleted\n",
      "Codeshare Flight ei212 has been deleted\n",
      "Codeshare Flight re3322 has been deleted\n",
      "Codeshare Flight re3328 has been deleted\n",
      "Codeshare Flight ei204 has been deleted\n",
      "Codeshare Flight re3322 has been deleted\n",
      "Codeshare Flight re3328 has been deleted\n",
      "Codeshare Flight re3322 has been deleted\n",
      "Codeshare Flight ei210 has been deleted\n",
      "Codeshare Flight ei352 has been deleted\n",
      "Codeshare Flight lh2517 has been deleted\n",
      "Codeshare Flight lh2517 has been deleted\n",
      "Codeshare Flight re3350 has been deleted\n",
      "Codeshare Flight re3350 has been deleted\n",
      "Codeshare Flight re3350 has been deleted\n",
      "Codeshare Flight re3930 has been deleted\n",
      "Codeshare Flight re3930 has been deleted\n",
      "Codeshare Flight re3930 has been deleted\n",
      "Codeshare Flight ei123 has been deleted\n",
      "Codeshare Flight ei123 has been deleted\n",
      "Codeshare Flight l1e1363 has been deleted\n",
      "Codeshare Flight sk4604 has been deleted\n",
      "Codeshare Flight aa723 has been deleted\n",
      "Codeshare Flight aa723 has been deleted\n",
      "Codeshare Flight aa723 has been deleted\n",
      "Codeshare Flight ei644 has been deleted\n",
      "Codeshare Flight rr*7326 has been deleted\n",
      "Codeshare Flight re3244 has been deleted\n",
      "Codeshare Flight re3244 has been deleted\n",
      "Codeshare Flight re3244 has been deleted\n",
      "Codeshare Flight ei586 has been deleted\n",
      "Codeshare Flight ei582 has been deleted\n",
      "Codeshare Flight ei586 has been deleted\n",
      "Codeshare Flight ei602 has been deleted\n",
      "Codeshare Flight ei604 has been deleted\n",
      "Codeshare Flight ei608 has been deleted\n",
      "Codeshare Flight ei610 has been deleted\n",
      "Codeshare Flight wa934 has been deleted\n",
      "Codeshare Flight kl936 has been deleted\n",
      "Codeshare Flight kl932 has been deleted\n",
      "Codeshare Flight ei610 has been deleted\n",
      "Codeshare Flight ei608 has been deleted\n",
      "Codeshare Flight kl932 has been deleted\n",
      "Codeshare Flight wa934 has been deleted\n",
      "Codeshare Flight kl938 has been deleted\n",
      "Codeshare Flight wa934 has been deleted\n",
      "Codeshare Flight kl932 has been deleted\n",
      "Codeshare Flight kl936 has been deleted\n",
      "Codeshare Flight kl932 has been deleted\n",
      "Codeshare Flight kl936 has been deleted\n",
      "Codeshare Flight wa934 has been deleted\n",
      "Codeshare Flight kl938 has been deleted\n",
      "Codeshare Flight wa934 has been deleted\n",
      "Codeshare Flight kl936 has been deleted\n",
      "Codeshare Flight kl932 has been deleted\n",
      "Codeshare Flight wa934 has been deleted\n",
      "Codeshare Flight kl936 has been deleted\n",
      "Codeshare Flight kl938 has been deleted\n",
      "Codeshare Flight ey42 has been deleted\n",
      "Codeshare Flight ey42 has been deleted\n",
      "Codeshare Flight ey42 has been deleted\n",
      "Codeshare Flight ey42 has been deleted\n",
      "Codeshare Flight ey42 has been deleted\n",
      "Codeshare Flight ei562 has been deleted\n",
      "Codeshare Flight ei564 has been deleted\n",
      "Codeshare Flight ei564 has been deleted\n",
      "Codeshare Flight ei131 has been deleted\n",
      "Codeshare Flight ei131 has been deleted\n",
      "Codeshare Flight ei262 has been deleted\n",
      "Codeshare Flight ei272 has been deleted\n",
      "Codeshare Flight ei276 has been deleted\n",
      "Codeshare Flight re3264 has been deleted\n",
      "Codeshare Flight re3264 has been deleted\n",
      "Codeshare Flight re3264 has been deleted\n",
      "Codeshare Flight ei276 has been deleted\n",
      "Codeshare Flight ei272 has been deleted\n",
      "Codeshare Flight may6485 has been deleted\n",
      "Codeshare Flight ei137 has been deleted\n",
      "Codeshare Flight ei137 has been deleted\n",
      "Codeshare Flight ei137 has been deleted\n",
      "Codeshare Flight re3280 has been deleted\n",
      "Codeshare Flight re3282 has been deleted\n",
      "Codeshare Flight re3284 has been deleted\n"
     ]
    }
   ],
   "source": [
    "#Running the Codeshare clean function which gets rid of the codeshared flights that have a flight already in the data\n",
    "clean_DUB_data_1 = codeshare_flight_deletion(DUB_data_1)\n",
    "clean_DUB_data_1.reset_index(drop=True, inplace=True)"
   ]
  },
  {
   "cell_type": "code",
   "execution_count": 10,
   "metadata": {},
   "outputs": [
    {
     "name": "stdout",
     "output_type": "stream",
     "text": [
      "Number of flights after cleaning codeshared flights: 249\n"
     ]
    }
   ],
   "source": [
    "#Printing to show that codeshared flights have been removed that have a flight number elsewhere\n",
    "print(\"Number of flights after cleaning codeshared flights: \"+str(clean_DUB_data_1.shape[0]))"
   ]
  },
  {
   "cell_type": "markdown",
   "metadata": {},
   "source": [
    "This shows that there are a lot of codeshare flights returned in a single API request with a total of 900 flights gathered but only 427 singular routes/flights. As a result, I have shown the effect that cleaning data has had as I could have concluded something incorrect about the data due to the sheer number of codeshare flights. \n",
    "\n",
    "\n",
    "\n",
    "\n",
    "\n",
    "In the case of the data currently, there is a lot of columns that I do not need. These include scheduled flight times, runways, terminal numbers, gate numbers, aircraft types and many more. These will be needed later but for the case of this initial test they will not. Hence, I will now get rid of these columns which were printed out before hand. \n",
    "I want to simplify the data frame for the following features:\n",
    "- Departure Time\n",
    "- Arrival Airport \n",
    "- Arrival IATA airport code\n",
    "- Airline Name\n",
    "- Airline IATA code\n"
   ]
  },
  {
   "cell_type": "code",
   "execution_count": 11,
   "metadata": {},
   "outputs": [
    {
     "name": "stdout",
     "output_type": "stream",
     "text": [
      "Number of flights: 249\n"
     ]
    }
   ],
   "source": [
    "#Clean the data for the specific date\n",
    "clean_DUB_data_1 = clean_DUB_data_1[clean_DUB_data_1['flight_date'] == '2020-03-05']\n",
    "simplified_data = clean_DUB_data_1[['departure.scheduled', 'arrival.airport', 'arrival.iata', 'airline.name', 'airline.iata']]\n",
    "print(\"Number of flights: \"+str(clean_DUB_data_1.shape[0]))"
   ]
  },
  {
   "cell_type": "markdown",
   "metadata": {},
   "source": [
    "I am now checking that the data returned to me is all present and doesn't have any NULL values"
   ]
  },
  {
   "cell_type": "code",
   "execution_count": 12,
   "metadata": {},
   "outputs": [
    {
     "data": {
      "text/plain": [
       "departure.scheduled    0\n",
       "arrival.airport        0\n",
       "arrival.iata           0\n",
       "airline.name           0\n",
       "airline.iata           0\n",
       "dtype: int64"
      ]
     },
     "execution_count": 12,
     "metadata": {},
     "output_type": "execute_result"
    }
   ],
   "source": [
    "simplified_data.isnull().sum()"
   ]
  },
  {
   "cell_type": "markdown",
   "metadata": {},
   "source": [
    "Now checking that the simplified data has been returned properly by plotting the first 10 flights"
   ]
  },
  {
   "cell_type": "code",
   "execution_count": 13,
   "metadata": {},
   "outputs": [
    {
     "data": {
      "text/html": [
       "<div>\n",
       "<style scoped>\n",
       "    .dataframe tbody tr th:only-of-type {\n",
       "        vertical-align: middle;\n",
       "    }\n",
       "\n",
       "    .dataframe tbody tr th {\n",
       "        vertical-align: top;\n",
       "    }\n",
       "\n",
       "    .dataframe thead th {\n",
       "        text-align: right;\n",
       "    }\n",
       "</style>\n",
       "<table border=\"1\" class=\"dataframe\">\n",
       "  <thead>\n",
       "    <tr style=\"text-align: right;\">\n",
       "      <th></th>\n",
       "      <th>departure.scheduled</th>\n",
       "      <th>arrival.airport</th>\n",
       "      <th>arrival.iata</th>\n",
       "      <th>airline.name</th>\n",
       "      <th>airline.iata</th>\n",
       "    </tr>\n",
       "  </thead>\n",
       "  <tbody>\n",
       "    <tr>\n",
       "      <td>0</td>\n",
       "      <td>2020-03-05T06:50:00+00:00</td>\n",
       "      <td>Leeds/bradford</td>\n",
       "      <td>LBA</td>\n",
       "      <td>Stobart Air</td>\n",
       "      <td>RE</td>\n",
       "    </tr>\n",
       "    <tr>\n",
       "      <td>1</td>\n",
       "      <td>2020-03-05T17:25:00+00:00</td>\n",
       "      <td>Leeds/bradford</td>\n",
       "      <td>LBA</td>\n",
       "      <td>Stobart Air</td>\n",
       "      <td>RE</td>\n",
       "    </tr>\n",
       "    <tr>\n",
       "      <td>2</td>\n",
       "      <td>2020-03-05T09:35:00+00:00</td>\n",
       "      <td>Lodz Lublinek</td>\n",
       "      <td>LCJ</td>\n",
       "      <td>Ryanair</td>\n",
       "      <td>FR</td>\n",
       "    </tr>\n",
       "    <tr>\n",
       "      <td>3</td>\n",
       "      <td>2020-03-05T07:00:00+00:00</td>\n",
       "      <td>London City Airport</td>\n",
       "      <td>LCY</td>\n",
       "      <td>BA Cityflyer</td>\n",
       "      <td>CJ</td>\n",
       "    </tr>\n",
       "    <tr>\n",
       "      <td>4</td>\n",
       "      <td>2020-03-05T08:50:00+00:00</td>\n",
       "      <td>London City Airport</td>\n",
       "      <td>LCY</td>\n",
       "      <td>BA Cityflyer</td>\n",
       "      <td>CJ</td>\n",
       "    </tr>\n",
       "    <tr>\n",
       "      <td>5</td>\n",
       "      <td>2020-03-05T11:00:00+00:00</td>\n",
       "      <td>London City Airport</td>\n",
       "      <td>LCY</td>\n",
       "      <td>BA Cityflyer</td>\n",
       "      <td>CJ</td>\n",
       "    </tr>\n",
       "    <tr>\n",
       "      <td>6</td>\n",
       "      <td>2020-03-05T16:00:00+00:00</td>\n",
       "      <td>London City Airport</td>\n",
       "      <td>LCY</td>\n",
       "      <td>BA Cityflyer</td>\n",
       "      <td>CJ</td>\n",
       "    </tr>\n",
       "    <tr>\n",
       "      <td>7</td>\n",
       "      <td>2020-03-05T17:05:00+00:00</td>\n",
       "      <td>London City Airport</td>\n",
       "      <td>LCY</td>\n",
       "      <td>BA Cityflyer</td>\n",
       "      <td>CJ</td>\n",
       "    </tr>\n",
       "    <tr>\n",
       "      <td>8</td>\n",
       "      <td>2020-03-05T20:00:00+00:00</td>\n",
       "      <td>London City Airport</td>\n",
       "      <td>LCY</td>\n",
       "      <td>BA Cityflyer</td>\n",
       "      <td>CJ</td>\n",
       "    </tr>\n",
       "    <tr>\n",
       "      <td>9</td>\n",
       "      <td>2020-03-05T19:15:00+00:00</td>\n",
       "      <td>London City Airport</td>\n",
       "      <td>LCY</td>\n",
       "      <td>BA Cityflyer</td>\n",
       "      <td>CJ</td>\n",
       "    </tr>\n",
       "  </tbody>\n",
       "</table>\n",
       "</div>"
      ],
      "text/plain": [
       "         departure.scheduled      arrival.airport arrival.iata  airline.name  \\\n",
       "0  2020-03-05T06:50:00+00:00       Leeds/bradford          LBA   Stobart Air   \n",
       "1  2020-03-05T17:25:00+00:00       Leeds/bradford          LBA   Stobart Air   \n",
       "2  2020-03-05T09:35:00+00:00        Lodz Lublinek          LCJ       Ryanair   \n",
       "3  2020-03-05T07:00:00+00:00  London City Airport          LCY  BA Cityflyer   \n",
       "4  2020-03-05T08:50:00+00:00  London City Airport          LCY  BA Cityflyer   \n",
       "5  2020-03-05T11:00:00+00:00  London City Airport          LCY  BA Cityflyer   \n",
       "6  2020-03-05T16:00:00+00:00  London City Airport          LCY  BA Cityflyer   \n",
       "7  2020-03-05T17:05:00+00:00  London City Airport          LCY  BA Cityflyer   \n",
       "8  2020-03-05T20:00:00+00:00  London City Airport          LCY  BA Cityflyer   \n",
       "9  2020-03-05T19:15:00+00:00  London City Airport          LCY  BA Cityflyer   \n",
       "\n",
       "  airline.iata  \n",
       "0           RE  \n",
       "1           RE  \n",
       "2           FR  \n",
       "3           CJ  \n",
       "4           CJ  \n",
       "5           CJ  \n",
       "6           CJ  \n",
       "7           CJ  \n",
       "8           CJ  \n",
       "9           CJ  "
      ]
     },
     "execution_count": 13,
     "metadata": {},
     "output_type": "execute_result"
    }
   ],
   "source": [
    "simplified_data[0:10]"
   ]
  },
  {
   "cell_type": "markdown",
   "metadata": {},
   "source": [
    "As we can see from the readout above, the data headings/column headings are laid out in an inituitive way but it is not very presentable in that fashion. As a result, I can rename the columns as appropriate.\n",
    "\n",
    "I am using a mappping to the headings as the pd.DataFrame.rename() function sometimes has trouble interpreting what you mean when you want to rename something"
   ]
  },
  {
   "cell_type": "code",
   "execution_count": 14,
   "metadata": {},
   "outputs": [
    {
     "data": {
      "text/html": [
       "<div>\n",
       "<style scoped>\n",
       "    .dataframe tbody tr th:only-of-type {\n",
       "        vertical-align: middle;\n",
       "    }\n",
       "\n",
       "    .dataframe tbody tr th {\n",
       "        vertical-align: top;\n",
       "    }\n",
       "\n",
       "    .dataframe thead th {\n",
       "        text-align: right;\n",
       "    }\n",
       "</style>\n",
       "<table border=\"1\" class=\"dataframe\">\n",
       "  <thead>\n",
       "    <tr style=\"text-align: right;\">\n",
       "      <th></th>\n",
       "      <th>Scheduled Departure Time</th>\n",
       "      <th>Destination Airport</th>\n",
       "      <th>Destination IATA Code</th>\n",
       "      <th>Airline Name</th>\n",
       "      <th>Airline IATA Code</th>\n",
       "    </tr>\n",
       "  </thead>\n",
       "  <tbody>\n",
       "    <tr>\n",
       "      <td>0</td>\n",
       "      <td>2020-03-05T06:50:00+00:00</td>\n",
       "      <td>Leeds/bradford</td>\n",
       "      <td>LBA</td>\n",
       "      <td>Stobart Air</td>\n",
       "      <td>RE</td>\n",
       "    </tr>\n",
       "    <tr>\n",
       "      <td>1</td>\n",
       "      <td>2020-03-05T17:25:00+00:00</td>\n",
       "      <td>Leeds/bradford</td>\n",
       "      <td>LBA</td>\n",
       "      <td>Stobart Air</td>\n",
       "      <td>RE</td>\n",
       "    </tr>\n",
       "    <tr>\n",
       "      <td>2</td>\n",
       "      <td>2020-03-05T09:35:00+00:00</td>\n",
       "      <td>Lodz Lublinek</td>\n",
       "      <td>LCJ</td>\n",
       "      <td>Ryanair</td>\n",
       "      <td>FR</td>\n",
       "    </tr>\n",
       "    <tr>\n",
       "      <td>3</td>\n",
       "      <td>2020-03-05T07:00:00+00:00</td>\n",
       "      <td>London City Airport</td>\n",
       "      <td>LCY</td>\n",
       "      <td>BA Cityflyer</td>\n",
       "      <td>CJ</td>\n",
       "    </tr>\n",
       "    <tr>\n",
       "      <td>4</td>\n",
       "      <td>2020-03-05T08:50:00+00:00</td>\n",
       "      <td>London City Airport</td>\n",
       "      <td>LCY</td>\n",
       "      <td>BA Cityflyer</td>\n",
       "      <td>CJ</td>\n",
       "    </tr>\n",
       "    <tr>\n",
       "      <td>5</td>\n",
       "      <td>2020-03-05T11:00:00+00:00</td>\n",
       "      <td>London City Airport</td>\n",
       "      <td>LCY</td>\n",
       "      <td>BA Cityflyer</td>\n",
       "      <td>CJ</td>\n",
       "    </tr>\n",
       "    <tr>\n",
       "      <td>6</td>\n",
       "      <td>2020-03-05T16:00:00+00:00</td>\n",
       "      <td>London City Airport</td>\n",
       "      <td>LCY</td>\n",
       "      <td>BA Cityflyer</td>\n",
       "      <td>CJ</td>\n",
       "    </tr>\n",
       "    <tr>\n",
       "      <td>7</td>\n",
       "      <td>2020-03-05T17:05:00+00:00</td>\n",
       "      <td>London City Airport</td>\n",
       "      <td>LCY</td>\n",
       "      <td>BA Cityflyer</td>\n",
       "      <td>CJ</td>\n",
       "    </tr>\n",
       "    <tr>\n",
       "      <td>8</td>\n",
       "      <td>2020-03-05T20:00:00+00:00</td>\n",
       "      <td>London City Airport</td>\n",
       "      <td>LCY</td>\n",
       "      <td>BA Cityflyer</td>\n",
       "      <td>CJ</td>\n",
       "    </tr>\n",
       "    <tr>\n",
       "      <td>9</td>\n",
       "      <td>2020-03-05T19:15:00+00:00</td>\n",
       "      <td>London City Airport</td>\n",
       "      <td>LCY</td>\n",
       "      <td>BA Cityflyer</td>\n",
       "      <td>CJ</td>\n",
       "    </tr>\n",
       "  </tbody>\n",
       "</table>\n",
       "</div>"
      ],
      "text/plain": [
       "    Scheduled Departure Time  Destination Airport Destination IATA Code  \\\n",
       "0  2020-03-05T06:50:00+00:00       Leeds/bradford                   LBA   \n",
       "1  2020-03-05T17:25:00+00:00       Leeds/bradford                   LBA   \n",
       "2  2020-03-05T09:35:00+00:00        Lodz Lublinek                   LCJ   \n",
       "3  2020-03-05T07:00:00+00:00  London City Airport                   LCY   \n",
       "4  2020-03-05T08:50:00+00:00  London City Airport                   LCY   \n",
       "5  2020-03-05T11:00:00+00:00  London City Airport                   LCY   \n",
       "6  2020-03-05T16:00:00+00:00  London City Airport                   LCY   \n",
       "7  2020-03-05T17:05:00+00:00  London City Airport                   LCY   \n",
       "8  2020-03-05T20:00:00+00:00  London City Airport                   LCY   \n",
       "9  2020-03-05T19:15:00+00:00  London City Airport                   LCY   \n",
       "\n",
       "   Airline Name Airline IATA Code  \n",
       "0   Stobart Air                RE  \n",
       "1   Stobart Air                RE  \n",
       "2       Ryanair                FR  \n",
       "3  BA Cityflyer                CJ  \n",
       "4  BA Cityflyer                CJ  \n",
       "5  BA Cityflyer                CJ  \n",
       "6  BA Cityflyer                CJ  \n",
       "7  BA Cityflyer                CJ  \n",
       "8  BA Cityflyer                CJ  \n",
       "9  BA Cityflyer                CJ  "
      ]
     },
     "execution_count": 14,
     "metadata": {},
     "output_type": "execute_result"
    }
   ],
   "source": [
    " map_headings = {simplified_data.columns[0]: 'Scheduled Departure Time', \n",
    "                 simplified_data.columns[1]: 'Destination Airport', \n",
    "                 simplified_data.columns[2]: 'Destination IATA Code', \n",
    "                 simplified_data.columns[3]: 'Airline Name',\n",
    "                 simplified_data.columns[4]: 'Airline IATA Code'}\n",
    "                 \n",
    "simplified_data = simplified_data.rename(columns=map_headings)\n",
    "simplified_data[0:10]\n",
    "\n"
   ]
  },
  {
   "cell_type": "markdown",
   "metadata": {},
   "source": [
    "After the data has been cleaned appropriately as it has been above for just the destination airport and the airline to that destination airport. I can present the most popular destination airports for flights out of Dublin Airport on the 5th of March 2020 and airlines for those routes.\n",
    "I will firstly characterise the Top 10 most popular airports for clarity"
   ]
  },
  {
   "cell_type": "code",
   "execution_count": 15,
   "metadata": {},
   "outputs": [
    {
     "data": {
      "text/plain": [
       "Text(0, 0.5, 'Number of Flights')"
      ]
     },
     "execution_count": 15,
     "metadata": {},
     "output_type": "execute_result"
    },
    {
     "data": {
      "image/png": "[encoded data removed]",
      "text/plain": [
       "<Figure size 432x288 with 1 Axes>"
      ]
     },
     "metadata": {
      "needs_background": "light"
     },
     "output_type": "display_data"
    }
   ],
   "source": [
    "top_10_airport_numbers = simplified_data[\"Destination Airport\"].value_counts()[0:10]\n",
    "#Need to turn into a data frame to plot \n",
    "most_popular_airports = pd.DataFrame(top_10_airport_numbers)\n",
    "most_popular_airports = most_popular_airports.rename(columns={'Destination Airport': 'No. of Flights'})\n",
    "most_popular_airports_plot = most_popular_airports.plot(kind = 'bar', \n",
    "                                                        title=\"Top 10 Destinations from Dublin Airport (5th March 2020)\")\n",
    "most_popular_airports_plot.set_xlabel(\"Airports\")\n",
    "most_popular_airports_plot.set_ylabel(\"Number of Flights\")"
   ]
  },
  {
   "cell_type": "code",
   "execution_count": 16,
   "metadata": {},
   "outputs": [
    {
     "data": {
      "text/plain": [
       "Heathrow                            20\n",
       "Gatwick                             14\n",
       "Schiphol                            12\n",
       "London City Airport                 12\n",
       "Manchester Airport                  11\n",
       "Birmingham International Airport    10\n",
       "Charles De Gaulle                    9\n",
       "Frankfurt International Airport      8\n",
       "Glasgow International                7\n",
       "Edinburgh                            7\n",
       "Name: Destination Airport, dtype: int64"
      ]
     },
     "execution_count": 16,
     "metadata": {},
     "output_type": "execute_result"
    }
   ],
   "source": [
    "top_10_airport_numbers"
   ]
  },
  {
   "cell_type": "markdown",
   "metadata": {},
   "source": [
    "Getting the most common airports, I will need to store the most popular airports before then using the search parameter from the API documentation to find the airport before getting their longitude and latitude and plotting them.\n",
    "I can use the IATA codes which will be unique for each airport and make sure that there are no changes\n"
   ]
  },
  {
   "cell_type": "code",
   "execution_count": 17,
   "metadata": {},
   "outputs": [
    {
     "data": {
      "text/plain": [
       "['Heathrow',\n",
       " 'Gatwick',\n",
       " 'Schiphol',\n",
       " 'London City Airport',\n",
       " 'Manchester Airport']"
      ]
     },
     "execution_count": 17,
     "metadata": {},
     "output_type": "execute_result"
    }
   ],
   "source": [
    "IATA_codes_most_popular = simplified_data[\"Destination Airport\"].value_counts()[0:5]\n",
    "list_of_airports = IATA_codes_most_popular.index.tolist()\n",
    "list_of_airports"
   ]
  },
  {
   "cell_type": "code",
   "execution_count": 24,
   "metadata": {},
   "outputs": [
    {
     "data": {
      "application/vnd.jupyter.widget-view+json": {
       "model_id": "f420e2eca2704723ac5d6800deca3f6d",
       "version_major": 2,
       "version_minor": 0
      },
      "text/plain": [
       "Map(center=[51.95772495, 0.38183760592000004], controls=(ZoomControl(options=['position', 'zoom_in_text', 'zoo…"
      ]
     },
     "metadata": {},
     "output_type": "display_data"
    }
   ],
   "source": [
    "airport_locs = pd.DataFrame({'Name' : [], 'Latitude': [], 'Longitude': []})\n",
    "#Add airport to the string\n",
    "list_of_airports = [airport+ ' Airport' if 'Airport' not in airport else airport for airport in list_of_airports]\n",
    "geocoder = LocationIQ('5798d7a2381f01')\n",
    "for index,name in enumerate(list_of_airports):\n",
    "    location = geocoder.geocode(name)\n",
    "    longitude = float(location[0]['lon'])\n",
    "    latitude = float(location[0]['lat'])\n",
    "    title = location[0]['display_name']\n",
    "    airport_locs = airport_locs.append({'Name': title, 'Latitude': latitude, 'Longitude': longitude}, ignore_index=True)\n",
    "    time.sleep(0.5)\n",
    "airport_locs.to_json('top_5_airports.json', orient='records')\n",
    "\n",
    "with open('top_5_airports.json', 'r') as airports:\n",
    "    data = json.load(airports)\n",
    "    #Normalizing the data\n",
    "    normalized_data = json_normalize(data)\n",
    "    airport_locs = pd.DataFrame(normalized_data)\n",
    "\n",
    "\n",
    "midpoint_lat = ((airport_locs.iloc[0]['Latitude']+airport_locs.iloc[1]['Latitude']+airport_locs.iloc[2]['Latitude']+\\\n",
    "               airport_locs.iloc[3]['Latitude']+airport_locs.iloc[4]['Latitude'])/5)\n",
    "midpoint_lon = ((airport_locs.iloc[0]['Longitude']+airport_locs.iloc[1]['Longitude']+airport_locs.iloc[2]['Longitude']+\\\n",
    "               airport_locs.iloc[3]['Longitude']+airport_locs.iloc[4]['Longitude'])/5)\n",
    "center = (midpoint_lat, midpoint_lon)\n",
    "\n",
    "map_airports = Map(center=center, zoom=6)\n",
    "marker1 = Marker(location=(airport_locs.iloc[0]['Latitude'], airport_locs.iloc[0]['Longitude']),\\\n",
    "                 draggable=False, title=airport_locs.iloc[0]['Name'])\n",
    "marker2 = Marker(location=(airport_locs.iloc[1]['Latitude'], airport_locs.iloc[1]['Longitude']),\\\n",
    "                 draggable=False, title=airport_locs.iloc[1]['Name'])\n",
    "marker3 = Marker(location=(airport_locs.iloc[2]['Latitude'], airport_locs.iloc[2]['Longitude']),\\\n",
    "                 draggable=False, title=airport_locs.iloc[2]['Name'])\n",
    "marker4 = Marker(location=(airport_locs.iloc[3]['Latitude'], airport_locs.iloc[3]['Longitude']),\\\n",
    "                 draggable=False, title=airport_locs.iloc[3]['Name'])\n",
    "marker5 = Marker(location=(airport_locs.iloc[4]['Latitude'], airport_locs.iloc[4]['Longitude']),\\\n",
    "                 draggable=False, title=airport_locs.iloc[4]['Name'])\n",
    "map_airports.add_layer(marker1);\n",
    "map_airports.add_layer(marker2);\n",
    "map_airports.add_layer(marker3);\n",
    "map_airports.add_layer(marker4);\n",
    "map_airports.add_layer(marker5);\n",
    "\n",
    "map_airports"
   ]
  },
  {
   "cell_type": "markdown",
   "metadata": {},
   "source": [
    "I needed to do this as the API request for flights only gives you the the airport name and codes rather than their location"
   ]
  },
  {
   "cell_type": "code",
   "execution_count": 19,
   "metadata": {},
   "outputs": [
    {
     "data": {
      "text/html": [
       "<div>\n",
       "<style scoped>\n",
       "    .dataframe tbody tr th:only-of-type {\n",
       "        vertical-align: middle;\n",
       "    }\n",
       "\n",
       "    .dataframe tbody tr th {\n",
       "        vertical-align: top;\n",
       "    }\n",
       "\n",
       "    .dataframe thead th {\n",
       "        text-align: right;\n",
       "    }\n",
       "</style>\n",
       "<table border=\"1\" class=\"dataframe\">\n",
       "  <thead>\n",
       "    <tr style=\"text-align: right;\">\n",
       "      <th></th>\n",
       "      <th>Name</th>\n",
       "      <th>Latitude</th>\n",
       "      <th>Longitude</th>\n",
       "    </tr>\n",
       "  </thead>\n",
       "  <tbody>\n",
       "    <tr>\n",
       "      <td>0</td>\n",
       "      <td>London Heathrow Airport, St. Anthony's Way, Ra...</td>\n",
       "      <td>51.467771</td>\n",
       "      <td>-0.459082</td>\n",
       "    </tr>\n",
       "    <tr>\n",
       "      <td>1</td>\n",
       "      <td>Gatwick Airport, Station Approach Road, Crawle...</td>\n",
       "      <td>51.156724</td>\n",
       "      <td>-0.161019</td>\n",
       "    </tr>\n",
       "    <tr>\n",
       "      <td>2</td>\n",
       "      <td>Schiphol Airport, Jan Dellaertplein, Schiphol,...</td>\n",
       "      <td>52.309523</td>\n",
       "      <td>4.762181</td>\n",
       "    </tr>\n",
       "    <tr>\n",
       "      <td>3</td>\n",
       "      <td>London City Airport, Parker Street, Silvertown...</td>\n",
       "      <td>51.504266</td>\n",
       "      <td>0.047477</td>\n",
       "    </tr>\n",
       "    <tr>\n",
       "      <td>4</td>\n",
       "      <td>Manchester Airport, Rivermead Avenue, Timperle...</td>\n",
       "      <td>53.350342</td>\n",
       "      <td>-2.280369</td>\n",
       "    </tr>\n",
       "  </tbody>\n",
       "</table>\n",
       "</div>"
      ],
      "text/plain": [
       "                                                Name   Latitude  Longitude\n",
       "0  London Heathrow Airport, St. Anthony's Way, Ra...  51.467771  -0.459082\n",
       "1  Gatwick Airport, Station Approach Road, Crawle...  51.156724  -0.161019\n",
       "2  Schiphol Airport, Jan Dellaertplein, Schiphol,...  52.309523   4.762181\n",
       "3  London City Airport, Parker Street, Silvertown...  51.504266   0.047477\n",
       "4  Manchester Airport, Rivermead Avenue, Timperle...  53.350342  -2.280369"
      ]
     },
     "execution_count": 19,
     "metadata": {},
     "output_type": "execute_result"
    }
   ],
   "source": [
    "airport_locs"
   ]
  },
  {
   "cell_type": "markdown",
   "metadata": {},
   "source": [
    "### Most Common Airports and the Airlines that serve them\n",
    "From here on I need to look at the most common locations, the most common airlines and the most\n"
   ]
  },
  {
   "cell_type": "code",
   "execution_count": null,
   "metadata": {},
   "outputs": [],
   "source": [
    "most_popular_airlines_airport = simplified_data.groupby('Destination Airport')\n",
    "Total_Airports = most_popular_airlines_airport.sum()\n",
    "Total_Airports = Total_Airports.sort_values('Airline Name', ascending = False)\n",
    "#most_pop_airlines_for_airport = Total_Airports.plot(kind='bar')\n",
    "#for key, item in most_popular_airlines_airport:\n",
    " #   print(most_popular_airlines_airport.get_group(key), \"\\n\\n\")\n",
    "airport = list_of_airports[2]\n",
    "airlines_at_airport = most_popular_airlines_airport.get_group(airport)\n",
    "plot = airlines_at_airport['Airline Name'].value_counts().plot(kind='bar', \n",
    "                                                        title='Biggest Airlines to Amsterdam Schiphol', rot=0)\n",
    "plot.set_xlabel(\"Airlines\")\n",
    "plot.set_ylabel(\"Number of Flights\")"
   ]
  },
  {
   "cell_type": "markdown",
   "metadata": {},
   "source": [
    "FIXME talk about how running the API at certain times has an effect and how some of the flights still say scheduled mainly because they are american flights and by the time they land and then the API updates with information, the flight will not be updated or landed yet\n",
    "\n",
    "In the section below, I will look at the busiest terminals in a day followed by the most common times that these terminals are accessed"
   ]
  },
  {
   "cell_type": "code",
   "execution_count": null,
   "metadata": {},
   "outputs": [],
   "source": [
    "terminal_data = clean_DUB_data_1[['departure.scheduled','flight_date', 'departure.terminal', 'arrival.airport',\\\n",
    "                                  'arrival.iata', 'airline.name', 'airline.iata']]"
   ]
  },
  {
   "cell_type": "code",
   "execution_count": null,
   "metadata": {},
   "outputs": [],
   "source": [
    "#This just checks that none of the data is missing for terminal etc\n",
    "terminal_data.isnull().sum()"
   ]
  },
  {
   "cell_type": "code",
   "execution_count": null,
   "metadata": {},
   "outputs": [],
   "source": [
    "terminals = terminal_data['departure.terminal'].value_counts()\n",
    "#On the 5th of March 2020\n",
    "print(\"Number of Terminal 1 Departures: %d flights\\nNumber of Terminal 2 Departures: %d flights\" \n",
    "      % (terminals.iloc[0], terminals.iloc[1]))"
   ]
  },
  {
   "cell_type": "markdown",
   "metadata": {},
   "source": [
    "From here, I need to see what airlines depart from which terminals and then see the busier times such as how many flights leave between each time from each terminal. I could group them between each time like a column for 0-6am, 6-12pm, 12-6pm  and then 6-12am. "
   ]
  },
  {
   "cell_type": "code",
   "execution_count": null,
   "metadata": {},
   "outputs": [],
   "source": [
    "#Needs to be given in format of the following\n",
    "#FIXME this will need to be changed for flight_date\n",
    "\n",
    "midnight, six_am, midday, six_pm = day_time_data(terminal_data)\n",
    "\n",
    "flights_times = pd.DataFrame({'Flights': [midnight, six_am,midday, six_pm]}, \\\n",
    "                             index = ['12am-6am', '6am-12pm', '12pm-6pm', '6pm-12am'])\n",
    "\n",
    "plot = flights_times.plot(kind='bar', title='Distribution of Departures throughout the day', rot=0)\n",
    "plot.set_xlabel(\"Departure Time Ranges\")\n",
    "plot.set_ylabel(\"Number of Flights\")\n"
   ]
  },
  {
   "cell_type": "code",
   "execution_count": null,
   "metadata": {},
   "outputs": [],
   "source": [
    "#Verifying the total number of flights is the same\n",
    "flights_times.sum()"
   ]
  },
  {
   "cell_type": "code",
   "execution_count": null,
   "metadata": {},
   "outputs": [],
   "source": [
    "flights_times"
   ]
  },
  {
   "cell_type": "markdown",
   "metadata": {},
   "source": [
    "FIXME Next Step to do is to see what airlines take off between each time, so we will do the top 5 airlines as the x ticks and then have the 4 different plots for the different times that they take off at"
   ]
  },
  {
   "cell_type": "code",
   "execution_count": null,
   "metadata": {},
   "outputs": [],
   "source": [
    "#Get the most common airlines first\n",
    "top_airlines = terminal_data[\"airline.name\"].value_counts()[0:2]\n",
    "top_airlines  = top_airlines.index.tolist()\n",
    "top_airlines\n",
    "#Now that I have the top airlines, I can see when they are using each time"
   ]
  },
  {
   "cell_type": "code",
   "execution_count": null,
   "metadata": {},
   "outputs": [],
   "source": [
    "#terminal_data[flights_1[flights_1 == (True)]]\n",
    "#I now need to get the airlines for thi\n",
    "########\n",
    "################################################################################################\n",
    "################################################################################################\n",
    "################################################################################################\n",
    "# FIXXXXMMMEEEEEE MAKE THIS WAY SHORTER AS IT IS OBNOXIOUS TO LOOK AT. FIX WHEN I AM DONE\n",
    "################################################################################################\n",
    "################################################################################################\n",
    "midnight_6am = ['2020-03-05T00:01:00+00:00', '2020-03-05T06:00:00+00:00']\n",
    "six_12pm = ['2020-03-05T06:01:00+00:00', '2020-03-05T12:00:00+00:00']\n",
    "midday_6pm = ['2020-03-05T12:01:00+00:00', '2020-03-05T18:00:00+00:00']\n",
    "six_12am = ['2020-03-05T18:01:00+00:00', '2020-03-05T23:59:00+00:00']\n",
    "\n",
    "flights_1 = terminal_data['departure.scheduled'].between(midnight_6am[0], midnight_6am[1], inclusive=True)\n",
    "flights_2 = terminal_data['departure.scheduled'].between(six_12pm[0], six_12pm[1], inclusive=True)\n",
    "flights_3 = terminal_data['departure.scheduled'].between(midday_6pm[0], midday_6pm[1], inclusive=True)\n",
    "flights_4 = terminal_data['departure.scheduled'].between(six_12am[0], six_12am[1], inclusive=True)\n",
    "\n",
    "#These are the indexes of the flights that leave inside of these times\n",
    "midnight_flights = (flights_1[flights_1 == (True)]).index.tolist()\n",
    "six_am_flights = (flights_2[flights_2 == (True)]).index.tolist()\n",
    "midday_flights = (flights_3[flights_3 == (True)]).index.tolist()\n",
    "six_pm_flights = (flights_4[flights_4 == (True)]).index.tolist()\n",
    "\n",
    "#FIXME , look for a better way to do this\n",
    "airline_1_12am = terminal_data.iloc[midnight_flights]['airline.name'].iloc[0:].tolist().count(top_airlines[0])\n",
    "airline_2_12am = terminal_data.iloc[midnight_flights]['airline.name'].iloc[0:].tolist().count(top_airlines[1])\n",
    "airline_1_6am = terminal_data.iloc[six_am_flights]['airline.name'].iloc[0:].tolist().count(top_airlines[0])\n",
    "airline_2_6am = terminal_data.iloc[six_am_flights]['airline.name'].iloc[0:].tolist().count(top_airlines[1])\n",
    "airline_1_12pm = terminal_data.iloc[midday_flights]['airline.name'].iloc[0:].tolist().count(top_airlines[0])\n",
    "airline_2_12pm = terminal_data.iloc[midday_flights]['airline.name'].iloc[0:].tolist().count(top_airlines[1])\n",
    "airline_1_6pm = terminal_data.iloc[six_pm_flights]['airline.name'].iloc[0:].tolist().count(top_airlines[0])\n",
    "airline_2_6pm = terminal_data.iloc[six_pm_flights]['airline.name'].iloc[0:].tolist().count(top_airlines[1])\n",
    "\n",
    "airline_times = pd.DataFrame({'12am-6am': [airline_1_12am, airline_2_12am], '6am-12pm': [airline_1_6am, airline_2_6am],\n",
    "                             '12pm-6pm': [airline_1_12pm, airline_2_12pm], '6pm-12am': [airline_1_6pm, airline_2_6pm]}, \n",
    "                             index = ['Ryanair', 'Aer Lingus'])\n",
    "plot = airline_times.plot(kind='bar', title = 'Distribution of Departures throughout a day (Ryanair/Aer Lingus)', rot=0)\n",
    "plot.set_xlabel(\"Top 2 Airlines\")\n",
    "plot.set_ylabel(\"Number of Flights\")"
   ]
  },
  {
   "cell_type": "code",
   "execution_count": null,
   "metadata": {},
   "outputs": [],
   "source": [
    "airline_times.describe()\n",
    "#FIXME"
   ]
  },
  {
   "cell_type": "code",
   "execution_count": null,
   "metadata": {},
   "outputs": [],
   "source": [
    "airline_times"
   ]
  },
  {
   "cell_type": "code",
   "execution_count": null,
   "metadata": {},
   "outputs": [],
   "source": [
    "terminal_1_12am = terminal_data.iloc[midnight_flights]['departure.terminal'].iloc[0:].tolist().count('1')\n",
    "terminal_2_12am = terminal_data.iloc[midnight_flights]['departure.terminal'].iloc[0:].tolist().count('2')\n",
    "terminal_1_6am = terminal_data.iloc[six_am_flights]['departure.terminal'].iloc[0:].tolist().count('1')\n",
    "terminal_2_6am = terminal_data.iloc[six_am_flights]['departure.terminal'].iloc[0:].tolist().count('2')\n",
    "terminal_1_12pm = terminal_data.iloc[midday_flights]['departure.terminal'].iloc[0:].tolist().count('1')\n",
    "terminal_2_12pm = terminal_data.iloc[midday_flights]['departure.terminal'].iloc[0:].tolist().count('2')\n",
    "terminal_1_6pm = terminal_data.iloc[six_pm_flights]['departure.terminal'].iloc[0:].tolist().count('1')\n",
    "terminal_2_6pm = terminal_data.iloc[six_pm_flights]['departure.terminal'].iloc[0:].tolist().count('2')\n",
    "\n",
    "\n",
    "terminal_times = pd.DataFrame({'12am-6am': [terminal_1_12am, terminal_2_12am], '6am-12pm': [terminal_1_6am, terminal_2_6am],\n",
    "                             '12pm-6pm': [terminal_1_12pm, terminal_2_12pm], '6pm-12am': [terminal_1_6pm, terminal_2_6pm]}, \n",
    "                              index = ['Terminal 1', 'Terminal 2'])\n",
    "plot = terminal_times.plot(kind='bar', title = 'Distribution of Departures between Terminals (DUB/EIDW)', rot=0)\n",
    "plot.set_xlabel(\"Terminals\")\n",
    "plot.set_ylabel(\"Number of Flights\")"
   ]
  },
  {
   "cell_type": "markdown",
   "metadata": {},
   "source": [
    "FIXME, FIND THE CORERLATION OR PLOT THE CORRELATION BETWEEN THE TERMINAL 1 and TERMINAL 2 data\n",
    "\n",
    "\n",
    "Well now that I have found which are the busiest terminals,\n",
    "Now i can do the legacy carriers in the US"
   ]
  },
  {
   "cell_type": "markdown",
   "metadata": {},
   "source": [
    "### Legacy carriers in the USA\n",
    "A common argument seen in the media is which is the most reliable airline of the 3 main US legacy carriers: United Airlines (UA), American Airlines (AA) and Delta Airlines (DL). One of the most competitive routes in the US for these 3 airlines is the perennial New York to Los Angeles route on which the airport slots are most expensive and cater mainly to business travelers between the 2 largest cities in the US who need reliability, consistency and a high frequency of flights per day. \n",
    "\n",
    "As a result, I will gather data for one week between New York and LA for the 3 legacy carriers as well as the young competitor, JetBlue. \n",
    "This involved taking data for flights that had a flight status of 'landed' according to the API between New York JFK(for American, Delta & JetBlue) and Newark Liberty Intl. (for United) to LAX. \n",
    "\n",
    "I will be able to study the frequency of the flights, the times at which these flights are served and how reliable they are in terms of on-time departures out of New York, especially the morning flights for business travelers.\n",
    "I collected all of the departure data for these airlines between the 2nd and 6th of March 2020 inclusive.\n"
   ]
  },
  {
   "cell_type": "code",
   "execution_count": null,
   "metadata": {},
   "outputs": [],
   "source": [
    "us_legacy_carriers = combine_data_frames('NY_to_LA_', 'US_legacy_carriers_NYLA.json')\n",
    "with open('US_legacy_carriers_NYLA.json') as us_legacy_file:\n",
    "    data = json.load(us_legacy_file)\n",
    "    #Normalizing the data\n",
    "    normalized_data = json_normalize(data)\n",
    "    us_legacy_carriers = pd.DataFrame(normalized_data)"
   ]
  },
  {
   "cell_type": "markdown",
   "metadata": {},
   "source": [
    "I then need to check for codeshares and get rid of them\n"
   ]
  },
  {
   "cell_type": "code",
   "execution_count": null,
   "metadata": {},
   "outputs": [],
   "source": [
    "print('Current Number of Flights between New York and LA: %d' % (us_legacy_carriers.shape[0]))"
   ]
  },
  {
   "cell_type": "code",
   "execution_count": null,
   "metadata": {},
   "outputs": [],
   "source": [
    "us_legacy_carriers = codeshare_flight_deletion(us_legacy_carriers)\n",
    "us_legacy_carriers.reset_index(drop=True, inplace=True)"
   ]
  },
  {
   "cell_type": "code",
   "execution_count": null,
   "metadata": {},
   "outputs": [],
   "source": [
    "print('Number of Flights after codeshares removed: %d' % (us_legacy_carriers.shape[0]))"
   ]
  },
  {
   "cell_type": "markdown",
   "metadata": {},
   "source": [
    "I will first check whether any of the airline names are null before checking to see what airlines are listed as flying between the airports and I will remove the ones I do not need"
   ]
  },
  {
   "cell_type": "code",
   "execution_count": null,
   "metadata": {},
   "outputs": [],
   "source": [
    "us_legacy_carriers['airline.name'].isnull().sum()"
   ]
  },
  {
   "cell_type": "code",
   "execution_count": null,
   "metadata": {},
   "outputs": [],
   "source": [
    "us_legacy_carriers['airline.name'].value_counts()"
   ]
  },
  {
   "cell_type": "markdown",
   "metadata": {},
   "source": [
    "From here, I can see that American Airlines is the largest carrier between the 3 legacy carriers by more than 6 flights per week than Delta and 9 flights more than United. JetBlue, being the younger competitor, has only one flight less per week on this important and expensive route and hence, I will need to include it in my analysis as it is very significant. "
   ]
  },
  {
   "cell_type": "code",
   "execution_count": null,
   "metadata": {},
   "outputs": [],
   "source": [
    "chosen_airlines = us_legacy_carriers[['departure.scheduled','flight_date', 'airline.name', 'departure.airport', 'departure.delay', 'arrival.delay']]"
   ]
  },
  {
   "cell_type": "markdown",
   "metadata": {},
   "source": [
    "As I can see below, I have access to all of the flight's in one business week, their dates, times, departure airport and their delays."
   ]
  },
  {
   "cell_type": "code",
   "execution_count": null,
   "metadata": {},
   "outputs": [],
   "source": [
    "chosen_airlines"
   ]
  },
  {
   "cell_type": "code",
   "execution_count": null,
   "metadata": {},
   "outputs": [],
   "source": [
    "#Can sort the values in chronological order\n",
    "#Ignore index doesnt work for some reason\n",
    "\n",
    "chosen_airlines = chosen_airlines.sort_values(by='departure.scheduled', ascending=True)\n",
    "chosen_airlines.reset_index(drop=True,inplace=True)\n",
    "chosen_airlines\n"
   ]
  },
  {
   "cell_type": "markdown",
   "metadata": {},
   "source": [
    "Now that I have the flights for the week, I can filter out Alaska Airlines"
   ]
  },
  {
   "cell_type": "code",
   "execution_count": null,
   "metadata": {},
   "outputs": [],
   "source": [
    "us_airlines_remove = chosen_airlines[(chosen_airlines['airline.name'] == 'Qantas') | \\\n",
    "                                     (chosen_airlines['airline.name'] == 'FedEx') | \\\n",
    "                                     (chosen_airlines['airline.name'] == 'Alaska Airlines')].index\n",
    "# Delete these row indexes from dataFrame\n",
    "chosen_airlines.drop(us_airlines_remove , inplace=True)\n",
    "chosen_airlines.reset_index(drop=True, inplace=True)\n",
    "chosen_airlines"
   ]
  },
  {
   "cell_type": "markdown",
   "metadata": {},
   "source": [
    "From here, I can examine the distribution of flights throughout the week at different times. I will use the x axis as the days and the y axis as the number of flights"
   ]
  },
  {
   "cell_type": "code",
   "execution_count": null,
   "metadata": {},
   "outputs": [],
   "source": [
    "#FIXME implement in a function\n",
    "monday    = chosen_airlines[chosen_airlines['flight_date'] == '2020-03-02']\n",
    "tuesday   = chosen_airlines[chosen_airlines['flight_date'] == '2020-03-03']\n",
    "wednesday = chosen_airlines[chosen_airlines['flight_date'] == '2020-03-04']\n",
    "thursday  = chosen_airlines[chosen_airlines['flight_date'] == '2020-03-05']\n",
    "friday    = chosen_airlines[chosen_airlines['flight_date'] == '2020-03-06']\n",
    "\n",
    "mon_12am, mon_6am, mon_12pm, mon_6pm = day_time_data(monday)\n",
    "tue_12am, tues_6am, tues_12pm, tues_6pm = day_time_data(tuesday)\n",
    "wed_12am, wed_6am, wed_12pm, wed_6pm = day_time_data(wednesday)\n",
    "thur_12am, thur_6am, thur_12pm, thur_6pm = day_time_data(thursday)\n",
    "fri_12am, fri_6am, fri_12pm, fri_6pm = day_time_data(friday)\n",
    "\n",
    "\n",
    "#What i want to do is print each day to a data frame like below but for each day, there is\n",
    "midnight_df = [mon_12am, tue_12am, wed_12am, thur_12am, fri_12am]\n",
    "six_am_df = [mon_6am, tues_6am, wed_6am, thur_6am, fri_6am]\n",
    "midday_df = [mon_12pm, tues_12pm, wed_12pm, thur_12pm, fri_12pm]\n",
    "six_pm_df = [mon_6pm, tues_6pm, wed_6pm, thur_6pm, fri_6pm]\n",
    "\n",
    "NY_to_LA_times = pd.DataFrame({'12am-6am': midnight_df, '6am-12pm': six_am_df, \\\n",
    "                               '12pm-6pm': midday_df, '6pm-12am': six_pm_df}, \\\n",
    "                              index = ['Monday', 'Tuesday', 'Wednesday', 'Thursday', 'Friday'])\n",
    "\n",
    "NY_plot = NY_to_LA_times.plot(kind='bar', title = 'Departure Times for week ending 6th MAR 2020 for NY to LA',\\\n",
    "                           rot=0)\n",
    "NY_plot.set_xlabel(\"Days of the Week\")\n",
    "NY_plot.set_ylabel(\"Number of Flights\")\n",
    "\n",
    "\n"
   ]
  },
  {
   "cell_type": "markdown",
   "metadata": {},
   "source": [
    "As we can see above, the flight data for a lot of the afternoon flights is missing. This could be due to the API not refreshing in time and as a result, it loses the data or perhaps the API no longer has access to the aircraft's inflight location for safety and security reasons which is the case in the USA. A lot of these API's and websites like FlightRadar24 use ADS-B receivers where the aircraft periodically broadcasts its location via satellite. These transponders are sometimes turned off on long journeys. \n",
    "Hence, I will now repeat the analysis above but for all flights regardless of their 'flight_status' such as 'active' or 'scheduled'. I will need to filter out cancelled flights. \n",
    "\n",
    "As a result below, I will gather the data for any possible flight status which will be saved to a file"
   ]
  },
  {
   "cell_type": "code",
   "execution_count": null,
   "metadata": {},
   "outputs": [],
   "source": [
    "all_legacy_carrier_flights = combine_data_frames('NY_all_LA_', 'NY_LA_all_flight_statuses.json')\n",
    "with open('NY_LA_all_flight_statuses.json') as us_legacy_new_file:\n",
    "    data = json.load(us_legacy_new_file)\n",
    "    #Normalizing the data\n",
    "    normalized_data = json_normalize(data)\n",
    "    all_legacy_carrier_flights = pd.DataFrame(normalized_data)\n"
   ]
  },
  {
   "cell_type": "code",
   "execution_count": null,
   "metadata": {},
   "outputs": [],
   "source": [
    "print('Total Number of Flights gathered: %d' %(all_legacy_carrier_flights.shape[0]))"
   ]
  },
  {
   "cell_type": "code",
   "execution_count": null,
   "metadata": {},
   "outputs": [],
   "source": [
    "#From here, I will now need to clean the codeshares\n",
    "all_legacy_carrier_flights = codeshare_flight_deletion(all_legacy_carrier_flights)\n",
    "all_legacy_carrier_flights.reset_index(drop=True, inplace=True)"
   ]
  },
  {
   "cell_type": "code",
   "execution_count": null,
   "metadata": {},
   "outputs": [],
   "source": [
    "#From here I can print the final number of flights\n",
    "print('Number of Flights after cleaning: %d' %(all_legacy_carrier_flights.shape[0]))"
   ]
  },
  {
   "cell_type": "code",
   "execution_count": null,
   "metadata": {},
   "outputs": [],
   "source": [
    "all_legacy_carrier_flights['airline.name'].value_counts()"
   ]
  },
  {
   "cell_type": "code",
   "execution_count": null,
   "metadata": {},
   "outputs": [],
   "source": [
    "airlines = all_legacy_carrier_flights[['departure.scheduled','flight_date', 'airline.name',\\\n",
    "                                       'departure.airport', 'departure.delay', 'arrival.delay', 'flight_status']]\n",
    "airlines"
   ]
  },
  {
   "cell_type": "code",
   "execution_count": null,
   "metadata": {},
   "outputs": [],
   "source": [
    "#Sorting the flights\n",
    "airlines = airlines.sort_values(by='departure.scheduled', ascending=True)\n",
    "airlines.reset_index(drop=True,inplace=True)\n",
    "airlines"
   ]
  },
  {
   "cell_type": "code",
   "execution_count": null,
   "metadata": {},
   "outputs": [],
   "source": [
    "# Removing Qantas, FedEx and Alaska\n",
    "us_airlines_remove = airlines[(airlines['airline.name'] == 'Qantas') | \\\n",
    "                                     (airlines['airline.name'] == 'FedEx') | \\\n",
    "                                     (airlines['airline.name'] == 'Alaska Airlines')].index\n",
    "airlines.drop(us_airlines_remove , inplace=True)\n",
    "airlines.reset_index(drop=True, inplace=True)\n",
    "airlines"
   ]
  },
  {
   "cell_type": "code",
   "execution_count": null,
   "metadata": {},
   "outputs": [],
   "source": [
    "#Show that the airlines are gone\n",
    "airlines['airline.name'].value_counts()"
   ]
  },
  {
   "cell_type": "code",
   "execution_count": null,
   "metadata": {},
   "outputs": [],
   "source": [
    "monday    = airlines[airlines['flight_date'] == '2020-03-02']\n",
    "tuesday   = airlines[airlines['flight_date'] == '2020-03-03']\n",
    "wednesday = airlines[airlines['flight_date'] == '2020-03-04']\n",
    "thursday  = airlines[airlines['flight_date'] == '2020-03-05']\n",
    "friday    = airlines[airlines['flight_date'] == '2020-03-06']\n",
    "\n",
    "mon_12am, mon_6am, mon_12pm, mon_6pm = day_time_data(monday)\n",
    "tue_12am, tues_6am, tues_12pm, tues_6pm = day_time_data(tuesday)\n",
    "wed_12am, wed_6am, wed_12pm, wed_6pm = day_time_data(wednesday)\n",
    "thur_12am, thur_6am, thur_12pm, thur_6pm = day_time_data(thursday)\n",
    "fri_12am, fri_6am, fri_12pm, fri_6pm = day_time_data(friday)\n",
    "\n",
    "\n",
    "#What i want to do is print each day to a data frame like below but for each day, there is\n",
    "midnight_df = [mon_12am, tue_12am, wed_12am, thur_12am, fri_12am]\n",
    "six_am_df = [mon_6am, tues_6am, wed_6am, thur_6am, fri_6am]\n",
    "midday_df = [mon_12pm, tues_12pm, wed_12pm, thur_12pm, fri_12pm]\n",
    "six_pm_df = [mon_6pm, tues_6pm, wed_6pm, thur_6pm, fri_6pm]\n",
    "\n",
    "NY_to_LA_times = pd.DataFrame({'12am-6am': midnight_df, '6am-12pm': six_am_df, \\\n",
    "                               '12pm-6pm': midday_df, '6pm-12am': six_pm_df}, \\\n",
    "                              index = ['Monday', 'Tuesday', 'Wednesday', 'Thursday', 'Friday'])\n",
    "\n",
    "NY_plot = NY_to_LA_times.plot(kind='bar', title = 'Departure Times for week ending 6th MAR 2020 for NY to LA',\\\n",
    "                           rot=0)\n",
    "NY_plot.set_xlabel(\"Days of the Week\")\n",
    "NY_plot.set_ylabel(\"Number of Flights\")\n"
   ]
  },
  {
   "cell_type": "markdown",
   "metadata": {},
   "source": [
    "As we can see now, the code has produce more of the flights and we can see that the total number of flights per week has been obtained."
   ]
  },
  {
   "cell_type": "code",
   "execution_count": null,
   "metadata": {},
   "outputs": [],
   "source": [
    "#FIXME i will now examine the different airlines and their flights per week\n",
    "data = airlines.groupby(['airline.name', 'flight_date'])\n",
    "ual_mon = data.get_group(('United Airlines', '2020-03-02'))\n",
    "ual_tue = data.get_group(('United Airlines', '2020-03-03'))\n",
    "ual_wed = data.get_group(('United Airlines', '2020-03-04'))\n",
    "ual_thur = data.get_group(('United Airlines', '2020-03-05'))\n",
    "ual_fri = data.get_group(('United Airlines', '2020-03-06'))\n",
    "united_week = [ual_mon.shape[0], ual_tue.shape[0], ual_wed.shape[0], ual_thur.shape[0], ual_fri.shape[0]]\n",
    "\n",
    "#FIXME THINK ABOUT SPLITTING THIS UP INTO A NUMBER OF VALUES\n",
    "aa_mon = data.get_group(('American Airlines', '2020-03-02'))\n",
    "aa_tue = data.get_group(('American Airlines', '2020-03-03'))\n",
    "aa_wed = data.get_group(('American Airlines', '2020-03-04'))\n",
    "aa_thur = data.get_group(('American Airlines', '2020-03-05'))\n",
    "aa_fri = data.get_group(('American Airlines', '2020-03-06'))\n",
    "american_week = [aa_mon.shape[0], aa_tue.shape[0], aa_wed.shape[0], aa_thur.shape[0], aa_fri.shape[0]]\n",
    "\n",
    "delta_mon = data.get_group(('Delta Air Lines', '2020-03-02'))\n",
    "delta_tue = data.get_group(('Delta Air Lines', '2020-03-03'))\n",
    "delta_wed = data.get_group(('Delta Air Lines', '2020-03-04'))\n",
    "delta_thur = data.get_group(('Delta Air Lines', '2020-03-05'))\n",
    "delta_fri = data.get_group(('Delta Air Lines', '2020-03-06'))\n",
    "delta_week = [delta_mon.shape[0], delta_tue.shape[0], delta_wed.shape[0], delta_thur.shape[0], delta_fri.shape[0]]\n",
    "\n",
    "jetblue_mon = data.get_group(('JetBlue Airways', '2020-03-02'))\n",
    "jetblue_tue = data.get_group(('JetBlue Airways', '2020-03-03'))\n",
    "jetblue_wed = data.get_group(('JetBlue Airways', '2020-03-04'))\n",
    "jetblue_thur = data.get_group(('JetBlue Airways', '2020-03-05'))\n",
    "jetblue_fri = data.get_group(('JetBlue Airways', '2020-03-06'))\n",
    "jetblue_week = [jetblue_mon.shape[0], jetblue_tue.shape[0], jetblue_wed.shape[0], jetblue_thur.shape[0], jetblue_fri.shape[0]]\n",
    "\n",
    "flights_week = pd.DataFrame({'United': united_week, 'American Airlines': american_week, \\\n",
    "                               'Delta': delta_week, 'JetBlue': jetblue_week}, \\\n",
    "                              index = ['Monday', 'Tuesday', 'Wednesday', 'Thursday', 'Friday'])\n",
    "\n",
    "\n",
    "week_plot = flights_week.plot(kind='bar', title = 'NY to LA flights per day between each airline', rot=0)\n",
    "week_plot.set_xlabel(\"Days of the Week\")\n",
    "week_plot.set_ylabel(\"Number of Flights\")\n",
    "\n"
   ]
  },
  {
   "cell_type": "code",
   "execution_count": null,
   "metadata": {},
   "outputs": [],
   "source": [
    "#FIXME talk about how the data for monday was wrong\n",
    "#Next thing to do is to take all of the data and plot an individual airlines delays"
   ]
  },
  {
   "cell_type": "code",
   "execution_count": null,
   "metadata": {},
   "outputs": [],
   "source": [
    "united_delays = [ual_mon['departure.delay'].count(), ual_tue['departure.delay'].count(), ual_wed['departure.delay'].count(), \\\n",
    "                ual_thur['departure.delay'].count(), ual_fri['departure.delay'].count()]\n",
    "\n",
    "american_delays = [aa_mon['departure.delay'].count(), aa_tue['departure.delay'].count(), aa_wed['departure.delay'].count(), \\\n",
    "                aa_thur['departure.delay'].count(), aa_fri['departure.delay'].count()]\n",
    "\n",
    "delta_delays = [delta_mon['departure.delay'].count(), delta_tue['departure.delay'].count(), delta_wed['departure.delay'].count(), \\\n",
    "                delta_thur['departure.delay'].count(), delta_fri['departure.delay'].count()]\n",
    "\n",
    "jetblue_delays = [jetblue_mon['departure.delay'].count(), jetblue_tue['departure.delay'].count(), \\\n",
    "                  jetblue_wed['departure.delay'].count(), jetblue_thur['departure.delay'].count(),\\\n",
    "                  jetblue_fri['departure.delay'].count()]\n",
    "\n",
    "delays_week = pd.DataFrame({'United': united_delays, 'American Airlines': american_delays, \\\n",
    "                               'Delta': delta_delays, 'JetBlue': jetblue_delays}, \\\n",
    "                              index = ['Monday', 'Tuesday', 'Wednesday', 'Thursday', 'Friday'])\n",
    "\n",
    "\n",
    "delays_plot = delays_week.plot(kind='bar', title = 'Number of delays between each airline', rot=0)\n",
    "delays_plot.set_xlabel(\"Days of the Week\")\n",
    "delays_plot.set_ylabel(\"Number of Delays per day\")"
   ]
  },
  {
   "cell_type": "markdown",
   "metadata": {},
   "source": [
    "FIXME Comment on the sudden spike in values on tuesday vs wednesday"
   ]
  },
  {
   "cell_type": "code",
   "execution_count": null,
   "metadata": {},
   "outputs": [],
   "source": [
    "delays_week"
   ]
  },
  {
   "cell_type": "code",
   "execution_count": null,
   "metadata": {},
   "outputs": [],
   "source": [
    "delays_week.describe()\n",
    "#However, we cant make conclusive evidence about this, because a lot of the flights are either scheduled, active or landed \n",
    "#thus i need to filter for only the "
   ]
  },
  {
   "cell_type": "code",
   "execution_count": null,
   "metadata": {},
   "outputs": [],
   "source": [
    "#I can examine the delays for say delta on Monday. It all says Nan but how about I look at the status\n",
    "delta_mon['departure.delay']"
   ]
  },
  {
   "cell_type": "code",
   "execution_count": null,
   "metadata": {},
   "outputs": [],
   "source": [
    "#Then examine the flight statuses\n",
    "delta_mon['flight_status']\n"
   ]
  },
  {
   "cell_type": "code",
   "execution_count": null,
   "metadata": {},
   "outputs": [],
   "source": [
    "#To learn more about these delays, I will make a data frame out of each of them\n",
    "\n",
    "united = pd.DataFrame({'Monday': ual_mon['departure.delay'], 'Tuesday': ual_tue['departure.delay'], \\\n",
    "                               'Wednesday': ual_wed['departure.delay'], 'Thursday': ual_thur['departure.delay'],\\\n",
    "                            'Friday': ual_fri['departure.delay']})\n",
    "\n",
    "united_days = pd.concat([ual_mon, ual_tue, ual_wed, ual_thur, ual_fri])\n",
    "X = united_days['flight_date']\n",
    "Y = united_days['departure.delay']\n",
    "united_plot = plt.scatter(X, Y)\n",
    "plt.xlabel(\"Days\")\n",
    "plt.ylabel(\"Duration of Delay\")\n",
    "plt.show()\n",
    "united.describe()"
   ]
  },
  {
   "cell_type": "code",
   "execution_count": null,
   "metadata": {},
   "outputs": [],
   "source": [
    "american = pd.DataFrame({'Monday': aa_mon['departure.delay'], 'Tuesday': aa_tue['departure.delay'], \\\n",
    "                               'Wednesday': aa_wed['departure.delay'], 'Thursday': aa_thur['departure.delay'],\\\n",
    "                            'Friday': aa_fri['departure.delay']})\n",
    "aa_days = pd.concat([aa_mon, aa_tue, aa_wed, aa_thur, aa_fri])\n",
    "X = aa_days['flight_date']\n",
    "Y = aa_days['departure.delay']\n",
    "aa_plot = plt.scatter(X, Y)\n",
    "plt.xlabel(\"Days\")\n",
    "plt.ylabel(\"Duration of Delay\")\n",
    "plt.show()\n",
    "\n",
    "american.describe()\n"
   ]
  },
  {
   "cell_type": "code",
   "execution_count": null,
   "metadata": {},
   "outputs": [],
   "source": [
    "delta = pd.DataFrame({'Monday': delta_mon['departure.delay'], 'Tuesday': delta_tue['departure.delay'], \\\n",
    "                               'Wednesday': delta_wed['departure.delay'], 'Thursday': delta_thur['departure.delay'],\\\n",
    "                            'Friday': delta_fri['departure.delay']})\n",
    "\n",
    "delta_days = pd.concat([delta_mon, delta_tue, delta_wed, delta_thur, delta_fri])\n",
    "X = delta_days['flight_date']\n",
    "Y = delta_days['departure.delay']\n",
    "delta_plot = plt.scatter(X, Y)\n",
    "plt.xlabel(\"Days\")\n",
    "plt.ylabel(\"Duration of Delay\")\n",
    "plt.show()\n",
    "\n",
    "delta.describe()\n"
   ]
  },
  {
   "cell_type": "code",
   "execution_count": null,
   "metadata": {},
   "outputs": [],
   "source": [
    "jetblue = pd.DataFrame({'Monday': jetblue_mon['departure.delay'], 'Tuesday': jetblue_tue['departure.delay'], \\\n",
    "                               'Wednesday': jetblue_wed['departure.delay'], 'Thursday': jetblue_thur['departure.delay'],\\\n",
    "                            'Friday': jetblue_fri['departure.delay']})\n",
    "\n",
    "\n",
    "jetblue_days = pd.concat([jetblue_mon, jetblue_tue, jetblue_wed, jetblue_thur, jetblue_fri])\n",
    "X = jetblue_days['flight_date']\n",
    "Y = jetblue_days['departure.delay']\n",
    "jetblue_plot = plt.scatter(X, Y)\n",
    "plt.xlabel(\"Days\")\n",
    "plt.ylabel(\"Duration of Delay\")\n",
    "plt.show()\n",
    "\n",
    "\n",
    "jetblue.describe()"
   ]
  },
  {
   "cell_type": "code",
   "execution_count": null,
   "metadata": {},
   "outputs": [],
   "source": [
    "total_delays = pd.concat([united, american, delta, jetblue])\n",
    "total_delays\n",
    "total_delays.describe()"
   ]
  },
  {
   "cell_type": "markdown",
   "metadata": {},
   "source": [
    "Next thing to do is to do the most popular airlines each week in terms of departures and then do their delays. \n",
    "So do a similar plot to above but instead of times, do airlines"
   ]
  },
  {
   "cell_type": "code",
   "execution_count": null,
   "metadata": {},
   "outputs": [],
   "source": [
    "#64ph is 34kts which is 1kt greater than the max crosswind landing speed of a Boeing 737 on a dry runway "
   ]
  },
  {
   "cell_type": "markdown",
   "metadata": {},
   "source": [
    "## Using a Second API: WorldWeatherOnline\n",
    "As we have seen by the above plots regarding the delays from New York to Los Angeles, there was a sudden spike in the number of delays on the Tuesday of the week (3rd March 2020). To see if these delays had any correlation with the weather in terms of high winds or rain. As we all know, weather is the number one cause of delays for flights ranging from blizzards, high winds or storms. I will use the WorldWeatherOnline Weather API where I was given a trial until the end of April. \n",
    "In terms of data, I have already mentioned that the historical data is forecast data. This suits me fine as I can filter by hourly, 3-hourly or daily forecast data to make conclusions about the flights during that day.\n",
    "In terms of comparisons, I will use it initially with the US flight data from New York to Los Angeles and then I will use it with the data originally gathered from Dublin Airport for calm and stormy days. For example, I managed to obtain data on the 29th of February for Dublin Airport which is the day that Storm Jorge hit Ireland. "
   ]
  },
  {
   "cell_type": "code",
   "execution_count": null,
   "metadata": {},
   "outputs": [],
   "source": [
    "params_weather_Dublin_calm = {\n",
    "    'key': '21738a58fea04bbb88d205154202902',\n",
    "    'q': 'Dublin, Ireland',\n",
    "    'format': 'json',\n",
    "    'date': '2020-03-05',\n",
    "    'tp': '1'\n",
    "}\n",
    "#API_request_write_to_file('Newark_weather_3rdMarch_hourly','' , params_weather_Dublin_calm)"
   ]
  },
  {
   "cell_type": "markdown",
   "metadata": {},
   "source": [
    "### Dublin Airport Weather \n",
    "#### 5th March 2020\n",
    "From here, I will take the weather data gathered for the 5th of March from Dublin Airport and investigate whether the weather has anything to do with the delays on a calm day like today.\n",
    "I need to firstly take the flights for the 5th of March that have delays on them in Dublin airport and see if there is any correlation with the time of the day or the weather at that time"
   ]
  },
  {
   "cell_type": "code",
   "execution_count": null,
   "metadata": {},
   "outputs": [],
   "source": [
    "with open(\"DublinWeather_5thMarch_hourly_19-03_21_47.json\", 'r') as file:\n",
    "    data = json.load(file)\n",
    "\n",
    "weather_5th_march = json_normalize(data['data']['weather'])\n",
    "weather_5th_march_hourly = weather_5th_march['hourly']\n",
    "df_5th_march_hourly = pd.DataFrame.from_dict(weather_5th_march_hourly[0])\n",
    "df_5th_march_hourly"
   ]
  },
  {
   "cell_type": "code",
   "execution_count": null,
   "metadata": {},
   "outputs": [],
   "source": [
    "#Now that I have the dataframe, I have to clean up the data. This involves getting rid of the URL\n",
    "df_5th_march_hourly.drop(['weatherIconUrl'], inplace = True, axis = 1)\n",
    "#This now takes the weather Desc and sets the correct wording to it\n",
    "for row in range(len(df_5th_march_hourly)):\n",
    "    value = list(df_5th_march_hourly['weatherDesc'][row][0].values())[0]\n",
    "    df_5th_march_hourly.at[row, 'weatherDesc'] = value"
   ]
  },
  {
   "cell_type": "code",
   "execution_count": null,
   "metadata": {},
   "outputs": [],
   "source": [
    "#Checking that it is gone\n",
    "df_5th_march_hourly"
   ]
  },
  {
   "cell_type": "code",
   "execution_count": null,
   "metadata": {
    "scrolled": true
   },
   "outputs": [],
   "source": [
    "\n",
    "for row in range(len(df_5th_march_hourly)):\n",
    "    time_day = df_5th_march_hourly.iloc[row]['time']\n",
    "    if len(time) < 3:\n",
    "        continue\n",
    "    #Strings are immutable so need to be broken up \n",
    "    new_time = ''.join((time_day[:-2],':',time_day[-2:]))\n",
    "    df_5th_march_hourly.at[row, 'time'] = new_time\n",
    "\n",
    "df_5th_march_hourly"
   ]
  },
  {
   "cell_type": "code",
   "execution_count": null,
   "metadata": {},
   "outputs": [],
   "source": [
    "#I will now clean the data columns that I do not need temp in Fahrenheit, HeatIndexF, Dewpoints, WindChillF, uvindex, FeelsLikec or F\n",
    "df_5th_march_hourly.drop(['tempF', 'windspeedMiles', 'weatherCode', 'HeatIndexF', 'HeatIndexC', 'DewPointC',\\\n",
    "                         'DewPointF', 'WindChillC', 'WindChillF', 'FeelsLikeC', 'FeelsLikeF', 'uvIndex',\\\n",
    "                          'precipInches', 'visibilityMiles', 'pressureInches', 'WindGustMiles', 'humidity',\\\n",
    "                         'winddir16Point'], inplace=True, axis=1)"
   ]
  },
  {
   "cell_type": "code",
   "execution_count": null,
   "metadata": {
    "scrolled": true
   },
   "outputs": [],
   "source": [
    "df_5th_march_hourly"
   ]
  },
  {
   "cell_type": "markdown",
   "metadata": {},
   "source": [
    "Now I can show how the weather progresses throughout the day and see if I can analyse how the data is delayed or not later on"
   ]
  },
  {
   "cell_type": "code",
   "execution_count": null,
   "metadata": {},
   "outputs": [],
   "source": [
    "#I will plot the time of the wind and their wind gusts over the day\n",
    "weather_simple_5th = df_5th_march_hourly[['time', 'tempC', 'windspeedKmph', 'WindGustKmph']]\n",
    "weather_simple_5th = weather_simple_5th.astype({'tempC': int, 'windspeedKmph': int, 'WindGustKmph':int})\n",
    "weather_simple_5th"
   ]
  },
  {
   "cell_type": "markdown",
   "metadata": {},
   "source": [
    "Can comment on the wind speeds as above\n"
   ]
  },
  {
   "cell_type": "code",
   "execution_count": null,
   "metadata": {},
   "outputs": [],
   "source": [
    "weather_simple_5th.describe()"
   ]
  },
  {
   "cell_type": "code",
   "execution_count": null,
   "metadata": {},
   "outputs": [],
   "source": [
    "mapping = {weather_simple_5th.columns[2]:'Wind Speed',\n",
    "           weather_simple_5th.columns[3]: 'Wind Gusts'}\n",
    "\n",
    "weather_simple_5th = weather_simple_5th.rename(columns=mapping)"
   ]
  },
  {
   "cell_type": "markdown",
   "metadata": {},
   "source": [
    "The weather in Dublin in March has no effect on flight departures due to the moderate climate we have"
   ]
  },
  {
   "cell_type": "code",
   "execution_count": null,
   "metadata": {},
   "outputs": [],
   "source": [
    "weather_simple_5th = weather_simple_5th[['Wind Speed', 'Wind Gusts']]\n",
    "plt.figure()\n",
    "ax = weather_simple_5th.plot(figsize=(6,4))\n",
    "ax.set_xticks(range(0, 24, 1))\n",
    "plt.title(\"Weather Dublin Airport 5th March 2020\\n\")\n",
    "plt.ylabel(\"Windspeed (kmph)\")\n",
    "plt.xlabel(\"Time of Day (hrs)\")\n",
    "plt.show()"
   ]
  },
  {
   "cell_type": "markdown",
   "metadata": {},
   "source": [
    "Now I need to get the delay flight data for Dublin Airport"
   ]
  },
  {
   "cell_type": "code",
   "execution_count": null,
   "metadata": {
    "scrolled": true
   },
   "outputs": [],
   "source": [
    "#Need to import and then delete the ones that have scheduled atttached to them\n",
    "dublin_dept_5th_march = combine_data_frames('Dublin_calm_dept_5th', 'Dublin_calm_weather_flights.json')\n",
    "with open('Dublin_calm_weather_flights.json') as calm_flights:\n",
    "    data = json.load(calm_flights)\n",
    "    #Normalizing the data\n",
    "    normalized_data = json_normalize(data)\n",
    "    dublin_dept_5th_march = pd.DataFrame(normalized_data)\n",
    "\n",
    "\n",
    "print(\"Number of Departures gathered: %d\" % (dublin_dept_5th_march.shape[0]))"
   ]
  },
  {
   "cell_type": "code",
   "execution_count": null,
   "metadata": {},
   "outputs": [],
   "source": [
    "dublin_dept_5th_march = codeshare_flight_deletion(dublin_dept_5th_march)\n",
    "dublin_dept_5th_march.reset_index(drop=True, inplace=True)\n",
    "print(\"Number of Departures after codeshares removed: %d\" % (dublin_dept_5th_march.shape[0]))"
   ]
  },
  {
   "cell_type": "code",
   "execution_count": null,
   "metadata": {},
   "outputs": [],
   "source": [
    "dublin_dept_5th_march= dublin_dept_5th_march[dublin_dept_5th_march['flight_status'] != 'scheduled']\n",
    "dublin_dept_5th_march.reset_index(drop=True, inplace=True)\n",
    "print(\"Number of Departures after Scheduled flights removed: %d\" % (dublin_dept_5th_march.shape[0]))"
   ]
  },
  {
   "cell_type": "code",
   "execution_count": null,
   "metadata": {},
   "outputs": [],
   "source": [
    "dublin_dept_5th_march = dublin_dept_5th_march[['departure.scheduled', 'arrival.airport', 'airline.name', 'departure.delay',\\\n",
    "                                              'flight_status']]\n",
    "dublin_dept_5th_march"
   ]
  },
  {
   "cell_type": "code",
   "execution_count": null,
   "metadata": {},
   "outputs": [],
   "source": [
    "dublin_dept_5th_march.sort_values(by='departure.scheduled', ascending=True)\n",
    "dublin_dept_5th_march.reset_index(drop=True,inplace=True)\n",
    "dublin_dept_5th_march"
   ]
  },
  {
   "cell_type": "code",
   "execution_count": null,
   "metadata": {},
   "outputs": [],
   "source": [
    "#This shows that out of the 504 flights on the 5th of March leaving Dublin Airport. 116 of them were delayed.\n",
    "#This a proportion delay of 23%\n",
    "num_delays = dublin_dept_5th_march['departure.delay'].count()\n",
    "print(\"The delay rate on the 5th of March was %.2f%%\" % ((num_delays/dublin_dept_5th_march.shape[0])*100))"
   ]
  },
  {
   "cell_type": "code",
   "execution_count": null,
   "metadata": {},
   "outputs": [],
   "source": [
    "num_cancellations = len(dublin_dept_5th_march[dublin_dept_5th_march['flight_status'] == 'cancelled'])\n",
    "print('The number of cancelled flights on the 5th of March was: %d' % (num_cancellations))"
   ]
  },
  {
   "cell_type": "code",
   "execution_count": null,
   "metadata": {
    "scrolled": true
   },
   "outputs": [],
   "source": [
    "#I can also get the max delays for the day and what times they occur at\n",
    "#Hence I have shown that\n",
    "\n",
    "delays_sorted = dublin_dept_5th_march.sort_values(by='departure.scheduled', ascending=True)\n",
    "delays_sorted.reset_index(drop=True, inplace=True)\n",
    "delays_sorted"
   ]
  },
  {
   "cell_type": "markdown",
   "metadata": {},
   "source": [
    "I will now append 2 data columns to the hourly weather data column"
   ]
  },
  {
   "cell_type": "code",
   "execution_count": null,
   "metadata": {},
   "outputs": [],
   "source": [
    "\n",
    "#If the array is sorted this becomes faster\n",
    "def weather_delay_flights(weather_df, flight_df):\n",
    "    weather_df['Number of Delays'] = ''\n",
    "    weather_df['Average Delay (mins)'] = ''\n",
    "    weather_df['Percentage Flights Delayed'] = ''\n",
    "    weather_df['Total Number of Flights'] = ''\n",
    "    for times in range(len(weather_df)):\n",
    "        num_delays = 0\n",
    "        num_flights = 0\n",
    "        average_delay = 0\n",
    "        delays = []\n",
    "        for index,flight in flight_df.iterrows():\n",
    "            flight_time_temp = (flight['departure.scheduled'].split('T')[1])\n",
    "            flight_time = flight_time_temp.split(':')[0]\n",
    "            if flight_time[0] == '0':\n",
    "                flight_time = flight_time[1:]\n",
    "            if int(times) == int(flight_time) and flight['departure.delay'] > 0:\n",
    "                num_delays +=1\n",
    "                delays.append(flight['departure.delay'])\n",
    "            if int(times) == int(flight_time):\n",
    "                num_flights+=1\n",
    "            if int(flight_time) > int(times):\n",
    "                break\n",
    "            else:\n",
    "                continue\n",
    "        #Inserting to take account for a division by zero\n",
    "        if num_delays > 0:\n",
    "            average_delay = sum(delays)/len(delays)\n",
    "        weather_df.at[time, 'Number of Delays'] = num_delays\n",
    "        weather_df.at[time, 'Average Delay (mins)'] = math.ceil(average_delay)\n",
    "        weather_df.at[time, 'Percentage Flights Delayed'] = round((num_delays/len(flight_df))*100, 2)\n",
    "        weather_df.at[time, 'Total Number of Flights'] = num_flights\n",
    "    return weather_df\n",
    "\n",
    "\n",
    "weather_delays = weather_delay_flights(weather_simple_5th, delays_sorted)"
   ]
  },
  {
   "cell_type": "code",
   "execution_count": null,
   "metadata": {},
   "outputs": [],
   "source": [
    "ax1 = weather_delays['Number of Delays'].plot(kind='bar', color='red' ,figsize=(14,6))\n",
    "ax2 = weather_delays['Wind Speed'].plot(secondary_y=True, ax=ax1)\n",
    "ax3 = weather_delays['Wind Gusts'].plot(secondary_y=True, ax=ax1)\n",
    "lines, labels = ax1.get_legend_handles_labels()\n",
    "lines2, labels2 = ax2.get_legend_handles_labels()\n",
    "lines3, labels3 = ax3.get_legend_handles_labels()\n",
    "ax2.legend(lines + lines2, labels + labels2, loc=0)\n",
    "ax2.set_ylabel('Wind Speed (Kmph)')\n",
    "ax1.set_ylabel('Number of Flights')\n",
    "ax1.set_xlabel('Hours of the Day')\n"
   ]
  },
  {
   "cell_type": "code",
   "execution_count": null,
   "metadata": {},
   "outputs": [],
   "source": [
    "ax1 = weather_delays['Average Delay (mins)'].plot(kind='bar', color='red' ,figsize=(14,6))\n",
    "ax2 = weather_delays['Wind Speed'].plot(secondary_y=True, ax=ax1)\n",
    "ax3 = weather_delays['Wind Gusts'].plot(secondary_y=True, ax=ax1)\n",
    "lines, labels = ax1.get_legend_handles_labels()\n",
    "lines2, labels2 = ax2.get_legend_handles_labels()\n",
    "lines3, labels3 = ax3.get_legend_handles_labels()\n",
    "ax2.legend(lines + lines2, labels + labels2, loc=0)\n",
    "ax2.set_ylabel('Wind Speed (Kmph)')\n",
    "ax1.set_ylabel('Average Delay (mins)')\n",
    "ax1.set_xlabel('Hours of the Day')"
   ]
  },
  {
   "cell_type": "code",
   "execution_count": null,
   "metadata": {},
   "outputs": [],
   "source": [
    "ax1 = weather_delays['Percentage Flights Delayed'].plot(kind='bar', color='red' ,figsize=(14,6))\n",
    "ax2 = weather_delays['Wind Speed'].plot(secondary_y=True, ax=ax1)\n",
    "ax3 = weather_delays['Wind Gusts'].plot(secondary_y=True, ax=ax1)\n",
    "lines, labels = ax1.get_legend_handles_labels()\n",
    "lines2, labels2 = ax2.get_legend_handles_labels()\n",
    "lines3, labels3 = ax3.get_legend_handles_labels()\n",
    "ax2.legend(lines + lines2, labels + labels2, loc=0)\n",
    "ax2.set_ylabel('Wind Speed (Kmph)')\n",
    "ax1.set_ylabel('Percentage')\n",
    "ax1.set_xlabel('Hours of the Day')"
   ]
  },
  {
   "cell_type": "code",
   "execution_count": null,
   "metadata": {},
   "outputs": [],
   "source": [
    "#Dublin_jorge_dept_29thFeb\n",
    "flights_brendan = combine_data_frames('Dublin_brendan_dept', 'Dublin_Storm_Brendan_flights.json')\n",
    "with open('Dublin_Storm_Brendan_flights.json') as brendan_flights:\n",
    "    data = json.load(brendan_flights)\n",
    "    #Normalizing the data\n",
    "    normalized_data = json_normalize(data)\n",
    "    dublin_dept_5th_march = pd.DataFrame(normalized_data)\n",
    "\n",
    "\n",
    "flights_brendan = codeshare_flight_deletion(flights_brendan)\n",
    "flights_brendan.reset_index(drop=True, inplace=True)\n",
    "print(\"Number of Departures after codeshares removed: %d\" % (flights_brendan.shape[0]))\n",
    "flights_brendan= flights_brendan[flights_brendan['flight_status'] != 'scheduled']\n",
    "flights_brendan.reset_index(drop=True, inplace=True)\n",
    "flights_brendan = flights_brendan[['departure.scheduled', 'arrival.airport', 'airline.name', 'departure.delay',\\\n",
    "                                              'flight_status']]\n",
    "flights_brendan.sort_values(by='departure.scheduled', ascending=True)\n",
    "flights_brendan.reset_index(drop=True,inplace=True)\n",
    "\n",
    "delays_brendan = flights_brendan.sort_values(by='departure.scheduled', ascending=True)\n",
    "delays_brendan.reset_index(drop=True, inplace=True)\n",
    "delays_brendan"
   ]
  },
  {
   "cell_type": "code",
   "execution_count": null,
   "metadata": {},
   "outputs": [],
   "source": [
    "\n",
    "num_cancellations = len(flights_brendan[flights_brendan['flight_status'] == 'cancelled'])\n",
    "print('The number of cancelled flights on the 5th of March was: %d' % (num_cancellations))"
   ]
  },
  {
   "cell_type": "code",
   "execution_count": null,
   "metadata": {},
   "outputs": [],
   "source": [
    "delays_brendan"
   ]
  },
  {
   "cell_type": "code",
   "execution_count": null,
   "metadata": {},
   "outputs": [],
   "source": [
    "#DublinWeather_29thFebruary_hourly_19-03_21_47.json\n",
    "with open(\"DublinWeather_13thJanuary_hourly_19-03_21_46.json\", 'r') as file:\n",
    "    data = json.load(file)\n",
    "\n",
    "weather_storm_brendan = json_normalize(data['data']['weather'])\n",
    "weather_storm_brendan_hourly = weather_storm_brendan['hourly']\n",
    "df_brendan_hourly = pd.DataFrame.from_dict(weather_storm_brendan_hourly[0])\n",
    "df_brendan_hourly\n",
    "#Now that I have the dataframe, I have to clean up the data. This involves getting rid of the URL\n",
    "df_brendan_hourly.drop(['weatherIconUrl'], inplace = True, axis = 1)\n",
    "#This now takes the weather Desc and sets the correct wording to it\n",
    "for row in range(len(df_brendan_hourly)):\n",
    "    value = list(df_brendan_hourly['weatherDesc'][row][0].values())[0]\n",
    "    df_brendan_hourly.at[row, 'weatherDesc'] = value\n",
    "\n",
    "for row in range(len(df_brendan_hourly)):\n",
    "    time_day = df_brendan_hourly.iloc[row]['time']\n",
    "    if len(time) < 3:\n",
    "        continue\n",
    "    #Strings are immutable so need to be broken up \n",
    "    new_time = ''.join((time_day[:-2],':',time_daytime[-2:]))\n",
    "    df_brendan_hourly.at[row, 'time'] = new_time\n",
    "\n",
    "#I will now clean the data columns that I do not need temp in Fahrenheit, HeatIndexF, Dewpoints, WindChillF, uvindex, FeelsLikec or F\n",
    "df_brendan_hourly.drop(['tempF', 'windspeedMiles', 'weatherCode', 'HeatIndexF', 'HeatIndexC', 'DewPointC',\\\n",
    "                         'DewPointF', 'WindChillC', 'WindChillF', 'FeelsLikeC', 'FeelsLikeF', 'uvIndex',\\\n",
    "                          'precipInches', 'visibilityMiles', 'pressureInches', 'WindGustMiles', 'humidity',\\\n",
    "                         'winddir16Point'], inplace=True, axis=1)\n",
    "\n",
    "\n",
    "#I will plot the time of the wind and their wind gusts over the day\n",
    "weather_simple_brendan = df_brendan_hourly[['time', 'tempC', 'windspeedKmph', 'WindGustKmph']]\n",
    "weather_simple_brendan = weather_simple_brendan.astype({'tempC': int, 'windspeedKmph': int, 'WindGustKmph':int})\n",
    "weather_simple_brendan.describe()"
   ]
  },
  {
   "cell_type": "code",
   "execution_count": null,
   "metadata": {},
   "outputs": [],
   "source": [
    "mapping = {weather_simple_brendan.columns[2]:'Wind Speed',\n",
    "           weather_simple_brendan.columns[3]: 'Wind Gusts'}\n",
    "weather_simple_brendan = weather_simple_brendan.rename(columns=mapping)\n",
    "\n",
    "\n",
    "weather_simple_brendan = weather_simple_brendan[['Wind Speed', 'Wind Gusts']]\n",
    "plt.figure()\n",
    "ax = weather_simple_brendan.plot(figsize=(6,4))\n",
    "ax.set_xticks(range(0, 24, 1))\n",
    "plt.title(\"Weather Dublin Airport 29th February 2020\\n\")\n",
    "plt.ylabel(\"Windspeed (kmph)\")\n",
    "plt.xlabel(\"Time of Day (hrs)\")\n",
    "plt.show()"
   ]
  },
  {
   "cell_type": "code",
   "execution_count": null,
   "metadata": {},
   "outputs": [],
   "source": [
    "weather_storm_brendan_delays = weather_delay_flights(weather_simple_brendan, delays_brendan)\n",
    "\n",
    "ax1 = weather_storm_brendan_delays['Number of Delays'].plot(kind='bar', color='red' ,figsize=(14,6))\n",
    "ax2 = weather_storm_brendan_delays['Wind Speed'].plot(secondary_y=True, ax=ax1)\n",
    "ax3 = weather_storm_brendan_delays['Wind Gusts'].plot(secondary_y=True, ax=ax1)\n",
    "lines, labels = ax1.get_legend_handles_labels()\n",
    "lines2, labels2 = ax2.get_legend_handles_labels()\n",
    "lines3, labels3 = ax3.get_legend_handles_labels()\n",
    "ax2.legend(lines + lines2, labels + labels2, loc=0)\n",
    "ax2.set_ylabel('Wind Speed (Kmph)')\n",
    "ax1.set_ylabel('Number of Flights')\n",
    "ax1.set_xlabel('Hours of the Day')"
   ]
  },
  {
   "cell_type": "code",
   "execution_count": null,
   "metadata": {},
   "outputs": [],
   "source": [
    "ax1 = weather_storm_brendan_delays['Average Delay (mins)'].plot(kind='bar', color='red' ,figsize=(14,6))\n",
    "ax2 = weather_storm_brendan_delays['Wind Speed'].plot(secondary_y=True, ax=ax1)\n",
    "ax3 = weather_storm_brendan_delays['Wind Gusts'].plot(secondary_y=True, ax=ax1)\n",
    "lines, labels = ax1.get_legend_handles_labels()\n",
    "lines2, labels2 = ax2.get_legend_handles_labels()\n",
    "lines3, labels3 = ax3.get_legend_handles_labels()\n",
    "ax2.legend(lines + lines2, labels + labels2, loc=0)\n",
    "ax2.set_ylabel('Wind Speed (Kmph)')\n",
    "ax1.set_ylabel('Average Delay (mins)')\n",
    "ax1.set_xlabel('Hours of the Day')"
   ]
  },
  {
   "cell_type": "code",
   "execution_count": null,
   "metadata": {},
   "outputs": [],
   "source": [
    "ax1 = weather_storm_brendan_delays['Percentage Flights Delayed'].plot(kind='bar', color='red' ,figsize=(14,6))\n",
    "ax2 = weather_storm_brendan_delays['Wind Speed'].plot(secondary_y=True, ax=ax1)\n",
    "ax3 = weather_storm_brendan_delays['Wind Gusts'].plot(secondary_y=True, ax=ax1)\n",
    "lines, labels = ax1.get_legend_handles_labels()\n",
    "lines2, labels2 = ax2.get_legend_handles_labels()\n",
    "lines3, labels3 = ax3.get_legend_handles_labels()\n",
    "ax2.legend(lines + lines2, labels + labels2, loc=0)\n",
    "ax2.set_ylabel('Wind Speed (Kmph)')\n",
    "ax1.set_ylabel('Percentage of Flights Delayed')\n",
    "ax1.set_xlabel('Hours of the Day')"
   ]
  },
  {
   "cell_type": "code",
   "execution_count": null,
   "metadata": {},
   "outputs": [],
   "source": []
  },
  {
   "cell_type": "code",
   "execution_count": null,
   "metadata": {},
   "outputs": [],
   "source": []
  },
  {
   "cell_type": "code",
   "execution_count": null,
   "metadata": {},
   "outputs": [],
   "source": []
  },
  {
   "cell_type": "code",
   "execution_count": null,
   "metadata": {},
   "outputs": [],
   "source": []
  }
 ],
 "metadata": {
  "kernelspec": {
   "display_name": "Python 3",
   "language": "python",
   "name": "python3"
  },
  "language_info": {
   "codemirror_mode": {
    "name": "ipython",
    "version": 3
   },
   "file_extension": ".py",
   "mimetype": "text/x-python",
   "name": "python",
   "nbconvert_exporter": "python",
   "pygments_lexer": "ipython3",
   "version": "3.7.4"
  }
 },
 "nbformat": 4,
 "nbformat_minor": 2
}
